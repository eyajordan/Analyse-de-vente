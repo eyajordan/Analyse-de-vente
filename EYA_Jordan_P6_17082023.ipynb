{
 "cells": [
  {
   "cell_type": "code",
   "execution_count": 186,
   "id": "037e1567",
   "metadata": {},
   "outputs": [],
   "source": [
    "import numpy as np\n",
    "import pandas as pd\n",
    "from statsmodels.tsa.seasonal import seasonal_decompose\n",
    "import matplotlib.pyplot as plt\n",
    "import seaborn as sns\n",
    "import sklearn as sk\n",
    "from sklearn import ensemble\n",
    "from datetime import datetime\n",
    "import scipy.stats as stats\n",
    "import plotly.express as px\n",
    "import plotly.graph_objects as go\n",
    "\n"
   ]
  },
  {
   "cell_type": "markdown",
   "id": "b02cf79a",
   "metadata": {},
   "source": [
    "# 1. Nettoyage des données"
   ]
  },
  {
   "cell_type": "markdown",
   "id": "debe8680",
   "metadata": {},
   "source": [
    "## 1.1 Import des librairies"
   ]
  },
  {
   "cell_type": "markdown",
   "id": "25e98335",
   "metadata": {},
   "source": [
    "## 1.2 Fichiers Clients"
   ]
  },
  {
   "cell_type": "code",
   "execution_count": 187,
   "id": "085ed4eb",
   "metadata": {},
   "outputs": [],
   "source": [
    "customers = pd.read_csv(\"C:/Users/orlya/Desktop/Projet 6/customers.csv\", sep=';')"
   ]
  },
  {
   "cell_type": "code",
   "execution_count": 188,
   "id": "528733de",
   "metadata": {},
   "outputs": [
    {
     "data": {
      "text/html": [
       "<div>\n",
       "<style scoped>\n",
       "    .dataframe tbody tr th:only-of-type {\n",
       "        vertical-align: middle;\n",
       "    }\n",
       "\n",
       "    .dataframe tbody tr th {\n",
       "        vertical-align: top;\n",
       "    }\n",
       "\n",
       "    .dataframe thead th {\n",
       "        text-align: right;\n",
       "    }\n",
       "</style>\n",
       "<table border=\"1\" class=\"dataframe\">\n",
       "  <thead>\n",
       "    <tr style=\"text-align: right;\">\n",
       "      <th></th>\n",
       "      <th>client_id</th>\n",
       "      <th>sex</th>\n",
       "      <th>birth</th>\n",
       "    </tr>\n",
       "  </thead>\n",
       "  <tbody>\n",
       "    <tr>\n",
       "      <th>0</th>\n",
       "      <td>c_4410</td>\n",
       "      <td>f</td>\n",
       "      <td>1967</td>\n",
       "    </tr>\n",
       "    <tr>\n",
       "      <th>1</th>\n",
       "      <td>c_7839</td>\n",
       "      <td>f</td>\n",
       "      <td>1975</td>\n",
       "    </tr>\n",
       "    <tr>\n",
       "      <th>2</th>\n",
       "      <td>c_1699</td>\n",
       "      <td>f</td>\n",
       "      <td>1984</td>\n",
       "    </tr>\n",
       "    <tr>\n",
       "      <th>3</th>\n",
       "      <td>c_5961</td>\n",
       "      <td>f</td>\n",
       "      <td>1962</td>\n",
       "    </tr>\n",
       "    <tr>\n",
       "      <th>4</th>\n",
       "      <td>c_5320</td>\n",
       "      <td>m</td>\n",
       "      <td>1943</td>\n",
       "    </tr>\n",
       "  </tbody>\n",
       "</table>\n",
       "</div>"
      ],
      "text/plain": [
       "  client_id sex  birth\n",
       "0    c_4410   f   1967\n",
       "1    c_7839   f   1975\n",
       "2    c_1699   f   1984\n",
       "3    c_5961   f   1962\n",
       "4    c_5320   m   1943"
      ]
     },
     "execution_count": 188,
     "metadata": {},
     "output_type": "execute_result"
    }
   ],
   "source": [
    "customers.head()"
   ]
  },
  {
   "cell_type": "code",
   "execution_count": 189,
   "id": "edcb62da",
   "metadata": {},
   "outputs": [
    {
     "data": {
      "text/plain": [
       "(8621, 3)"
      ]
     },
     "execution_count": 189,
     "metadata": {},
     "output_type": "execute_result"
    }
   ],
   "source": [
    "customers.shape"
   ]
  },
  {
   "cell_type": "code",
   "execution_count": 190,
   "id": "55078d03",
   "metadata": {},
   "outputs": [
    {
     "data": {
      "text/html": [
       "<div>\n",
       "<style scoped>\n",
       "    .dataframe tbody tr th:only-of-type {\n",
       "        vertical-align: middle;\n",
       "    }\n",
       "\n",
       "    .dataframe tbody tr th {\n",
       "        vertical-align: top;\n",
       "    }\n",
       "\n",
       "    .dataframe thead th {\n",
       "        text-align: right;\n",
       "    }\n",
       "</style>\n",
       "<table border=\"1\" class=\"dataframe\">\n",
       "  <thead>\n",
       "    <tr style=\"text-align: right;\">\n",
       "      <th></th>\n",
       "      <th>birth</th>\n",
       "    </tr>\n",
       "  </thead>\n",
       "  <tbody>\n",
       "    <tr>\n",
       "      <th>count</th>\n",
       "      <td>8621.000000</td>\n",
       "    </tr>\n",
       "    <tr>\n",
       "      <th>mean</th>\n",
       "      <td>1978.275606</td>\n",
       "    </tr>\n",
       "    <tr>\n",
       "      <th>std</th>\n",
       "      <td>16.917958</td>\n",
       "    </tr>\n",
       "    <tr>\n",
       "      <th>min</th>\n",
       "      <td>1929.000000</td>\n",
       "    </tr>\n",
       "    <tr>\n",
       "      <th>25%</th>\n",
       "      <td>1966.000000</td>\n",
       "    </tr>\n",
       "    <tr>\n",
       "      <th>50%</th>\n",
       "      <td>1979.000000</td>\n",
       "    </tr>\n",
       "    <tr>\n",
       "      <th>75%</th>\n",
       "      <td>1992.000000</td>\n",
       "    </tr>\n",
       "    <tr>\n",
       "      <th>max</th>\n",
       "      <td>2004.000000</td>\n",
       "    </tr>\n",
       "  </tbody>\n",
       "</table>\n",
       "</div>"
      ],
      "text/plain": [
       "             birth\n",
       "count  8621.000000\n",
       "mean   1978.275606\n",
       "std      16.917958\n",
       "min    1929.000000\n",
       "25%    1966.000000\n",
       "50%    1979.000000\n",
       "75%    1992.000000\n",
       "max    2004.000000"
      ]
     },
     "execution_count": 190,
     "metadata": {},
     "output_type": "execute_result"
    }
   ],
   "source": [
    "customers.describe()"
   ]
  },
  {
   "cell_type": "code",
   "execution_count": 191,
   "id": "6526390a",
   "metadata": {},
   "outputs": [
    {
     "name": "stdout",
     "output_type": "stream",
     "text": [
      "<class 'pandas.core.frame.DataFrame'>\n",
      "RangeIndex: 8621 entries, 0 to 8620\n",
      "Data columns (total 3 columns):\n",
      " #   Column     Non-Null Count  Dtype \n",
      "---  ------     --------------  ----- \n",
      " 0   client_id  8621 non-null   object\n",
      " 1   sex        8621 non-null   object\n",
      " 2   birth      8621 non-null   int64 \n",
      "dtypes: int64(1), object(2)\n",
      "memory usage: 202.2+ KB\n"
     ]
    }
   ],
   "source": [
    "customers.info()"
   ]
  },
  {
   "cell_type": "code",
   "execution_count": 192,
   "id": "fc849505",
   "metadata": {},
   "outputs": [],
   "source": [
    "#Les données sont au bon format, il n'y a pas de valeur manquante, ni aberrante, ni doublon et \"client_id\" constitue une clé primaire"
   ]
  },
  {
   "cell_type": "markdown",
   "id": "ef82a4e2",
   "metadata": {},
   "source": [
    "#### 1.2.2 Ajout âge"
   ]
  },
  {
   "cell_type": "code",
   "execution_count": 193,
   "id": "380ff768",
   "metadata": {},
   "outputs": [
    {
     "data": {
      "text/html": [
       "<div>\n",
       "<style scoped>\n",
       "    .dataframe tbody tr th:only-of-type {\n",
       "        vertical-align: middle;\n",
       "    }\n",
       "\n",
       "    .dataframe tbody tr th {\n",
       "        vertical-align: top;\n",
       "    }\n",
       "\n",
       "    .dataframe thead th {\n",
       "        text-align: right;\n",
       "    }\n",
       "</style>\n",
       "<table border=\"1\" class=\"dataframe\">\n",
       "  <thead>\n",
       "    <tr style=\"text-align: right;\">\n",
       "      <th></th>\n",
       "      <th>client_id</th>\n",
       "      <th>sex</th>\n",
       "      <th>birth</th>\n",
       "      <th>age</th>\n",
       "    </tr>\n",
       "  </thead>\n",
       "  <tbody>\n",
       "    <tr>\n",
       "      <th>0</th>\n",
       "      <td>c_4410</td>\n",
       "      <td>f</td>\n",
       "      <td>1967</td>\n",
       "      <td>56</td>\n",
       "    </tr>\n",
       "    <tr>\n",
       "      <th>1</th>\n",
       "      <td>c_7839</td>\n",
       "      <td>f</td>\n",
       "      <td>1975</td>\n",
       "      <td>48</td>\n",
       "    </tr>\n",
       "    <tr>\n",
       "      <th>2</th>\n",
       "      <td>c_1699</td>\n",
       "      <td>f</td>\n",
       "      <td>1984</td>\n",
       "      <td>39</td>\n",
       "    </tr>\n",
       "    <tr>\n",
       "      <th>3</th>\n",
       "      <td>c_5961</td>\n",
       "      <td>f</td>\n",
       "      <td>1962</td>\n",
       "      <td>61</td>\n",
       "    </tr>\n",
       "    <tr>\n",
       "      <th>4</th>\n",
       "      <td>c_5320</td>\n",
       "      <td>m</td>\n",
       "      <td>1943</td>\n",
       "      <td>80</td>\n",
       "    </tr>\n",
       "  </tbody>\n",
       "</table>\n",
       "</div>"
      ],
      "text/plain": [
       "  client_id sex  birth  age\n",
       "0    c_4410   f   1967   56\n",
       "1    c_7839   f   1975   48\n",
       "2    c_1699   f   1984   39\n",
       "3    c_5961   f   1962   61\n",
       "4    c_5320   m   1943   80"
      ]
     },
     "execution_count": 193,
     "metadata": {},
     "output_type": "execute_result"
    }
   ],
   "source": [
    "year = datetime.now().year\n",
    "customers['age'] = year - customers['birth']\n",
    "customers.head()"
   ]
  },
  {
   "cell_type": "code",
   "execution_count": 194,
   "id": "bfea4ab2",
   "metadata": {},
   "outputs": [],
   "source": [
    "#L'âge est une variable quantitative continue, arrondie à l'entier supérieur. Pour représenter une varible quantitative continue, on utilise l'histogramme qui permet d'agréger les valeurs. On représente donc des classes (intervalles) où la largeur du rectangle représente la largeur de la classe."
   ]
  },
  {
   "cell_type": "code",
   "execution_count": 195,
   "id": "0bd3742e",
   "metadata": {},
   "outputs": [
    {
     "data": {
      "image/png": "[encoded data removed]",
      "text/plain": [
       "<Figure size 432x288 with 1 Axes>"
      ]
     },
     "metadata": {
      "needs_background": "light"
     },
     "output_type": "display_data"
    }
   ],
   "source": [
    "plt.hist(customers['age'])\n",
    "plt.xlabel('Age') \n",
    "plt.ylabel(\"Nb de clients\")\n",
    "plt.title('Répartition des clients par âge')\n",
    "plt.show()"
   ]
  },
  {
   "cell_type": "markdown",
   "id": "3d7a7af6",
   "metadata": {},
   "source": [
    "#### 1.2.3 Ajout tranche d'âge"
   ]
  },
  {
   "cell_type": "code",
   "execution_count": 196,
   "id": "8d98f4e1",
   "metadata": {},
   "outputs": [
    {
     "data": {
      "text/html": [
       "<div>\n",
       "<style scoped>\n",
       "    .dataframe tbody tr th:only-of-type {\n",
       "        vertical-align: middle;\n",
       "    }\n",
       "\n",
       "    .dataframe tbody tr th {\n",
       "        vertical-align: top;\n",
       "    }\n",
       "\n",
       "    .dataframe thead th {\n",
       "        text-align: right;\n",
       "    }\n",
       "</style>\n",
       "<table border=\"1\" class=\"dataframe\">\n",
       "  <thead>\n",
       "    <tr style=\"text-align: right;\">\n",
       "      <th></th>\n",
       "      <th>client_id</th>\n",
       "      <th>sex</th>\n",
       "      <th>birth</th>\n",
       "      <th>age</th>\n",
       "      <th>tranche_age</th>\n",
       "    </tr>\n",
       "  </thead>\n",
       "  <tbody>\n",
       "    <tr>\n",
       "      <th>0</th>\n",
       "      <td>c_4410</td>\n",
       "      <td>f</td>\n",
       "      <td>1967</td>\n",
       "      <td>56</td>\n",
       "      <td>50-59</td>\n",
       "    </tr>\n",
       "    <tr>\n",
       "      <th>1</th>\n",
       "      <td>c_7839</td>\n",
       "      <td>f</td>\n",
       "      <td>1975</td>\n",
       "      <td>48</td>\n",
       "      <td>40-49</td>\n",
       "    </tr>\n",
       "    <tr>\n",
       "      <th>2</th>\n",
       "      <td>c_1699</td>\n",
       "      <td>f</td>\n",
       "      <td>1984</td>\n",
       "      <td>39</td>\n",
       "      <td>30-39</td>\n",
       "    </tr>\n",
       "    <tr>\n",
       "      <th>3</th>\n",
       "      <td>c_5961</td>\n",
       "      <td>f</td>\n",
       "      <td>1962</td>\n",
       "      <td>61</td>\n",
       "      <td>60-69</td>\n",
       "    </tr>\n",
       "    <tr>\n",
       "      <th>4</th>\n",
       "      <td>c_5320</td>\n",
       "      <td>m</td>\n",
       "      <td>1943</td>\n",
       "      <td>80</td>\n",
       "      <td>80-89</td>\n",
       "    </tr>\n",
       "  </tbody>\n",
       "</table>\n",
       "</div>"
      ],
      "text/plain": [
       "  client_id sex  birth  age tranche_age\n",
       "0    c_4410   f   1967   56       50-59\n",
       "1    c_7839   f   1975   48       40-49\n",
       "2    c_1699   f   1984   39       30-39\n",
       "3    c_5961   f   1962   61       60-69\n",
       "4    c_5320   m   1943   80       80-89"
      ]
     },
     "execution_count": 196,
     "metadata": {},
     "output_type": "execute_result"
    }
   ],
   "source": [
    "bin_labels=labels=['18-19','20-29','30-39','40-49','50-59','60-69','70-79','80-89','90-100']\n",
    "customers['tranche_age'] = pd.cut(x=customers['age'], bins=[10,19,29,39,49,59,69,79,89,99],labels=bin_labels)\n",
    "customers.head()"
   ]
  },
  {
   "cell_type": "markdown",
   "id": "2ee8659b",
   "metadata": {},
   "source": [
    " ## 1.3 Fichiers Produits"
   ]
  },
  {
   "cell_type": "code",
   "execution_count": 197,
   "id": "b2000900",
   "metadata": {},
   "outputs": [],
   "source": [
    "products = pd.read_csv('C:/Users/orlya/Desktop/Projet 6/products.csv', sep=';')"
   ]
  },
  {
   "cell_type": "code",
   "execution_count": 198,
   "id": "1b64903b",
   "metadata": {},
   "outputs": [
    {
     "data": {
      "text/html": [
       "<div>\n",
       "<style scoped>\n",
       "    .dataframe tbody tr th:only-of-type {\n",
       "        vertical-align: middle;\n",
       "    }\n",
       "\n",
       "    .dataframe tbody tr th {\n",
       "        vertical-align: top;\n",
       "    }\n",
       "\n",
       "    .dataframe thead th {\n",
       "        text-align: right;\n",
       "    }\n",
       "</style>\n",
       "<table border=\"1\" class=\"dataframe\">\n",
       "  <thead>\n",
       "    <tr style=\"text-align: right;\">\n",
       "      <th></th>\n",
       "      <th>id_prod</th>\n",
       "      <th>price</th>\n",
       "      <th>categ</th>\n",
       "    </tr>\n",
       "  </thead>\n",
       "  <tbody>\n",
       "    <tr>\n",
       "      <th>0</th>\n",
       "      <td>0_1421</td>\n",
       "      <td>19.99</td>\n",
       "      <td>0</td>\n",
       "    </tr>\n",
       "    <tr>\n",
       "      <th>1</th>\n",
       "      <td>0_1368</td>\n",
       "      <td>5.13</td>\n",
       "      <td>0</td>\n",
       "    </tr>\n",
       "    <tr>\n",
       "      <th>2</th>\n",
       "      <td>0_731</td>\n",
       "      <td>17.99</td>\n",
       "      <td>0</td>\n",
       "    </tr>\n",
       "    <tr>\n",
       "      <th>3</th>\n",
       "      <td>1_587</td>\n",
       "      <td>4.99</td>\n",
       "      <td>1</td>\n",
       "    </tr>\n",
       "    <tr>\n",
       "      <th>4</th>\n",
       "      <td>0_1507</td>\n",
       "      <td>3.99</td>\n",
       "      <td>0</td>\n",
       "    </tr>\n",
       "  </tbody>\n",
       "</table>\n",
       "</div>"
      ],
      "text/plain": [
       "  id_prod  price  categ\n",
       "0  0_1421  19.99      0\n",
       "1  0_1368   5.13      0\n",
       "2   0_731  17.99      0\n",
       "3   1_587   4.99      1\n",
       "4  0_1507   3.99      0"
      ]
     },
     "execution_count": 198,
     "metadata": {},
     "output_type": "execute_result"
    }
   ],
   "source": [
    "products.head()"
   ]
  },
  {
   "cell_type": "code",
   "execution_count": 199,
   "id": "55c049e0",
   "metadata": {},
   "outputs": [
    {
     "data": {
      "text/plain": [
       "(3286, 3)"
      ]
     },
     "execution_count": 199,
     "metadata": {},
     "output_type": "execute_result"
    }
   ],
   "source": [
    "products.shape"
   ]
  },
  {
   "cell_type": "code",
   "execution_count": 200,
   "id": "89f5b3bd",
   "metadata": {},
   "outputs": [
    {
     "name": "stdout",
     "output_type": "stream",
     "text": [
      "<class 'pandas.core.frame.DataFrame'>\n",
      "RangeIndex: 3286 entries, 0 to 3285\n",
      "Data columns (total 3 columns):\n",
      " #   Column   Non-Null Count  Dtype  \n",
      "---  ------   --------------  -----  \n",
      " 0   id_prod  3286 non-null   object \n",
      " 1   price    3286 non-null   float64\n",
      " 2   categ    3286 non-null   int64  \n",
      "dtypes: float64(1), int64(1), object(1)\n",
      "memory usage: 77.1+ KB\n"
     ]
    }
   ],
   "source": [
    "products.info()\n"
   ]
  },
  {
   "cell_type": "code",
   "execution_count": 201,
   "id": "86278b0a",
   "metadata": {},
   "outputs": [
    {
     "data": {
      "text/html": [
       "<div>\n",
       "<style scoped>\n",
       "    .dataframe tbody tr th:only-of-type {\n",
       "        vertical-align: middle;\n",
       "    }\n",
       "\n",
       "    .dataframe tbody tr th {\n",
       "        vertical-align: top;\n",
       "    }\n",
       "\n",
       "    .dataframe thead th {\n",
       "        text-align: right;\n",
       "    }\n",
       "</style>\n",
       "<table border=\"1\" class=\"dataframe\">\n",
       "  <thead>\n",
       "    <tr style=\"text-align: right;\">\n",
       "      <th></th>\n",
       "      <th>price</th>\n",
       "      <th>categ</th>\n",
       "    </tr>\n",
       "  </thead>\n",
       "  <tbody>\n",
       "    <tr>\n",
       "      <th>count</th>\n",
       "      <td>3286.000000</td>\n",
       "      <td>3286.000000</td>\n",
       "    </tr>\n",
       "    <tr>\n",
       "      <th>mean</th>\n",
       "      <td>21.863597</td>\n",
       "      <td>0.370359</td>\n",
       "    </tr>\n",
       "    <tr>\n",
       "      <th>std</th>\n",
       "      <td>29.849786</td>\n",
       "      <td>0.615446</td>\n",
       "    </tr>\n",
       "    <tr>\n",
       "      <th>min</th>\n",
       "      <td>0.620000</td>\n",
       "      <td>0.000000</td>\n",
       "    </tr>\n",
       "    <tr>\n",
       "      <th>25%</th>\n",
       "      <td>6.990000</td>\n",
       "      <td>0.000000</td>\n",
       "    </tr>\n",
       "    <tr>\n",
       "      <th>50%</th>\n",
       "      <td>13.075000</td>\n",
       "      <td>0.000000</td>\n",
       "    </tr>\n",
       "    <tr>\n",
       "      <th>75%</th>\n",
       "      <td>22.990000</td>\n",
       "      <td>1.000000</td>\n",
       "    </tr>\n",
       "    <tr>\n",
       "      <th>max</th>\n",
       "      <td>300.000000</td>\n",
       "      <td>2.000000</td>\n",
       "    </tr>\n",
       "  </tbody>\n",
       "</table>\n",
       "</div>"
      ],
      "text/plain": [
       "             price        categ\n",
       "count  3286.000000  3286.000000\n",
       "mean     21.863597     0.370359\n",
       "std      29.849786     0.615446\n",
       "min       0.620000     0.000000\n",
       "25%       6.990000     0.000000\n",
       "50%      13.075000     0.000000\n",
       "75%      22.990000     1.000000\n",
       "max     300.000000     2.000000"
      ]
     },
     "execution_count": 201,
     "metadata": {},
     "output_type": "execute_result"
    }
   ],
   "source": [
    "products.describe()"
   ]
  },
  {
   "cell_type": "markdown",
   "id": "1905210f",
   "metadata": {},
   "source": [
    "#### 1.3.1 Conversion de la categ en format \"object\""
   ]
  },
  {
   "cell_type": "code",
   "execution_count": 202,
   "id": "31feb6d5",
   "metadata": {},
   "outputs": [],
   "source": [
    "products['categ'] = products['categ'].astype('str')"
   ]
  },
  {
   "cell_type": "code",
   "execution_count": 203,
   "id": "b4e9638e",
   "metadata": {},
   "outputs": [
    {
     "data": {
      "text/plain": [
       "id_prod     object\n",
       "price      float64\n",
       "categ       object\n",
       "dtype: object"
      ]
     },
     "execution_count": 203,
     "metadata": {},
     "output_type": "execute_result"
    }
   ],
   "source": [
    "products.dtypes"
   ]
  },
  {
   "cell_type": "markdown",
   "id": "b873843d",
   "metadata": {},
   "source": [
    "#### 1.3.2 Camembert Répartition des livres par catégorie"
   ]
  },
  {
   "cell_type": "code",
   "execution_count": 204,
   "id": "6e1e9393",
   "metadata": {},
   "outputs": [
    {
     "data": {
      "image/png": "[encoded data removed]",
      "text/plain": [
       "<Figure size 576x288 with 1 Axes>"
      ]
     },
     "metadata": {},
     "output_type": "display_data"
    }
   ],
   "source": [
    "# camembert\n",
    "plt.figure(figsize=(8,4))\n",
    "products[\"categ\"].value_counts(normalize=True).plot(kind='pie')\n",
    "plt.axis('equal') \n",
    "plt.title('Répartition du nb de références de livres par catégorie')\n",
    "plt.legend()\n",
    "plt.show()"
   ]
  },
  {
   "cell_type": "code",
   "execution_count": 205,
   "id": "d0f6712e",
   "metadata": {},
   "outputs": [
    {
     "data": {
      "text/plain": [
       "categ\n",
       "0    2308\n",
       "1     739\n",
       "2     239\n",
       "Name: id_prod, dtype: int64"
      ]
     },
     "execution_count": 205,
     "metadata": {},
     "output_type": "execute_result"
    }
   ],
   "source": [
    "nbr_ref_categ = products.groupby([\"categ\"])[\"id_prod\"].count()\n",
    "nbr_ref_categ"
   ]
  },
  {
   "cell_type": "code",
   "execution_count": 206,
   "id": "d397fd0d",
   "metadata": {},
   "outputs": [
    {
     "data": {
      "image/png": "[encoded data removed]",
      "text/plain": [
       "<Figure size 432x288 with 1 Axes>"
      ]
     },
     "metadata": {},
     "output_type": "display_data"
    }
   ],
   "source": [
    "# Graphique:\n",
    "fig1, ax1 = plt.subplots()\n",
    "ax1.pie(nbr_ref_categ,\n",
    "        labels=[\"0\",\"1\",\"2\"],\n",
    "        autopct=\"%1.1f%%\")\n",
    "ax1.axis(\"equal\")\n",
    "plt.title(\"Répartition des produits par catégorie\")\n",
    "plt.legend()\n",
    "plt.show()"
   ]
  },
  {
   "cell_type": "markdown",
   "id": "983a435a",
   "metadata": {},
   "source": [
    "#### 1.3.3 Boxplot des livres par catégorie"
   ]
  },
  {
   "cell_type": "code",
   "execution_count": 207,
   "id": "fcdf2e79",
   "metadata": {},
   "outputs": [
    {
     "name": "stderr",
     "output_type": "stream",
     "text": [
      "No handles with labels found to put in legend.\n"
     ]
    },
    {
     "data": {
      "image/png": "[encoded data removed]",
      "text/plain": [
       "<Figure size 576x288 with 1 Axes>"
      ]
     },
     "metadata": {
      "needs_background": "light"
     },
     "output_type": "display_data"
    }
   ],
   "source": [
    "# boxplot par categorie de références de livres\n",
    "plt.figure(figsize=(8,4))\n",
    "sns.boxplot(x = \"categ\", y = \"price\", data = products)\n",
    "plt.xlabel('Catégorie de produits') \n",
    "plt.ylabel(\"Prix\")\n",
    "plt.title(\"Fourchette de prix des produits par catégorie\")\n",
    "plt.legend()\n",
    "plt.show() "
   ]
  },
  {
   "cell_type": "code",
   "execution_count": 208,
   "id": "474d1657",
   "metadata": {},
   "outputs": [
    {
     "name": "stdout",
     "output_type": "stream",
     "text": [
      "Nombre de références par catégorie:\n",
      " categ\n",
      "0    2308\n",
      "1     739\n",
      "2     239\n",
      "Name: id_prod, dtype: int64\n",
      "Prix moyen d'un livre selon sa catégorie:\n",
      " categ\n",
      "0     11.732795\n",
      "1     25.531421\n",
      "2    108.354686\n",
      "Name: price, dtype: float64\n",
      "Prix médian d'un livre selon sa catégorie:\n",
      " categ\n",
      "0     10.32\n",
      "1     22.99\n",
      "2    101.99\n",
      "Name: price, dtype: float64\n"
     ]
    }
   ],
   "source": [
    "# Nb de références par categorie:\n",
    "nb_ref_categ = products.groupby([\"categ\"])[\"id_prod\"].count()\n",
    "\n",
    "print(\"Nombre de références par catégorie:\\n\", nb_ref_categ)\n",
    "\n",
    "# Prix moyen par categorie:\n",
    "prix_categ = products.groupby([\"categ\"])[\"price\"].mean()\n",
    "print(\"Prix moyen d'un livre selon sa catégorie:\\n\",prix_categ)\n",
    "\n",
    "# Prix median par categorie:\n",
    "prix_categ = products.groupby([\"categ\"])[\"price\"].median()\n",
    "print(\"Prix médian d'un livre selon sa catégorie:\\n\",prix_categ)"
   ]
  },
  {
   "cell_type": "markdown",
   "id": "fa447dff",
   "metadata": {},
   "source": [
    "## 1.4 Fichier transactions"
   ]
  },
  {
   "cell_type": "code",
   "execution_count": 209,
   "id": "1b3048d8",
   "metadata": {},
   "outputs": [],
   "source": [
    "transactions = pd.read_csv('C:/Users/orlya/Desktop/Projet 6/Transactions.csv', sep=';')"
   ]
  },
  {
   "cell_type": "code",
   "execution_count": 210,
   "id": "90fd1821",
   "metadata": {},
   "outputs": [
    {
     "data": {
      "text/html": [
       "<div>\n",
       "<style scoped>\n",
       "    .dataframe tbody tr th:only-of-type {\n",
       "        vertical-align: middle;\n",
       "    }\n",
       "\n",
       "    .dataframe tbody tr th {\n",
       "        vertical-align: top;\n",
       "    }\n",
       "\n",
       "    .dataframe thead th {\n",
       "        text-align: right;\n",
       "    }\n",
       "</style>\n",
       "<table border=\"1\" class=\"dataframe\">\n",
       "  <thead>\n",
       "    <tr style=\"text-align: right;\">\n",
       "      <th></th>\n",
       "      <th>id_prod</th>\n",
       "      <th>date</th>\n",
       "      <th>session_id</th>\n",
       "      <th>client_id</th>\n",
       "    </tr>\n",
       "  </thead>\n",
       "  <tbody>\n",
       "    <tr>\n",
       "      <th>0</th>\n",
       "      <td>0_1259</td>\n",
       "      <td>2021-03-01 00:01:07.843138</td>\n",
       "      <td>s_1</td>\n",
       "      <td>c_329</td>\n",
       "    </tr>\n",
       "    <tr>\n",
       "      <th>1</th>\n",
       "      <td>0_1390</td>\n",
       "      <td>2021-03-01 00:02:26.047414</td>\n",
       "      <td>s_2</td>\n",
       "      <td>c_664</td>\n",
       "    </tr>\n",
       "    <tr>\n",
       "      <th>2</th>\n",
       "      <td>0_1352</td>\n",
       "      <td>2021-03-01 00:02:38.311413</td>\n",
       "      <td>s_3</td>\n",
       "      <td>c_580</td>\n",
       "    </tr>\n",
       "    <tr>\n",
       "      <th>3</th>\n",
       "      <td>0_1458</td>\n",
       "      <td>2021-03-01 00:04:54.559692</td>\n",
       "      <td>s_4</td>\n",
       "      <td>c_7912</td>\n",
       "    </tr>\n",
       "    <tr>\n",
       "      <th>4</th>\n",
       "      <td>0_1358</td>\n",
       "      <td>2021-03-01 00:05:18.801198</td>\n",
       "      <td>s_5</td>\n",
       "      <td>c_2033</td>\n",
       "    </tr>\n",
       "  </tbody>\n",
       "</table>\n",
       "</div>"
      ],
      "text/plain": [
       "  id_prod                        date session_id client_id\n",
       "0  0_1259  2021-03-01 00:01:07.843138        s_1     c_329\n",
       "1  0_1390  2021-03-01 00:02:26.047414        s_2     c_664\n",
       "2  0_1352  2021-03-01 00:02:38.311413        s_3     c_580\n",
       "3  0_1458  2021-03-01 00:04:54.559692        s_4    c_7912\n",
       "4  0_1358  2021-03-01 00:05:18.801198        s_5    c_2033"
      ]
     },
     "execution_count": 210,
     "metadata": {},
     "output_type": "execute_result"
    }
   ],
   "source": [
    "transactions.head()"
   ]
  },
  {
   "cell_type": "code",
   "execution_count": 211,
   "id": "48093fd2",
   "metadata": {},
   "outputs": [
    {
     "data": {
      "text/plain": [
       "(687534, 4)"
      ]
     },
     "execution_count": 211,
     "metadata": {},
     "output_type": "execute_result"
    }
   ],
   "source": [
    "transactions.shape"
   ]
  },
  {
   "cell_type": "code",
   "execution_count": 212,
   "id": "5048d6f4",
   "metadata": {},
   "outputs": [
    {
     "data": {
      "text/plain": [
       "id_prod       object\n",
       "date          object\n",
       "session_id    object\n",
       "client_id     object\n",
       "dtype: object"
      ]
     },
     "execution_count": 212,
     "metadata": {},
     "output_type": "execute_result"
    }
   ],
   "source": [
    "transactions.dtypes"
   ]
  },
  {
   "cell_type": "markdown",
   "id": "f7cdb974",
   "metadata": {},
   "source": [
    "#### 1.4.1  Création d'une clé primaire"
   ]
  },
  {
   "cell_type": "markdown",
   "id": "314be893",
   "metadata": {},
   "source": [
    "Création d'une clé composite qui concatène le client_id et la date \n"
   ]
  },
  {
   "cell_type": "code",
   "execution_count": 213,
   "id": "0c958351",
   "metadata": {},
   "outputs": [],
   "source": [
    "transactions['clé composite'] = transactions['client_id'].str.cat(transactions['date'], na_rep='' )"
   ]
  },
  {
   "cell_type": "code",
   "execution_count": 214,
   "id": "866859d2",
   "metadata": {},
   "outputs": [
    {
     "data": {
      "text/plain": [
       "(687534, 5)"
      ]
     },
     "execution_count": 214,
     "metadata": {},
     "output_type": "execute_result"
    }
   ],
   "source": [
    "transactions.shape"
   ]
  },
  {
   "cell_type": "markdown",
   "id": "c3c4e258",
   "metadata": {},
   "source": [
    "#### 1.4.2  Ajout d'une colonne \"année_mois\""
   ]
  },
  {
   "cell_type": "code",
   "execution_count": 215,
   "id": "2f7405d1",
   "metadata": {},
   "outputs": [],
   "source": [
    "transactions['année_mois'] = transactions['date'].str[0:7]"
   ]
  },
  {
   "cell_type": "code",
   "execution_count": 216,
   "id": "6620c631",
   "metadata": {},
   "outputs": [
    {
     "data": {
      "text/html": [
       "<div>\n",
       "<style scoped>\n",
       "    .dataframe tbody tr th:only-of-type {\n",
       "        vertical-align: middle;\n",
       "    }\n",
       "\n",
       "    .dataframe tbody tr th {\n",
       "        vertical-align: top;\n",
       "    }\n",
       "\n",
       "    .dataframe thead th {\n",
       "        text-align: right;\n",
       "    }\n",
       "</style>\n",
       "<table border=\"1\" class=\"dataframe\">\n",
       "  <thead>\n",
       "    <tr style=\"text-align: right;\">\n",
       "      <th></th>\n",
       "      <th>id_prod</th>\n",
       "      <th>date</th>\n",
       "      <th>session_id</th>\n",
       "      <th>client_id</th>\n",
       "      <th>clé composite</th>\n",
       "      <th>année_mois</th>\n",
       "    </tr>\n",
       "  </thead>\n",
       "  <tbody>\n",
       "    <tr>\n",
       "      <th>0</th>\n",
       "      <td>0_1259</td>\n",
       "      <td>2021-03-01 00:01:07.843138</td>\n",
       "      <td>s_1</td>\n",
       "      <td>c_329</td>\n",
       "      <td>c_3292021-03-01 00:01:07.843138</td>\n",
       "      <td>2021-03</td>\n",
       "    </tr>\n",
       "    <tr>\n",
       "      <th>1</th>\n",
       "      <td>0_1390</td>\n",
       "      <td>2021-03-01 00:02:26.047414</td>\n",
       "      <td>s_2</td>\n",
       "      <td>c_664</td>\n",
       "      <td>c_6642021-03-01 00:02:26.047414</td>\n",
       "      <td>2021-03</td>\n",
       "    </tr>\n",
       "    <tr>\n",
       "      <th>2</th>\n",
       "      <td>0_1352</td>\n",
       "      <td>2021-03-01 00:02:38.311413</td>\n",
       "      <td>s_3</td>\n",
       "      <td>c_580</td>\n",
       "      <td>c_5802021-03-01 00:02:38.311413</td>\n",
       "      <td>2021-03</td>\n",
       "    </tr>\n",
       "    <tr>\n",
       "      <th>3</th>\n",
       "      <td>0_1458</td>\n",
       "      <td>2021-03-01 00:04:54.559692</td>\n",
       "      <td>s_4</td>\n",
       "      <td>c_7912</td>\n",
       "      <td>c_79122021-03-01 00:04:54.559692</td>\n",
       "      <td>2021-03</td>\n",
       "    </tr>\n",
       "    <tr>\n",
       "      <th>4</th>\n",
       "      <td>0_1358</td>\n",
       "      <td>2021-03-01 00:05:18.801198</td>\n",
       "      <td>s_5</td>\n",
       "      <td>c_2033</td>\n",
       "      <td>c_20332021-03-01 00:05:18.801198</td>\n",
       "      <td>2021-03</td>\n",
       "    </tr>\n",
       "  </tbody>\n",
       "</table>\n",
       "</div>"
      ],
      "text/plain": [
       "  id_prod                        date session_id client_id  \\\n",
       "0  0_1259  2021-03-01 00:01:07.843138        s_1     c_329   \n",
       "1  0_1390  2021-03-01 00:02:26.047414        s_2     c_664   \n",
       "2  0_1352  2021-03-01 00:02:38.311413        s_3     c_580   \n",
       "3  0_1458  2021-03-01 00:04:54.559692        s_4    c_7912   \n",
       "4  0_1358  2021-03-01 00:05:18.801198        s_5    c_2033   \n",
       "\n",
       "                      clé composite année_mois  \n",
       "0   c_3292021-03-01 00:01:07.843138    2021-03  \n",
       "1   c_6642021-03-01 00:02:26.047414    2021-03  \n",
       "2   c_5802021-03-01 00:02:38.311413    2021-03  \n",
       "3  c_79122021-03-01 00:04:54.559692    2021-03  \n",
       "4  c_20332021-03-01 00:05:18.801198    2021-03  "
      ]
     },
     "execution_count": 216,
     "metadata": {},
     "output_type": "execute_result"
    }
   ],
   "source": [
    "transactions.head()"
   ]
  },
  {
   "cell_type": "code",
   "execution_count": 217,
   "id": "874577ac",
   "metadata": {},
   "outputs": [
    {
     "data": {
      "text/plain": [
       "(687534, 6)"
      ]
     },
     "execution_count": 217,
     "metadata": {},
     "output_type": "execute_result"
    }
   ],
   "source": [
    "transactions.shape"
   ]
  },
  {
   "cell_type": "markdown",
   "id": "27914d97",
   "metadata": {},
   "source": [
    "#### 1.4.3 Ajout de l'année, du mois et du jour"
   ]
  },
  {
   "cell_type": "markdown",
   "id": "97765302",
   "metadata": {},
   "source": [
    "\"transactions['année'] = pd.DatetimeIndex(transactions['date']).year\n",
    "transactions['mois'] = pd.DatetimeIndex(transactions['date']).month\n",
    "transactions['jour'] = pd.DatetimeIndex(transactions['date']).day   \n",
    "transactions.head()"
   ]
  },
  {
   "cell_type": "markdown",
   "id": "45088a28",
   "metadata": {},
   "source": [
    "#### 1.4.4 Conversion au format datetime"
   ]
  },
  {
   "cell_type": "code",
   "execution_count": 218,
   "id": "c3ac84d2",
   "metadata": {},
   "outputs": [
    {
     "data": {
      "text/html": [
       "<div>\n",
       "<style scoped>\n",
       "    .dataframe tbody tr th:only-of-type {\n",
       "        vertical-align: middle;\n",
       "    }\n",
       "\n",
       "    .dataframe tbody tr th {\n",
       "        vertical-align: top;\n",
       "    }\n",
       "\n",
       "    .dataframe thead th {\n",
       "        text-align: right;\n",
       "    }\n",
       "</style>\n",
       "<table border=\"1\" class=\"dataframe\">\n",
       "  <thead>\n",
       "    <tr style=\"text-align: right;\">\n",
       "      <th></th>\n",
       "      <th>id_prod</th>\n",
       "      <th>date</th>\n",
       "      <th>session_id</th>\n",
       "      <th>client_id</th>\n",
       "      <th>clé composite</th>\n",
       "      <th>année_mois</th>\n",
       "      <th>date2</th>\n",
       "    </tr>\n",
       "  </thead>\n",
       "  <tbody>\n",
       "    <tr>\n",
       "      <th>0</th>\n",
       "      <td>0_1259</td>\n",
       "      <td>2021-03-01 00:01:07.843138</td>\n",
       "      <td>s_1</td>\n",
       "      <td>c_329</td>\n",
       "      <td>c_3292021-03-01 00:01:07.843138</td>\n",
       "      <td>2021-03</td>\n",
       "      <td>2021-03-01</td>\n",
       "    </tr>\n",
       "    <tr>\n",
       "      <th>1</th>\n",
       "      <td>0_1390</td>\n",
       "      <td>2021-03-01 00:02:26.047414</td>\n",
       "      <td>s_2</td>\n",
       "      <td>c_664</td>\n",
       "      <td>c_6642021-03-01 00:02:26.047414</td>\n",
       "      <td>2021-03</td>\n",
       "      <td>2021-03-01</td>\n",
       "    </tr>\n",
       "    <tr>\n",
       "      <th>2</th>\n",
       "      <td>0_1352</td>\n",
       "      <td>2021-03-01 00:02:38.311413</td>\n",
       "      <td>s_3</td>\n",
       "      <td>c_580</td>\n",
       "      <td>c_5802021-03-01 00:02:38.311413</td>\n",
       "      <td>2021-03</td>\n",
       "      <td>2021-03-01</td>\n",
       "    </tr>\n",
       "    <tr>\n",
       "      <th>3</th>\n",
       "      <td>0_1458</td>\n",
       "      <td>2021-03-01 00:04:54.559692</td>\n",
       "      <td>s_4</td>\n",
       "      <td>c_7912</td>\n",
       "      <td>c_79122021-03-01 00:04:54.559692</td>\n",
       "      <td>2021-03</td>\n",
       "      <td>2021-03-01</td>\n",
       "    </tr>\n",
       "    <tr>\n",
       "      <th>4</th>\n",
       "      <td>0_1358</td>\n",
       "      <td>2021-03-01 00:05:18.801198</td>\n",
       "      <td>s_5</td>\n",
       "      <td>c_2033</td>\n",
       "      <td>c_20332021-03-01 00:05:18.801198</td>\n",
       "      <td>2021-03</td>\n",
       "      <td>2021-03-01</td>\n",
       "    </tr>\n",
       "    <tr>\n",
       "      <th>...</th>\n",
       "      <td>...</td>\n",
       "      <td>...</td>\n",
       "      <td>...</td>\n",
       "      <td>...</td>\n",
       "      <td>...</td>\n",
       "      <td>...</td>\n",
       "      <td>...</td>\n",
       "    </tr>\n",
       "    <tr>\n",
       "      <th>687529</th>\n",
       "      <td>1_508</td>\n",
       "      <td>2023-02-28 23:49:03.148402</td>\n",
       "      <td>s_348444</td>\n",
       "      <td>c_3573</td>\n",
       "      <td>c_35732023-02-28 23:49:03.148402</td>\n",
       "      <td>2023-02</td>\n",
       "      <td>2023-02-28</td>\n",
       "    </tr>\n",
       "    <tr>\n",
       "      <th>687530</th>\n",
       "      <td>2_37</td>\n",
       "      <td>2023-02-28 23:51:29.318531</td>\n",
       "      <td>s_348445</td>\n",
       "      <td>c_50</td>\n",
       "      <td>c_502023-02-28 23:51:29.318531</td>\n",
       "      <td>2023-02</td>\n",
       "      <td>2023-02-28</td>\n",
       "    </tr>\n",
       "    <tr>\n",
       "      <th>687531</th>\n",
       "      <td>1_695</td>\n",
       "      <td>2023-02-28 23:53:18.929676</td>\n",
       "      <td>s_348446</td>\n",
       "      <td>c_488</td>\n",
       "      <td>c_4882023-02-28 23:53:18.929676</td>\n",
       "      <td>2023-02</td>\n",
       "      <td>2023-02-28</td>\n",
       "    </tr>\n",
       "    <tr>\n",
       "      <th>687532</th>\n",
       "      <td>0_1547</td>\n",
       "      <td>2023-02-28 23:58:00.107815</td>\n",
       "      <td>s_348447</td>\n",
       "      <td>c_4848</td>\n",
       "      <td>c_48482023-02-28 23:58:00.107815</td>\n",
       "      <td>2023-02</td>\n",
       "      <td>2023-02-28</td>\n",
       "    </tr>\n",
       "    <tr>\n",
       "      <th>687533</th>\n",
       "      <td>0_1398</td>\n",
       "      <td>2023-02-28 23:58:30.792755</td>\n",
       "      <td>s_348435</td>\n",
       "      <td>c_3575</td>\n",
       "      <td>c_35752023-02-28 23:58:30.792755</td>\n",
       "      <td>2023-02</td>\n",
       "      <td>2023-02-28</td>\n",
       "    </tr>\n",
       "  </tbody>\n",
       "</table>\n",
       "<p>687534 rows × 7 columns</p>\n",
       "</div>"
      ],
      "text/plain": [
       "       id_prod                        date session_id client_id  \\\n",
       "0       0_1259  2021-03-01 00:01:07.843138        s_1     c_329   \n",
       "1       0_1390  2021-03-01 00:02:26.047414        s_2     c_664   \n",
       "2       0_1352  2021-03-01 00:02:38.311413        s_3     c_580   \n",
       "3       0_1458  2021-03-01 00:04:54.559692        s_4    c_7912   \n",
       "4       0_1358  2021-03-01 00:05:18.801198        s_5    c_2033   \n",
       "...        ...                         ...        ...       ...   \n",
       "687529   1_508  2023-02-28 23:49:03.148402   s_348444    c_3573   \n",
       "687530    2_37  2023-02-28 23:51:29.318531   s_348445      c_50   \n",
       "687531   1_695  2023-02-28 23:53:18.929676   s_348446     c_488   \n",
       "687532  0_1547  2023-02-28 23:58:00.107815   s_348447    c_4848   \n",
       "687533  0_1398  2023-02-28 23:58:30.792755   s_348435    c_3575   \n",
       "\n",
       "                           clé composite année_mois       date2  \n",
       "0        c_3292021-03-01 00:01:07.843138    2021-03  2021-03-01  \n",
       "1        c_6642021-03-01 00:02:26.047414    2021-03  2021-03-01  \n",
       "2        c_5802021-03-01 00:02:38.311413    2021-03  2021-03-01  \n",
       "3       c_79122021-03-01 00:04:54.559692    2021-03  2021-03-01  \n",
       "4       c_20332021-03-01 00:05:18.801198    2021-03  2021-03-01  \n",
       "...                                  ...        ...         ...  \n",
       "687529  c_35732023-02-28 23:49:03.148402    2023-02  2023-02-28  \n",
       "687530    c_502023-02-28 23:51:29.318531    2023-02  2023-02-28  \n",
       "687531   c_4882023-02-28 23:53:18.929676    2023-02  2023-02-28  \n",
       "687532  c_48482023-02-28 23:58:00.107815    2023-02  2023-02-28  \n",
       "687533  c_35752023-02-28 23:58:30.792755    2023-02  2023-02-28  \n",
       "\n",
       "[687534 rows x 7 columns]"
      ]
     },
     "execution_count": 218,
     "metadata": {},
     "output_type": "execute_result"
    }
   ],
   "source": [
    "transactions[\"date2\"]= transactions[\"date\"].str.split(\" \", n = 1, expand = False).str[0]\n",
    "transactions"
   ]
  },
  {
   "cell_type": "code",
   "execution_count": 219,
   "id": "77c6d82c",
   "metadata": {},
   "outputs": [],
   "source": [
    "transactions['date_ok'] = pd.to_datetime(transactions['date2'], format ='%Y-%m-%d')"
   ]
  },
  {
   "cell_type": "code",
   "execution_count": 220,
   "id": "41c88d23",
   "metadata": {},
   "outputs": [
    {
     "data": {
      "text/plain": [
       "id_prod                  object\n",
       "date                     object\n",
       "session_id               object\n",
       "client_id                object\n",
       "clé composite            object\n",
       "année_mois               object\n",
       "date2                    object\n",
       "date_ok          datetime64[ns]\n",
       "dtype: object"
      ]
     },
     "execution_count": 220,
     "metadata": {},
     "output_type": "execute_result"
    }
   ],
   "source": [
    "transactions.dtypes"
   ]
  },
  {
   "cell_type": "code",
   "execution_count": 221,
   "id": "a0404b14",
   "metadata": {},
   "outputs": [
    {
     "data": {
      "text/html": [
       "<div>\n",
       "<style scoped>\n",
       "    .dataframe tbody tr th:only-of-type {\n",
       "        vertical-align: middle;\n",
       "    }\n",
       "\n",
       "    .dataframe tbody tr th {\n",
       "        vertical-align: top;\n",
       "    }\n",
       "\n",
       "    .dataframe thead th {\n",
       "        text-align: right;\n",
       "    }\n",
       "</style>\n",
       "<table border=\"1\" class=\"dataframe\">\n",
       "  <thead>\n",
       "    <tr style=\"text-align: right;\">\n",
       "      <th></th>\n",
       "      <th>id_prod</th>\n",
       "      <th>date</th>\n",
       "      <th>session_id</th>\n",
       "      <th>client_id</th>\n",
       "      <th>clé composite</th>\n",
       "      <th>année_mois</th>\n",
       "      <th>date2</th>\n",
       "      <th>date_ok</th>\n",
       "      <th>annee</th>\n",
       "      <th>mois</th>\n",
       "      <th>jour</th>\n",
       "    </tr>\n",
       "  </thead>\n",
       "  <tbody>\n",
       "    <tr>\n",
       "      <th>0</th>\n",
       "      <td>0_1259</td>\n",
       "      <td>2021-03-01 00:01:07.843138</td>\n",
       "      <td>s_1</td>\n",
       "      <td>c_329</td>\n",
       "      <td>c_3292021-03-01 00:01:07.843138</td>\n",
       "      <td>2021-03</td>\n",
       "      <td>2021-03-01</td>\n",
       "      <td>2021-03-01</td>\n",
       "      <td>2021</td>\n",
       "      <td>3</td>\n",
       "      <td>1</td>\n",
       "    </tr>\n",
       "    <tr>\n",
       "      <th>1</th>\n",
       "      <td>0_1390</td>\n",
       "      <td>2021-03-01 00:02:26.047414</td>\n",
       "      <td>s_2</td>\n",
       "      <td>c_664</td>\n",
       "      <td>c_6642021-03-01 00:02:26.047414</td>\n",
       "      <td>2021-03</td>\n",
       "      <td>2021-03-01</td>\n",
       "      <td>2021-03-01</td>\n",
       "      <td>2021</td>\n",
       "      <td>3</td>\n",
       "      <td>1</td>\n",
       "    </tr>\n",
       "    <tr>\n",
       "      <th>2</th>\n",
       "      <td>0_1352</td>\n",
       "      <td>2021-03-01 00:02:38.311413</td>\n",
       "      <td>s_3</td>\n",
       "      <td>c_580</td>\n",
       "      <td>c_5802021-03-01 00:02:38.311413</td>\n",
       "      <td>2021-03</td>\n",
       "      <td>2021-03-01</td>\n",
       "      <td>2021-03-01</td>\n",
       "      <td>2021</td>\n",
       "      <td>3</td>\n",
       "      <td>1</td>\n",
       "    </tr>\n",
       "    <tr>\n",
       "      <th>3</th>\n",
       "      <td>0_1458</td>\n",
       "      <td>2021-03-01 00:04:54.559692</td>\n",
       "      <td>s_4</td>\n",
       "      <td>c_7912</td>\n",
       "      <td>c_79122021-03-01 00:04:54.559692</td>\n",
       "      <td>2021-03</td>\n",
       "      <td>2021-03-01</td>\n",
       "      <td>2021-03-01</td>\n",
       "      <td>2021</td>\n",
       "      <td>3</td>\n",
       "      <td>1</td>\n",
       "    </tr>\n",
       "    <tr>\n",
       "      <th>4</th>\n",
       "      <td>0_1358</td>\n",
       "      <td>2021-03-01 00:05:18.801198</td>\n",
       "      <td>s_5</td>\n",
       "      <td>c_2033</td>\n",
       "      <td>c_20332021-03-01 00:05:18.801198</td>\n",
       "      <td>2021-03</td>\n",
       "      <td>2021-03-01</td>\n",
       "      <td>2021-03-01</td>\n",
       "      <td>2021</td>\n",
       "      <td>3</td>\n",
       "      <td>1</td>\n",
       "    </tr>\n",
       "  </tbody>\n",
       "</table>\n",
       "</div>"
      ],
      "text/plain": [
       "  id_prod                        date session_id client_id  \\\n",
       "0  0_1259  2021-03-01 00:01:07.843138        s_1     c_329   \n",
       "1  0_1390  2021-03-01 00:02:26.047414        s_2     c_664   \n",
       "2  0_1352  2021-03-01 00:02:38.311413        s_3     c_580   \n",
       "3  0_1458  2021-03-01 00:04:54.559692        s_4    c_7912   \n",
       "4  0_1358  2021-03-01 00:05:18.801198        s_5    c_2033   \n",
       "\n",
       "                      clé composite année_mois       date2    date_ok  annee  \\\n",
       "0   c_3292021-03-01 00:01:07.843138    2021-03  2021-03-01 2021-03-01   2021   \n",
       "1   c_6642021-03-01 00:02:26.047414    2021-03  2021-03-01 2021-03-01   2021   \n",
       "2   c_5802021-03-01 00:02:38.311413    2021-03  2021-03-01 2021-03-01   2021   \n",
       "3  c_79122021-03-01 00:04:54.559692    2021-03  2021-03-01 2021-03-01   2021   \n",
       "4  c_20332021-03-01 00:05:18.801198    2021-03  2021-03-01 2021-03-01   2021   \n",
       "\n",
       "   mois  jour  \n",
       "0     3     1  \n",
       "1     3     1  \n",
       "2     3     1  \n",
       "3     3     1  \n",
       "4     3     1  "
      ]
     },
     "execution_count": 221,
     "metadata": {},
     "output_type": "execute_result"
    }
   ],
   "source": [
    "transactions['annee'] = pd.DatetimeIndex(transactions['date_ok']).year\n",
    "transactions['mois'] = pd.DatetimeIndex(transactions['date_ok']).month\n",
    "transactions['jour'] = pd.DatetimeIndex(transactions['date_ok']).day   \n",
    "transactions.head()"
   ]
  },
  {
   "cell_type": "markdown",
   "id": "9fbeb029",
   "metadata": {},
   "source": [
    "# 2. Jointure entre les fichiers"
   ]
  },
  {
   "cell_type": "markdown",
   "id": "da04da05",
   "metadata": {},
   "source": [
    "Afin d'étudier l'évolution du chiffre d'affaires de cette librairie, qui vend en ligne ses produits depuis 2 ans, nous allons faire des jointures entre les 3 fichiers.\n",
    "Le fichier \"Transactions\" contient 679332 occurences correspondant aux clients qui ont acheté une ou plusieurs fois des produits en ligne au cours des 2 dernières années.\n",
    "Pour commencer notre analyse : OUTER JOIN afin d'avoir en plus les clients qui n'ont pas acheté et les produits qui ne se sont pas vendus:"
   ]
  },
  {
   "cell_type": "markdown",
   "id": "2624b693",
   "metadata": {},
   "source": [
    "## 2.1 OUTER JOIN entre \"Transactions\" et \"Customers\" pour ajout des clients sans achat :"
   ]
  },
  {
   "cell_type": "code",
   "execution_count": 222,
   "id": "40380293",
   "metadata": {},
   "outputs": [
    {
     "data": {
      "text/plain": [
       "(687555, 16)"
      ]
     },
     "execution_count": 222,
     "metadata": {},
     "output_type": "execute_result"
    }
   ],
   "source": [
    "# Ajout des clients sans achat\n",
    "# ajouter indicator pour voir pour facilement retrouver les clients\n",
    "\n",
    "df1 = pd.merge(transactions, customers, on=\"client_id\", how=\"outer\", indicator = True)\n",
    "df1.shape"
   ]
  },
  {
   "cell_type": "code",
   "execution_count": 223,
   "id": "8e3202ad",
   "metadata": {},
   "outputs": [
    {
     "data": {
      "text/plain": [
       "both          687534\n",
       "right_only        21\n",
       "left_only          0\n",
       "Name: _merge, dtype: int64"
      ]
     },
     "execution_count": 223,
     "metadata": {},
     "output_type": "execute_result"
    }
   ],
   "source": [
    "df1._merge.value_counts()\n"
   ]
  },
  {
   "cell_type": "code",
   "execution_count": 224,
   "id": "9af4d198",
   "metadata": {},
   "outputs": [],
   "source": [
    "# 21 client n'ont pas acheter les produits en ligne"
   ]
  },
  {
   "cell_type": "markdown",
   "id": "322ad369",
   "metadata": {},
   "source": [
    "## 2.2 OUTER JOIN entre \"Transactions\" et \"Products\" pour ajout les non vendus :"
   ]
  },
  {
   "cell_type": "markdown",
   "id": "1f2cd9a4",
   "metadata": {},
   "source": [
    "# 2.2.1 Ajout des produits non vendus\n",
    "\n"
   ]
  },
  {
   "cell_type": "code",
   "execution_count": 225,
   "id": "0fee9cc8",
   "metadata": {},
   "outputs": [
    {
     "data": {
      "text/plain": [
       "(687576, 18)"
      ]
     },
     "execution_count": 225,
     "metadata": {},
     "output_type": "execute_result"
    }
   ],
   "source": [
    "df2 = pd.merge(df1, products, on=\"id_prod\", how=\"outer\")\n",
    "df2.shape"
   ]
  },
  {
   "cell_type": "code",
   "execution_count": 226,
   "id": "410b6213",
   "metadata": {},
   "outputs": [
    {
     "data": {
      "text/plain": [
       "both          687534\n",
       "right_only        21\n",
       "left_only          0\n",
       "Name: _merge, dtype: int64"
      ]
     },
     "execution_count": 226,
     "metadata": {},
     "output_type": "execute_result"
    }
   ],
   "source": [
    "df2._merge.value_counts()"
   ]
  },
  {
   "cell_type": "code",
   "execution_count": null,
   "id": "9806c021",
   "metadata": {},
   "outputs": [],
   "source": []
  },
  {
   "cell_type": "markdown",
   "id": "9259d178",
   "metadata": {},
   "source": [
    "## 2.3 LEFT JOIN pour ajout des caractéristiques\"prix\" et \"catégorie\" dans \"transactions\""
   ]
  },
  {
   "cell_type": "markdown",
   "id": "2deed3e6",
   "metadata": {},
   "source": [
    "Nous allons désormais garder uniquement les ventes c'est à dire le fichier \"transactions\" que l'on va enrichir pour avoir les caractéristiques des produits vendus et le profil des clients :"
   ]
  },
  {
   "cell_type": "code",
   "execution_count": 227,
   "id": "2e3bee49",
   "metadata": {},
   "outputs": [],
   "source": [
    "# Jointure à gauche entre les fichiers \"transactions\" et \"products\" afin de disposer du prix du produit et de sa catégorie pour chaque ligne de transaction\n",
    "transactions_products = pd.merge(transactions, products, how=\"left\", left_on=\"id_prod\", right_on=\"id_prod\")"
   ]
  },
  {
   "cell_type": "code",
   "execution_count": 228,
   "id": "0a353a91",
   "metadata": {},
   "outputs": [
    {
     "data": {
      "text/html": [
       "<div>\n",
       "<style scoped>\n",
       "    .dataframe tbody tr th:only-of-type {\n",
       "        vertical-align: middle;\n",
       "    }\n",
       "\n",
       "    .dataframe tbody tr th {\n",
       "        vertical-align: top;\n",
       "    }\n",
       "\n",
       "    .dataframe thead th {\n",
       "        text-align: right;\n",
       "    }\n",
       "</style>\n",
       "<table border=\"1\" class=\"dataframe\">\n",
       "  <thead>\n",
       "    <tr style=\"text-align: right;\">\n",
       "      <th></th>\n",
       "      <th>id_prod</th>\n",
       "      <th>date</th>\n",
       "      <th>session_id</th>\n",
       "      <th>client_id</th>\n",
       "      <th>clé composite</th>\n",
       "      <th>année_mois</th>\n",
       "      <th>date2</th>\n",
       "      <th>date_ok</th>\n",
       "      <th>annee</th>\n",
       "      <th>mois</th>\n",
       "      <th>jour</th>\n",
       "      <th>price</th>\n",
       "      <th>categ</th>\n",
       "    </tr>\n",
       "  </thead>\n",
       "  <tbody>\n",
       "    <tr>\n",
       "      <th>0</th>\n",
       "      <td>0_1259</td>\n",
       "      <td>2021-03-01 00:01:07.843138</td>\n",
       "      <td>s_1</td>\n",
       "      <td>c_329</td>\n",
       "      <td>c_3292021-03-01 00:01:07.843138</td>\n",
       "      <td>2021-03</td>\n",
       "      <td>2021-03-01</td>\n",
       "      <td>2021-03-01</td>\n",
       "      <td>2021</td>\n",
       "      <td>3</td>\n",
       "      <td>1</td>\n",
       "      <td>11.99</td>\n",
       "      <td>0</td>\n",
       "    </tr>\n",
       "    <tr>\n",
       "      <th>1</th>\n",
       "      <td>0_1390</td>\n",
       "      <td>2021-03-01 00:02:26.047414</td>\n",
       "      <td>s_2</td>\n",
       "      <td>c_664</td>\n",
       "      <td>c_6642021-03-01 00:02:26.047414</td>\n",
       "      <td>2021-03</td>\n",
       "      <td>2021-03-01</td>\n",
       "      <td>2021-03-01</td>\n",
       "      <td>2021</td>\n",
       "      <td>3</td>\n",
       "      <td>1</td>\n",
       "      <td>19.37</td>\n",
       "      <td>0</td>\n",
       "    </tr>\n",
       "    <tr>\n",
       "      <th>2</th>\n",
       "      <td>0_1352</td>\n",
       "      <td>2021-03-01 00:02:38.311413</td>\n",
       "      <td>s_3</td>\n",
       "      <td>c_580</td>\n",
       "      <td>c_5802021-03-01 00:02:38.311413</td>\n",
       "      <td>2021-03</td>\n",
       "      <td>2021-03-01</td>\n",
       "      <td>2021-03-01</td>\n",
       "      <td>2021</td>\n",
       "      <td>3</td>\n",
       "      <td>1</td>\n",
       "      <td>4.50</td>\n",
       "      <td>0</td>\n",
       "    </tr>\n",
       "    <tr>\n",
       "      <th>3</th>\n",
       "      <td>0_1458</td>\n",
       "      <td>2021-03-01 00:04:54.559692</td>\n",
       "      <td>s_4</td>\n",
       "      <td>c_7912</td>\n",
       "      <td>c_79122021-03-01 00:04:54.559692</td>\n",
       "      <td>2021-03</td>\n",
       "      <td>2021-03-01</td>\n",
       "      <td>2021-03-01</td>\n",
       "      <td>2021</td>\n",
       "      <td>3</td>\n",
       "      <td>1</td>\n",
       "      <td>6.55</td>\n",
       "      <td>0</td>\n",
       "    </tr>\n",
       "    <tr>\n",
       "      <th>4</th>\n",
       "      <td>0_1358</td>\n",
       "      <td>2021-03-01 00:05:18.801198</td>\n",
       "      <td>s_5</td>\n",
       "      <td>c_2033</td>\n",
       "      <td>c_20332021-03-01 00:05:18.801198</td>\n",
       "      <td>2021-03</td>\n",
       "      <td>2021-03-01</td>\n",
       "      <td>2021-03-01</td>\n",
       "      <td>2021</td>\n",
       "      <td>3</td>\n",
       "      <td>1</td>\n",
       "      <td>16.49</td>\n",
       "      <td>0</td>\n",
       "    </tr>\n",
       "  </tbody>\n",
       "</table>\n",
       "</div>"
      ],
      "text/plain": [
       "  id_prod                        date session_id client_id  \\\n",
       "0  0_1259  2021-03-01 00:01:07.843138        s_1     c_329   \n",
       "1  0_1390  2021-03-01 00:02:26.047414        s_2     c_664   \n",
       "2  0_1352  2021-03-01 00:02:38.311413        s_3     c_580   \n",
       "3  0_1458  2021-03-01 00:04:54.559692        s_4    c_7912   \n",
       "4  0_1358  2021-03-01 00:05:18.801198        s_5    c_2033   \n",
       "\n",
       "                      clé composite année_mois       date2    date_ok  annee  \\\n",
       "0   c_3292021-03-01 00:01:07.843138    2021-03  2021-03-01 2021-03-01   2021   \n",
       "1   c_6642021-03-01 00:02:26.047414    2021-03  2021-03-01 2021-03-01   2021   \n",
       "2   c_5802021-03-01 00:02:38.311413    2021-03  2021-03-01 2021-03-01   2021   \n",
       "3  c_79122021-03-01 00:04:54.559692    2021-03  2021-03-01 2021-03-01   2021   \n",
       "4  c_20332021-03-01 00:05:18.801198    2021-03  2021-03-01 2021-03-01   2021   \n",
       "\n",
       "   mois  jour  price categ  \n",
       "0     3     1  11.99     0  \n",
       "1     3     1  19.37     0  \n",
       "2     3     1   4.50     0  \n",
       "3     3     1   6.55     0  \n",
       "4     3     1  16.49     0  "
      ]
     },
     "execution_count": 228,
     "metadata": {},
     "output_type": "execute_result"
    }
   ],
   "source": [
    "transactions_products.head()"
   ]
  },
  {
   "cell_type": "code",
   "execution_count": 229,
   "id": "93d32c21",
   "metadata": {},
   "outputs": [
    {
     "data": {
      "text/html": [
       "<div>\n",
       "<style scoped>\n",
       "    .dataframe tbody tr th:only-of-type {\n",
       "        vertical-align: middle;\n",
       "    }\n",
       "\n",
       "    .dataframe tbody tr th {\n",
       "        vertical-align: top;\n",
       "    }\n",
       "\n",
       "    .dataframe thead th {\n",
       "        text-align: right;\n",
       "    }\n",
       "</style>\n",
       "<table border=\"1\" class=\"dataframe\">\n",
       "  <thead>\n",
       "    <tr style=\"text-align: right;\">\n",
       "      <th></th>\n",
       "      <th>annee</th>\n",
       "      <th>mois</th>\n",
       "      <th>jour</th>\n",
       "      <th>price</th>\n",
       "    </tr>\n",
       "  </thead>\n",
       "  <tbody>\n",
       "    <tr>\n",
       "      <th>count</th>\n",
       "      <td>687534.000000</td>\n",
       "      <td>687534.000000</td>\n",
       "      <td>687534.000000</td>\n",
       "      <td>687534.000000</td>\n",
       "    </tr>\n",
       "    <tr>\n",
       "      <th>mean</th>\n",
       "      <td>2021.662289</td>\n",
       "      <td>6.547208</td>\n",
       "      <td>15.715258</td>\n",
       "      <td>17.493918</td>\n",
       "    </tr>\n",
       "    <tr>\n",
       "      <th>std</th>\n",
       "      <td>0.618184</td>\n",
       "      <td>3.480693</td>\n",
       "      <td>8.803949</td>\n",
       "      <td>18.238337</td>\n",
       "    </tr>\n",
       "    <tr>\n",
       "      <th>min</th>\n",
       "      <td>2021.000000</td>\n",
       "      <td>1.000000</td>\n",
       "      <td>1.000000</td>\n",
       "      <td>0.620000</td>\n",
       "    </tr>\n",
       "    <tr>\n",
       "      <th>25%</th>\n",
       "      <td>2021.000000</td>\n",
       "      <td>4.000000</td>\n",
       "      <td>8.000000</td>\n",
       "      <td>8.990000</td>\n",
       "    </tr>\n",
       "    <tr>\n",
       "      <th>50%</th>\n",
       "      <td>2022.000000</td>\n",
       "      <td>7.000000</td>\n",
       "      <td>16.000000</td>\n",
       "      <td>13.990000</td>\n",
       "    </tr>\n",
       "    <tr>\n",
       "      <th>75%</th>\n",
       "      <td>2022.000000</td>\n",
       "      <td>10.000000</td>\n",
       "      <td>23.000000</td>\n",
       "      <td>19.080000</td>\n",
       "    </tr>\n",
       "    <tr>\n",
       "      <th>max</th>\n",
       "      <td>2023.000000</td>\n",
       "      <td>12.000000</td>\n",
       "      <td>31.000000</td>\n",
       "      <td>300.000000</td>\n",
       "    </tr>\n",
       "  </tbody>\n",
       "</table>\n",
       "</div>"
      ],
      "text/plain": [
       "               annee           mois           jour          price\n",
       "count  687534.000000  687534.000000  687534.000000  687534.000000\n",
       "mean     2021.662289       6.547208      15.715258      17.493918\n",
       "std         0.618184       3.480693       8.803949      18.238337\n",
       "min      2021.000000       1.000000       1.000000       0.620000\n",
       "25%      2021.000000       4.000000       8.000000       8.990000\n",
       "50%      2022.000000       7.000000      16.000000      13.990000\n",
       "75%      2022.000000      10.000000      23.000000      19.080000\n",
       "max      2023.000000      12.000000      31.000000     300.000000"
      ]
     },
     "execution_count": 229,
     "metadata": {},
     "output_type": "execute_result"
    }
   ],
   "source": [
    "transactions_products.describe()"
   ]
  },
  {
   "cell_type": "code",
   "execution_count": 230,
   "id": "4b1998d4",
   "metadata": {
    "scrolled": true
   },
   "outputs": [
    {
     "data": {
      "text/plain": [
       "id_prod          0\n",
       "date             0\n",
       "session_id       0\n",
       "client_id        0\n",
       "clé composite    0\n",
       "année_mois       0\n",
       "date2            0\n",
       "date_ok          0\n",
       "annee            0\n",
       "mois             0\n",
       "jour             0\n",
       "price            0\n",
       "categ            0\n",
       "dtype: int64"
      ]
     },
     "execution_count": 230,
     "metadata": {},
     "output_type": "execute_result"
    }
   ],
   "source": [
    "transactions_products.isnull().sum()"
   ]
  },
  {
   "cell_type": "markdown",
   "id": "46d3af89",
   "metadata": {},
   "source": [
    "#### 2.3.1 Calcul du prix moyen et médian par catégorie de livres"
   ]
  },
  {
   "cell_type": "code",
   "execution_count": 231,
   "id": "40383f4a",
   "metadata": {},
   "outputs": [],
   "source": [
    "transactions_products_moyenne = transactions_products[['categ', 'price']].groupby('categ').mean()"
   ]
  },
  {
   "cell_type": "code",
   "execution_count": 232,
   "id": "853c6b61",
   "metadata": {},
   "outputs": [
    {
     "data": {
      "text/html": [
       "<div>\n",
       "<style scoped>\n",
       "    .dataframe tbody tr th:only-of-type {\n",
       "        vertical-align: middle;\n",
       "    }\n",
       "\n",
       "    .dataframe tbody tr th {\n",
       "        vertical-align: top;\n",
       "    }\n",
       "\n",
       "    .dataframe thead th {\n",
       "        text-align: right;\n",
       "    }\n",
       "</style>\n",
       "<table border=\"1\" class=\"dataframe\">\n",
       "  <thead>\n",
       "    <tr style=\"text-align: right;\">\n",
       "      <th></th>\n",
       "      <th>price</th>\n",
       "    </tr>\n",
       "    <tr>\n",
       "      <th>categ</th>\n",
       "      <th></th>\n",
       "    </tr>\n",
       "  </thead>\n",
       "  <tbody>\n",
       "    <tr>\n",
       "      <th>0</th>\n",
       "      <td>10.638188</td>\n",
       "    </tr>\n",
       "    <tr>\n",
       "      <th>1</th>\n",
       "      <td>20.491600</td>\n",
       "    </tr>\n",
       "    <tr>\n",
       "      <th>2</th>\n",
       "      <td>76.207412</td>\n",
       "    </tr>\n",
       "  </tbody>\n",
       "</table>\n",
       "</div>"
      ],
      "text/plain": [
       "           price\n",
       "categ           \n",
       "0      10.638188\n",
       "1      20.491600\n",
       "2      76.207412"
      ]
     },
     "execution_count": 232,
     "metadata": {},
     "output_type": "execute_result"
    }
   ],
   "source": [
    "transactions_products_moyenne"
   ]
  },
  {
   "cell_type": "code",
   "execution_count": 233,
   "id": "6e0a7a2b",
   "metadata": {},
   "outputs": [],
   "source": [
    "transactions_products_mediane = transactions_products[['categ', 'price']].groupby('categ').median()"
   ]
  },
  {
   "cell_type": "code",
   "execution_count": 234,
   "id": "db9c7cfe",
   "metadata": {},
   "outputs": [
    {
     "data": {
      "text/html": [
       "<div>\n",
       "<style scoped>\n",
       "    .dataframe tbody tr th:only-of-type {\n",
       "        vertical-align: middle;\n",
       "    }\n",
       "\n",
       "    .dataframe tbody tr th {\n",
       "        vertical-align: top;\n",
       "    }\n",
       "\n",
       "    .dataframe thead th {\n",
       "        text-align: right;\n",
       "    }\n",
       "</style>\n",
       "<table border=\"1\" class=\"dataframe\">\n",
       "  <thead>\n",
       "    <tr style=\"text-align: right;\">\n",
       "      <th></th>\n",
       "      <th>price</th>\n",
       "    </tr>\n",
       "    <tr>\n",
       "      <th>categ</th>\n",
       "      <th></th>\n",
       "    </tr>\n",
       "  </thead>\n",
       "  <tbody>\n",
       "    <tr>\n",
       "      <th>0</th>\n",
       "      <td>9.99</td>\n",
       "    </tr>\n",
       "    <tr>\n",
       "      <th>1</th>\n",
       "      <td>19.08</td>\n",
       "    </tr>\n",
       "    <tr>\n",
       "      <th>2</th>\n",
       "      <td>62.83</td>\n",
       "    </tr>\n",
       "  </tbody>\n",
       "</table>\n",
       "</div>"
      ],
      "text/plain": [
       "       price\n",
       "categ       \n",
       "0       9.99\n",
       "1      19.08\n",
       "2      62.83"
      ]
     },
     "execution_count": 234,
     "metadata": {},
     "output_type": "execute_result"
    }
   ],
   "source": [
    "transactions_products_mediane"
   ]
  },
  {
   "cell_type": "markdown",
   "id": "c4fe3687",
   "metadata": {},
   "source": [
    "#### 2.3.2 Ajout du profil client pour chaque transaction"
   ]
  },
  {
   "cell_type": "code",
   "execution_count": 235,
   "id": "a74f5c01",
   "metadata": {},
   "outputs": [
    {
     "data": {
      "text/html": [
       "<div>\n",
       "<style scoped>\n",
       "    .dataframe tbody tr th:only-of-type {\n",
       "        vertical-align: middle;\n",
       "    }\n",
       "\n",
       "    .dataframe tbody tr th {\n",
       "        vertical-align: top;\n",
       "    }\n",
       "\n",
       "    .dataframe thead th {\n",
       "        text-align: right;\n",
       "    }\n",
       "</style>\n",
       "<table border=\"1\" class=\"dataframe\">\n",
       "  <thead>\n",
       "    <tr style=\"text-align: right;\">\n",
       "      <th></th>\n",
       "      <th>id_prod</th>\n",
       "      <th>date</th>\n",
       "      <th>session_id</th>\n",
       "      <th>client_id</th>\n",
       "      <th>clé composite</th>\n",
       "      <th>année_mois</th>\n",
       "      <th>date2</th>\n",
       "      <th>date_ok</th>\n",
       "      <th>annee</th>\n",
       "      <th>mois</th>\n",
       "      <th>jour</th>\n",
       "      <th>price</th>\n",
       "      <th>categ</th>\n",
       "      <th>sex</th>\n",
       "      <th>birth</th>\n",
       "      <th>age</th>\n",
       "      <th>tranche_age</th>\n",
       "    </tr>\n",
       "  </thead>\n",
       "  <tbody>\n",
       "    <tr>\n",
       "      <th>0</th>\n",
       "      <td>0_1259</td>\n",
       "      <td>2021-03-01 00:01:07.843138</td>\n",
       "      <td>s_1</td>\n",
       "      <td>c_329</td>\n",
       "      <td>c_3292021-03-01 00:01:07.843138</td>\n",
       "      <td>2021-03</td>\n",
       "      <td>2021-03-01</td>\n",
       "      <td>2021-03-01</td>\n",
       "      <td>2021</td>\n",
       "      <td>3</td>\n",
       "      <td>1</td>\n",
       "      <td>11.99</td>\n",
       "      <td>0</td>\n",
       "      <td>f</td>\n",
       "      <td>1967</td>\n",
       "      <td>56</td>\n",
       "      <td>50-59</td>\n",
       "    </tr>\n",
       "    <tr>\n",
       "      <th>1</th>\n",
       "      <td>0_1390</td>\n",
       "      <td>2021-03-01 00:02:26.047414</td>\n",
       "      <td>s_2</td>\n",
       "      <td>c_664</td>\n",
       "      <td>c_6642021-03-01 00:02:26.047414</td>\n",
       "      <td>2021-03</td>\n",
       "      <td>2021-03-01</td>\n",
       "      <td>2021-03-01</td>\n",
       "      <td>2021</td>\n",
       "      <td>3</td>\n",
       "      <td>1</td>\n",
       "      <td>19.37</td>\n",
       "      <td>0</td>\n",
       "      <td>m</td>\n",
       "      <td>1960</td>\n",
       "      <td>63</td>\n",
       "      <td>60-69</td>\n",
       "    </tr>\n",
       "    <tr>\n",
       "      <th>2</th>\n",
       "      <td>0_1352</td>\n",
       "      <td>2021-03-01 00:02:38.311413</td>\n",
       "      <td>s_3</td>\n",
       "      <td>c_580</td>\n",
       "      <td>c_5802021-03-01 00:02:38.311413</td>\n",
       "      <td>2021-03</td>\n",
       "      <td>2021-03-01</td>\n",
       "      <td>2021-03-01</td>\n",
       "      <td>2021</td>\n",
       "      <td>3</td>\n",
       "      <td>1</td>\n",
       "      <td>4.50</td>\n",
       "      <td>0</td>\n",
       "      <td>m</td>\n",
       "      <td>1988</td>\n",
       "      <td>35</td>\n",
       "      <td>30-39</td>\n",
       "    </tr>\n",
       "    <tr>\n",
       "      <th>3</th>\n",
       "      <td>0_1458</td>\n",
       "      <td>2021-03-01 00:04:54.559692</td>\n",
       "      <td>s_4</td>\n",
       "      <td>c_7912</td>\n",
       "      <td>c_79122021-03-01 00:04:54.559692</td>\n",
       "      <td>2021-03</td>\n",
       "      <td>2021-03-01</td>\n",
       "      <td>2021-03-01</td>\n",
       "      <td>2021</td>\n",
       "      <td>3</td>\n",
       "      <td>1</td>\n",
       "      <td>6.55</td>\n",
       "      <td>0</td>\n",
       "      <td>f</td>\n",
       "      <td>1989</td>\n",
       "      <td>34</td>\n",
       "      <td>30-39</td>\n",
       "    </tr>\n",
       "    <tr>\n",
       "      <th>4</th>\n",
       "      <td>0_1358</td>\n",
       "      <td>2021-03-01 00:05:18.801198</td>\n",
       "      <td>s_5</td>\n",
       "      <td>c_2033</td>\n",
       "      <td>c_20332021-03-01 00:05:18.801198</td>\n",
       "      <td>2021-03</td>\n",
       "      <td>2021-03-01</td>\n",
       "      <td>2021-03-01</td>\n",
       "      <td>2021</td>\n",
       "      <td>3</td>\n",
       "      <td>1</td>\n",
       "      <td>16.49</td>\n",
       "      <td>0</td>\n",
       "      <td>f</td>\n",
       "      <td>1956</td>\n",
       "      <td>67</td>\n",
       "      <td>60-69</td>\n",
       "    </tr>\n",
       "  </tbody>\n",
       "</table>\n",
       "</div>"
      ],
      "text/plain": [
       "  id_prod                        date session_id client_id  \\\n",
       "0  0_1259  2021-03-01 00:01:07.843138        s_1     c_329   \n",
       "1  0_1390  2021-03-01 00:02:26.047414        s_2     c_664   \n",
       "2  0_1352  2021-03-01 00:02:38.311413        s_3     c_580   \n",
       "3  0_1458  2021-03-01 00:04:54.559692        s_4    c_7912   \n",
       "4  0_1358  2021-03-01 00:05:18.801198        s_5    c_2033   \n",
       "\n",
       "                      clé composite année_mois       date2    date_ok  annee  \\\n",
       "0   c_3292021-03-01 00:01:07.843138    2021-03  2021-03-01 2021-03-01   2021   \n",
       "1   c_6642021-03-01 00:02:26.047414    2021-03  2021-03-01 2021-03-01   2021   \n",
       "2   c_5802021-03-01 00:02:38.311413    2021-03  2021-03-01 2021-03-01   2021   \n",
       "3  c_79122021-03-01 00:04:54.559692    2021-03  2021-03-01 2021-03-01   2021   \n",
       "4  c_20332021-03-01 00:05:18.801198    2021-03  2021-03-01 2021-03-01   2021   \n",
       "\n",
       "   mois  jour  price categ sex  birth  age tranche_age  \n",
       "0     3     1  11.99     0   f   1967   56       50-59  \n",
       "1     3     1  19.37     0   m   1960   63       60-69  \n",
       "2     3     1   4.50     0   m   1988   35       30-39  \n",
       "3     3     1   6.55     0   f   1989   34       30-39  \n",
       "4     3     1  16.49     0   f   1956   67       60-69  "
      ]
     },
     "execution_count": 235,
     "metadata": {},
     "output_type": "execute_result"
    }
   ],
   "source": [
    "# ajout du profil client pour chaque transaction\n",
    "transactions_profil = pd.merge(transactions_products, customers, how=\"left\", left_on=\"client_id\", right_on=\"client_id\")\n",
    "transactions_profil.head()"
   ]
  },
  {
   "cell_type": "code",
   "execution_count": 236,
   "id": "2cc1ecd2",
   "metadata": {},
   "outputs": [
    {
     "name": "stdout",
     "output_type": "stream",
     "text": [
      "<class 'pandas.core.frame.DataFrame'>\n",
      "Int64Index: 687534 entries, 0 to 687533\n",
      "Data columns (total 17 columns):\n",
      " #   Column         Non-Null Count   Dtype         \n",
      "---  ------         --------------   -----         \n",
      " 0   id_prod        687534 non-null  object        \n",
      " 1   date           687534 non-null  object        \n",
      " 2   session_id     687534 non-null  object        \n",
      " 3   client_id      687534 non-null  object        \n",
      " 4   clé composite  687534 non-null  object        \n",
      " 5   année_mois     687534 non-null  object        \n",
      " 6   date2          687534 non-null  object        \n",
      " 7   date_ok        687534 non-null  datetime64[ns]\n",
      " 8   annee          687534 non-null  int64         \n",
      " 9   mois           687534 non-null  int64         \n",
      " 10  jour           687534 non-null  int64         \n",
      " 11  price          687534 non-null  float64       \n",
      " 12  categ          687534 non-null  object        \n",
      " 13  sex            687534 non-null  object        \n",
      " 14  birth          687534 non-null  int64         \n",
      " 15  age            687534 non-null  int64         \n",
      " 16  tranche_age    687534 non-null  category      \n",
      "dtypes: category(1), datetime64[ns](1), float64(1), int64(5), object(9)\n",
      "memory usage: 89.8+ MB\n"
     ]
    }
   ],
   "source": [
    "transactions_profil.info()"
   ]
  },
  {
   "cell_type": "markdown",
   "id": "c6756987",
   "metadata": {},
   "source": [
    "# 3. Analyse des indicateurs de vente"
   ]
  },
  {
   "cell_type": "markdown",
   "id": "1fecfe8f",
   "metadata": {},
   "source": [
    "## 3.1 Chiffre d'affaires global et du nombre de ventes"
   ]
  },
  {
   "cell_type": "markdown",
   "id": "b32d777c",
   "metadata": {},
   "source": [
    "L'analyse porte sur la période du 01/03/2021 au 28/02/2023"
   ]
  },
  {
   "cell_type": "code",
   "execution_count": 237,
   "id": "0583d2d4",
   "metadata": {},
   "outputs": [
    {
     "data": {
      "text/plain": [
       "12027663.100000003"
      ]
     },
     "execution_count": 237,
     "metadata": {},
     "output_type": "execute_result"
    }
   ],
   "source": [
    "CA_total = transactions_profil['price'].sum()\n",
    "CA_total"
   ]
  },
  {
   "cell_type": "code",
   "execution_count": 238,
   "id": "2ae77fdc",
   "metadata": {},
   "outputs": [
    {
     "data": {
      "text/plain": [
       "687534"
      ]
     },
     "execution_count": 238,
     "metadata": {},
     "output_type": "execute_result"
    }
   ],
   "source": [
    "Ventes_total = transactions_profil['session_id'].count()\n",
    "Ventes_total"
   ]
  },
  {
   "cell_type": "markdown",
   "id": "6f89403c",
   "metadata": {},
   "source": [
    "## 3.2 Chiffre d'affaires et nombre de vente, par année"
   ]
  },
  {
   "cell_type": "code",
   "execution_count": 239,
   "id": "96923737",
   "metadata": {},
   "outputs": [
    {
     "data": {
      "text/plain": [
       "annee\n",
       "2021    4944760.98\n",
       "2022    6108681.81\n",
       "2023     974220.31\n",
       "Name: price, dtype: float64"
      ]
     },
     "execution_count": 239,
     "metadata": {},
     "output_type": "execute_result"
    }
   ],
   "source": [
    "# CA par année\n",
    "CA_annuel = transactions_profil.groupby([\"annee\"])[\"price\"].sum()\n",
    "CA_annuel\n"
   ]
  },
  {
   "cell_type": "code",
   "execution_count": null,
   "id": "7787d876",
   "metadata": {},
   "outputs": [],
   "source": []
  },
  {
   "cell_type": "code",
   "execution_count": 240,
   "id": "60158c4e",
   "metadata": {},
   "outputs": [
    {
     "data": {
      "text/plain": [
       "annee\n",
       "2021    286671\n",
       "2022    346380\n",
       "2023     54483\n",
       "Name: session_id, dtype: int64"
      ]
     },
     "execution_count": 240,
     "metadata": {},
     "output_type": "execute_result"
    }
   ],
   "source": [
    "# Nb ventes par année\n",
    "Ventes_annuelles = transactions_profil.groupby(['annee'])[\"session_id\"].count()\n",
    "Ventes_annuelles"
   ]
  },
  {
   "cell_type": "markdown",
   "id": "d2a13476",
   "metadata": {},
   "source": [
    "## 3.3 Evolution mensuelle du chiffre d'affaires global"
   ]
  },
  {
   "cell_type": "markdown",
   "id": "59beb6e2",
   "metadata": {},
   "source": [
    "#### 3.3.1  Calcul du CA par mois"
   ]
  },
  {
   "cell_type": "code",
   "execution_count": 241,
   "id": "5a918a3a",
   "metadata": {},
   "outputs": [],
   "source": [
    "# évolution globale du CA\n",
    "CA_mensuel = transactions_profil.groupby('date_ok').sum().reset_index()"
   ]
  },
  {
   "cell_type": "code",
   "execution_count": 242,
   "id": "f7c9c3dd",
   "metadata": {},
   "outputs": [],
   "source": [
    " CA_mensuel = CA_mensuel.groupby(CA_mensuel['date_ok'].dt.to_period('M')).sum().reset_index()"
   ]
  },
  {
   "cell_type": "code",
   "execution_count": 243,
   "id": "fe036549",
   "metadata": {},
   "outputs": [
    {
     "data": {
      "text/html": [
       "<div>\n",
       "<style scoped>\n",
       "    .dataframe tbody tr th:only-of-type {\n",
       "        vertical-align: middle;\n",
       "    }\n",
       "\n",
       "    .dataframe tbody tr th {\n",
       "        vertical-align: top;\n",
       "    }\n",
       "\n",
       "    .dataframe thead th {\n",
       "        text-align: right;\n",
       "    }\n",
       "</style>\n",
       "<table border=\"1\" class=\"dataframe\">\n",
       "  <thead>\n",
       "    <tr style=\"text-align: right;\">\n",
       "      <th></th>\n",
       "      <th>date_ok</th>\n",
       "      <th>annee</th>\n",
       "      <th>mois</th>\n",
       "      <th>jour</th>\n",
       "      <th>price</th>\n",
       "      <th>birth</th>\n",
       "      <th>age</th>\n",
       "      <th>CA_mensuel_K€</th>\n",
       "    </tr>\n",
       "  </thead>\n",
       "  <tbody>\n",
       "    <tr>\n",
       "      <th>0</th>\n",
       "      <td>2021-03</td>\n",
       "      <td>57802621</td>\n",
       "      <td>85803</td>\n",
       "      <td>455301</td>\n",
       "      <td>482440.61</td>\n",
       "      <td>56568240</td>\n",
       "      <td>1291583</td>\n",
       "      <td>482.44061</td>\n",
       "    </tr>\n",
       "    <tr>\n",
       "      <th>1</th>\n",
       "      <td>2021-04</td>\n",
       "      <td>57483303</td>\n",
       "      <td>113772</td>\n",
       "      <td>443903</td>\n",
       "      <td>476109.30</td>\n",
       "      <td>56263669</td>\n",
       "      <td>1276520</td>\n",
       "      <td>476.10930</td>\n",
       "    </tr>\n",
       "    <tr>\n",
       "      <th>2</th>\n",
       "      <td>2021-05</td>\n",
       "      <td>57163985</td>\n",
       "      <td>141425</td>\n",
       "      <td>452166</td>\n",
       "      <td>492943.47</td>\n",
       "      <td>55946722</td>\n",
       "      <td>1273833</td>\n",
       "      <td>492.94347</td>\n",
       "    </tr>\n",
       "    <tr>\n",
       "      <th>3</th>\n",
       "      <td>2021-06</td>\n",
       "      <td>54263850</td>\n",
       "      <td>161100</td>\n",
       "      <td>415841</td>\n",
       "      <td>484088.56</td>\n",
       "      <td>53109429</td>\n",
       "      <td>1208121</td>\n",
       "      <td>484.08856</td>\n",
       "    </tr>\n",
       "    <tr>\n",
       "      <th>4</th>\n",
       "      <td>2021-07</td>\n",
       "      <td>49995498</td>\n",
       "      <td>173166</td>\n",
       "      <td>390168</td>\n",
       "      <td>482835.40</td>\n",
       "      <td>48937912</td>\n",
       "      <td>1107062</td>\n",
       "      <td>482.83540</td>\n",
       "    </tr>\n",
       "    <tr>\n",
       "      <th>5</th>\n",
       "      <td>2021-08</td>\n",
       "      <td>51838650</td>\n",
       "      <td>205200</td>\n",
       "      <td>412824</td>\n",
       "      <td>482284.79</td>\n",
       "      <td>50744390</td>\n",
       "      <td>1145560</td>\n",
       "      <td>482.28479</td>\n",
       "    </tr>\n",
       "    <tr>\n",
       "      <th>6</th>\n",
       "      <td>2021-09</td>\n",
       "      <td>67327594</td>\n",
       "      <td>299826</td>\n",
       "      <td>542549</td>\n",
       "      <td>507240.68</td>\n",
       "      <td>65873169</td>\n",
       "      <td>1521053</td>\n",
       "      <td>507.24068</td>\n",
       "    </tr>\n",
       "    <tr>\n",
       "      <th>7</th>\n",
       "      <td>2021-10</td>\n",
       "      <td>60674462</td>\n",
       "      <td>300220</td>\n",
       "      <td>449286</td>\n",
       "      <td>494733.16</td>\n",
       "      <td>59404874</td>\n",
       "      <td>1329632</td>\n",
       "      <td>494.73316</td>\n",
       "    </tr>\n",
       "    <tr>\n",
       "      <th>8</th>\n",
       "      <td>2021-11</td>\n",
       "      <td>57216531</td>\n",
       "      <td>311421</td>\n",
       "      <td>439126</td>\n",
       "      <td>516167.73</td>\n",
       "      <td>55982751</td>\n",
       "      <td>1290402</td>\n",
       "      <td>516.16773</td>\n",
       "    </tr>\n",
       "    <tr>\n",
       "      <th>9</th>\n",
       "      <td>2021-12</td>\n",
       "      <td>65595597</td>\n",
       "      <td>389484</td>\n",
       "      <td>531920</td>\n",
       "      <td>525917.28</td>\n",
       "      <td>64170857</td>\n",
       "      <td>1489654</td>\n",
       "      <td>525.91728</td>\n",
       "    </tr>\n",
       "    <tr>\n",
       "      <th>10</th>\n",
       "      <td>2022-01</td>\n",
       "      <td>59331546</td>\n",
       "      <td>29343</td>\n",
       "      <td>462553</td>\n",
       "      <td>525338.99</td>\n",
       "      <td>58020101</td>\n",
       "      <td>1340788</td>\n",
       "      <td>525.33899</td>\n",
       "    </tr>\n",
       "    <tr>\n",
       "      <th>11</th>\n",
       "      <td>2022-02</td>\n",
       "      <td>59839068</td>\n",
       "      <td>59188</td>\n",
       "      <td>431427</td>\n",
       "      <td>535571.50</td>\n",
       "      <td>58534200</td>\n",
       "      <td>1334462</td>\n",
       "      <td>535.57150</td>\n",
       "    </tr>\n",
       "    <tr>\n",
       "      <th>12</th>\n",
       "      <td>2022-03</td>\n",
       "      <td>60045312</td>\n",
       "      <td>89088</td>\n",
       "      <td>478154</td>\n",
       "      <td>515456.53</td>\n",
       "      <td>58728078</td>\n",
       "      <td>1346930</td>\n",
       "      <td>515.45653</td>\n",
       "    </tr>\n",
       "    <tr>\n",
       "      <th>13</th>\n",
       "      <td>2022-04</td>\n",
       "      <td>55811244</td>\n",
       "      <td>110408</td>\n",
       "      <td>430517</td>\n",
       "      <td>492998.94</td>\n",
       "      <td>54596000</td>\n",
       "      <td>1242846</td>\n",
       "      <td>492.99894</td>\n",
       "    </tr>\n",
       "    <tr>\n",
       "      <th>14</th>\n",
       "      <td>2022-05</td>\n",
       "      <td>60609450</td>\n",
       "      <td>149875</td>\n",
       "      <td>479852</td>\n",
       "      <td>517132.60</td>\n",
       "      <td>59285033</td>\n",
       "      <td>1354392</td>\n",
       "      <td>517.13260</td>\n",
       "    </tr>\n",
       "    <tr>\n",
       "      <th>15</th>\n",
       "      <td>2022-06</td>\n",
       "      <td>57635088</td>\n",
       "      <td>171024</td>\n",
       "      <td>440726</td>\n",
       "      <td>496016.12</td>\n",
       "      <td>56369873</td>\n",
       "      <td>1293719</td>\n",
       "      <td>496.01612</td>\n",
       "    </tr>\n",
       "    <tr>\n",
       "      <th>16</th>\n",
       "      <td>2022-07</td>\n",
       "      <td>57970740</td>\n",
       "      <td>200690</td>\n",
       "      <td>454065</td>\n",
       "      <td>510783.12</td>\n",
       "      <td>56705014</td>\n",
       "      <td>1294396</td>\n",
       "      <td>510.78312</td>\n",
       "    </tr>\n",
       "    <tr>\n",
       "      <th>17</th>\n",
       "      <td>2022-08</td>\n",
       "      <td>57715968</td>\n",
       "      <td>228352</td>\n",
       "      <td>450959</td>\n",
       "      <td>506467.27</td>\n",
       "      <td>56451254</td>\n",
       "      <td>1293258</td>\n",
       "      <td>506.46727</td>\n",
       "    </tr>\n",
       "    <tr>\n",
       "      <th>18</th>\n",
       "      <td>2022-09</td>\n",
       "      <td>57234732</td>\n",
       "      <td>254754</td>\n",
       "      <td>442232</td>\n",
       "      <td>494114.53</td>\n",
       "      <td>55986324</td>\n",
       "      <td>1276714</td>\n",
       "      <td>494.11453</td>\n",
       "    </tr>\n",
       "    <tr>\n",
       "      <th>19</th>\n",
       "      <td>2022-10</td>\n",
       "      <td>58565208</td>\n",
       "      <td>289640</td>\n",
       "      <td>463644</td>\n",
       "      <td>507917.77</td>\n",
       "      <td>57283451</td>\n",
       "      <td>1310721</td>\n",
       "      <td>507.91777</td>\n",
       "    </tr>\n",
       "    <tr>\n",
       "      <th>20</th>\n",
       "      <td>2022-11</td>\n",
       "      <td>57754386</td>\n",
       "      <td>314193</td>\n",
       "      <td>449122</td>\n",
       "      <td>496664.94</td>\n",
       "      <td>56494737</td>\n",
       "      <td>1288212</td>\n",
       "      <td>496.66494</td>\n",
       "    </tr>\n",
       "    <tr>\n",
       "      <th>21</th>\n",
       "      <td>2022-12</td>\n",
       "      <td>57867618</td>\n",
       "      <td>343428</td>\n",
       "      <td>449524</td>\n",
       "      <td>510219.50</td>\n",
       "      <td>56601986</td>\n",
       "      <td>1294251</td>\n",
       "      <td>510.21950</td>\n",
       "    </tr>\n",
       "    <tr>\n",
       "      <th>22</th>\n",
       "      <td>2023-01</td>\n",
       "      <td>58541574</td>\n",
       "      <td>28938</td>\n",
       "      <td>461858</td>\n",
       "      <td>517540.55</td>\n",
       "      <td>57235231</td>\n",
       "      <td>1306343</td>\n",
       "      <td>517.54055</td>\n",
       "    </tr>\n",
       "    <tr>\n",
       "      <th>23</th>\n",
       "      <td>2023-02</td>\n",
       "      <td>51677535</td>\n",
       "      <td>51090</td>\n",
       "      <td>377057</td>\n",
       "      <td>456679.76</td>\n",
       "      <td>50523407</td>\n",
       "      <td>1154128</td>\n",
       "      <td>456.67976</td>\n",
       "    </tr>\n",
       "  </tbody>\n",
       "</table>\n",
       "</div>"
      ],
      "text/plain": [
       "    date_ok     annee    mois    jour      price     birth      age  \\\n",
       "0   2021-03  57802621   85803  455301  482440.61  56568240  1291583   \n",
       "1   2021-04  57483303  113772  443903  476109.30  56263669  1276520   \n",
       "2   2021-05  57163985  141425  452166  492943.47  55946722  1273833   \n",
       "3   2021-06  54263850  161100  415841  484088.56  53109429  1208121   \n",
       "4   2021-07  49995498  173166  390168  482835.40  48937912  1107062   \n",
       "5   2021-08  51838650  205200  412824  482284.79  50744390  1145560   \n",
       "6   2021-09  67327594  299826  542549  507240.68  65873169  1521053   \n",
       "7   2021-10  60674462  300220  449286  494733.16  59404874  1329632   \n",
       "8   2021-11  57216531  311421  439126  516167.73  55982751  1290402   \n",
       "9   2021-12  65595597  389484  531920  525917.28  64170857  1489654   \n",
       "10  2022-01  59331546   29343  462553  525338.99  58020101  1340788   \n",
       "11  2022-02  59839068   59188  431427  535571.50  58534200  1334462   \n",
       "12  2022-03  60045312   89088  478154  515456.53  58728078  1346930   \n",
       "13  2022-04  55811244  110408  430517  492998.94  54596000  1242846   \n",
       "14  2022-05  60609450  149875  479852  517132.60  59285033  1354392   \n",
       "15  2022-06  57635088  171024  440726  496016.12  56369873  1293719   \n",
       "16  2022-07  57970740  200690  454065  510783.12  56705014  1294396   \n",
       "17  2022-08  57715968  228352  450959  506467.27  56451254  1293258   \n",
       "18  2022-09  57234732  254754  442232  494114.53  55986324  1276714   \n",
       "19  2022-10  58565208  289640  463644  507917.77  57283451  1310721   \n",
       "20  2022-11  57754386  314193  449122  496664.94  56494737  1288212   \n",
       "21  2022-12  57867618  343428  449524  510219.50  56601986  1294251   \n",
       "22  2023-01  58541574   28938  461858  517540.55  57235231  1306343   \n",
       "23  2023-02  51677535   51090  377057  456679.76  50523407  1154128   \n",
       "\n",
       "    CA_mensuel_K€  \n",
       "0       482.44061  \n",
       "1       476.10930  \n",
       "2       492.94347  \n",
       "3       484.08856  \n",
       "4       482.83540  \n",
       "5       482.28479  \n",
       "6       507.24068  \n",
       "7       494.73316  \n",
       "8       516.16773  \n",
       "9       525.91728  \n",
       "10      525.33899  \n",
       "11      535.57150  \n",
       "12      515.45653  \n",
       "13      492.99894  \n",
       "14      517.13260  \n",
       "15      496.01612  \n",
       "16      510.78312  \n",
       "17      506.46727  \n",
       "18      494.11453  \n",
       "19      507.91777  \n",
       "20      496.66494  \n",
       "21      510.21950  \n",
       "22      517.54055  \n",
       "23      456.67976  "
      ]
     },
     "execution_count": 243,
     "metadata": {},
     "output_type": "execute_result"
    }
   ],
   "source": [
    "CA_mensuel['CA_mensuel_K€'] = CA_mensuel.price / 1000\n",
    "CA_mensuel.head(24)"
   ]
  },
  {
   "cell_type": "code",
   "execution_count": 244,
   "id": "709670f2",
   "metadata": {},
   "outputs": [
    {
     "data": {
      "text/plain": [
       "date_ok          period[M]\n",
       "annee                int64\n",
       "mois                 int64\n",
       "jour                 int64\n",
       "price              float64\n",
       "birth                int64\n",
       "age                  int64\n",
       "CA_mensuel_K€      float64\n",
       "dtype: object"
      ]
     },
     "execution_count": 244,
     "metadata": {},
     "output_type": "execute_result"
    }
   ],
   "source": [
    "CA_mensuel.dtypes"
   ]
  },
  {
   "cell_type": "code",
   "execution_count": 245,
   "id": "fdf1c631",
   "metadata": {},
   "outputs": [],
   "source": [
    "CA_mensuel.columns = CA_mensuel.columns.str.strip()"
   ]
  },
  {
   "cell_type": "code",
   "execution_count": 246,
   "id": "02b69945",
   "metadata": {},
   "outputs": [
    {
     "data": {
      "text/plain": [
       "Index(['date_ok', 'annee', 'mois', 'jour', 'price', 'birth', 'age',\n",
       "       'CA_mensuel_K€'],\n",
       "      dtype='object')"
      ]
     },
     "execution_count": 246,
     "metadata": {},
     "output_type": "execute_result"
    }
   ],
   "source": [
    "CA_mensuel.columns"
   ]
  },
  {
   "cell_type": "markdown",
   "id": "2ed304f7",
   "metadata": {},
   "source": [
    "#### 3.3.2  Graphique de l'évolution mensuelle du CA"
   ]
  },
  {
   "cell_type": "code",
   "execution_count": 247,
   "id": "04049bd7",
   "metadata": {},
   "outputs": [
    {
     "data": {
      "image/png": "[encoded data removed]",
      "text/plain": [
       "<Figure size 432x288 with 1 Axes>"
      ]
     },
     "metadata": {
      "needs_background": "light"
     },
     "output_type": "display_data"
    }
   ],
   "source": [
    "CA_mensuel.plot(x='date_ok', y='CA_mensuel_K€')\n",
    "plt.title(\"Evolution du chiffre d'affaires mensuel global en K€\")\n",
    "plt.show()\n"
   ]
  },
  {
   "cell_type": "code",
   "execution_count": 248,
   "id": "1b70cc40",
   "metadata": {},
   "outputs": [
    {
     "data": {
      "text/html": [
       "<div>\n",
       "<style scoped>\n",
       "    .dataframe tbody tr th:only-of-type {\n",
       "        vertical-align: middle;\n",
       "    }\n",
       "\n",
       "    .dataframe tbody tr th {\n",
       "        vertical-align: top;\n",
       "    }\n",
       "\n",
       "    .dataframe thead th {\n",
       "        text-align: right;\n",
       "    }\n",
       "</style>\n",
       "<table border=\"1\" class=\"dataframe\">\n",
       "  <thead>\n",
       "    <tr style=\"text-align: right;\">\n",
       "      <th></th>\n",
       "      <th>date_ok</th>\n",
       "      <th>annee</th>\n",
       "      <th>mois</th>\n",
       "      <th>jour</th>\n",
       "      <th>price</th>\n",
       "      <th>birth</th>\n",
       "      <th>age</th>\n",
       "      <th>CA_mensuel_K€</th>\n",
       "    </tr>\n",
       "  </thead>\n",
       "  <tbody>\n",
       "    <tr>\n",
       "      <th>0</th>\n",
       "      <td>2021-03</td>\n",
       "      <td>57802621</td>\n",
       "      <td>85803</td>\n",
       "      <td>455301</td>\n",
       "      <td>482440.61</td>\n",
       "      <td>56568240</td>\n",
       "      <td>1291583</td>\n",
       "      <td>482.44061</td>\n",
       "    </tr>\n",
       "    <tr>\n",
       "      <th>1</th>\n",
       "      <td>2021-04</td>\n",
       "      <td>57483303</td>\n",
       "      <td>113772</td>\n",
       "      <td>443903</td>\n",
       "      <td>476109.30</td>\n",
       "      <td>56263669</td>\n",
       "      <td>1276520</td>\n",
       "      <td>476.10930</td>\n",
       "    </tr>\n",
       "    <tr>\n",
       "      <th>2</th>\n",
       "      <td>2021-05</td>\n",
       "      <td>57163985</td>\n",
       "      <td>141425</td>\n",
       "      <td>452166</td>\n",
       "      <td>492943.47</td>\n",
       "      <td>55946722</td>\n",
       "      <td>1273833</td>\n",
       "      <td>492.94347</td>\n",
       "    </tr>\n",
       "    <tr>\n",
       "      <th>3</th>\n",
       "      <td>2021-06</td>\n",
       "      <td>54263850</td>\n",
       "      <td>161100</td>\n",
       "      <td>415841</td>\n",
       "      <td>484088.56</td>\n",
       "      <td>53109429</td>\n",
       "      <td>1208121</td>\n",
       "      <td>484.08856</td>\n",
       "    </tr>\n",
       "    <tr>\n",
       "      <th>4</th>\n",
       "      <td>2021-07</td>\n",
       "      <td>49995498</td>\n",
       "      <td>173166</td>\n",
       "      <td>390168</td>\n",
       "      <td>482835.40</td>\n",
       "      <td>48937912</td>\n",
       "      <td>1107062</td>\n",
       "      <td>482.83540</td>\n",
       "    </tr>\n",
       "    <tr>\n",
       "      <th>5</th>\n",
       "      <td>2021-08</td>\n",
       "      <td>51838650</td>\n",
       "      <td>205200</td>\n",
       "      <td>412824</td>\n",
       "      <td>482284.79</td>\n",
       "      <td>50744390</td>\n",
       "      <td>1145560</td>\n",
       "      <td>482.28479</td>\n",
       "    </tr>\n",
       "    <tr>\n",
       "      <th>6</th>\n",
       "      <td>2021-09</td>\n",
       "      <td>67327594</td>\n",
       "      <td>299826</td>\n",
       "      <td>542549</td>\n",
       "      <td>507240.68</td>\n",
       "      <td>65873169</td>\n",
       "      <td>1521053</td>\n",
       "      <td>507.24068</td>\n",
       "    </tr>\n",
       "    <tr>\n",
       "      <th>7</th>\n",
       "      <td>2021-10</td>\n",
       "      <td>60674462</td>\n",
       "      <td>300220</td>\n",
       "      <td>449286</td>\n",
       "      <td>494733.16</td>\n",
       "      <td>59404874</td>\n",
       "      <td>1329632</td>\n",
       "      <td>494.73316</td>\n",
       "    </tr>\n",
       "    <tr>\n",
       "      <th>8</th>\n",
       "      <td>2021-11</td>\n",
       "      <td>57216531</td>\n",
       "      <td>311421</td>\n",
       "      <td>439126</td>\n",
       "      <td>516167.73</td>\n",
       "      <td>55982751</td>\n",
       "      <td>1290402</td>\n",
       "      <td>516.16773</td>\n",
       "    </tr>\n",
       "    <tr>\n",
       "      <th>9</th>\n",
       "      <td>2021-12</td>\n",
       "      <td>65595597</td>\n",
       "      <td>389484</td>\n",
       "      <td>531920</td>\n",
       "      <td>525917.28</td>\n",
       "      <td>64170857</td>\n",
       "      <td>1489654</td>\n",
       "      <td>525.91728</td>\n",
       "    </tr>\n",
       "    <tr>\n",
       "      <th>10</th>\n",
       "      <td>2022-01</td>\n",
       "      <td>59331546</td>\n",
       "      <td>29343</td>\n",
       "      <td>462553</td>\n",
       "      <td>525338.99</td>\n",
       "      <td>58020101</td>\n",
       "      <td>1340788</td>\n",
       "      <td>525.33899</td>\n",
       "    </tr>\n",
       "    <tr>\n",
       "      <th>11</th>\n",
       "      <td>2022-02</td>\n",
       "      <td>59839068</td>\n",
       "      <td>59188</td>\n",
       "      <td>431427</td>\n",
       "      <td>535571.50</td>\n",
       "      <td>58534200</td>\n",
       "      <td>1334462</td>\n",
       "      <td>535.57150</td>\n",
       "    </tr>\n",
       "    <tr>\n",
       "      <th>12</th>\n",
       "      <td>2022-03</td>\n",
       "      <td>60045312</td>\n",
       "      <td>89088</td>\n",
       "      <td>478154</td>\n",
       "      <td>515456.53</td>\n",
       "      <td>58728078</td>\n",
       "      <td>1346930</td>\n",
       "      <td>515.45653</td>\n",
       "    </tr>\n",
       "    <tr>\n",
       "      <th>13</th>\n",
       "      <td>2022-04</td>\n",
       "      <td>55811244</td>\n",
       "      <td>110408</td>\n",
       "      <td>430517</td>\n",
       "      <td>492998.94</td>\n",
       "      <td>54596000</td>\n",
       "      <td>1242846</td>\n",
       "      <td>492.99894</td>\n",
       "    </tr>\n",
       "    <tr>\n",
       "      <th>14</th>\n",
       "      <td>2022-05</td>\n",
       "      <td>60609450</td>\n",
       "      <td>149875</td>\n",
       "      <td>479852</td>\n",
       "      <td>517132.60</td>\n",
       "      <td>59285033</td>\n",
       "      <td>1354392</td>\n",
       "      <td>517.13260</td>\n",
       "    </tr>\n",
       "    <tr>\n",
       "      <th>15</th>\n",
       "      <td>2022-06</td>\n",
       "      <td>57635088</td>\n",
       "      <td>171024</td>\n",
       "      <td>440726</td>\n",
       "      <td>496016.12</td>\n",
       "      <td>56369873</td>\n",
       "      <td>1293719</td>\n",
       "      <td>496.01612</td>\n",
       "    </tr>\n",
       "    <tr>\n",
       "      <th>16</th>\n",
       "      <td>2022-07</td>\n",
       "      <td>57970740</td>\n",
       "      <td>200690</td>\n",
       "      <td>454065</td>\n",
       "      <td>510783.12</td>\n",
       "      <td>56705014</td>\n",
       "      <td>1294396</td>\n",
       "      <td>510.78312</td>\n",
       "    </tr>\n",
       "    <tr>\n",
       "      <th>17</th>\n",
       "      <td>2022-08</td>\n",
       "      <td>57715968</td>\n",
       "      <td>228352</td>\n",
       "      <td>450959</td>\n",
       "      <td>506467.27</td>\n",
       "      <td>56451254</td>\n",
       "      <td>1293258</td>\n",
       "      <td>506.46727</td>\n",
       "    </tr>\n",
       "    <tr>\n",
       "      <th>18</th>\n",
       "      <td>2022-09</td>\n",
       "      <td>57234732</td>\n",
       "      <td>254754</td>\n",
       "      <td>442232</td>\n",
       "      <td>494114.53</td>\n",
       "      <td>55986324</td>\n",
       "      <td>1276714</td>\n",
       "      <td>494.11453</td>\n",
       "    </tr>\n",
       "    <tr>\n",
       "      <th>19</th>\n",
       "      <td>2022-10</td>\n",
       "      <td>58565208</td>\n",
       "      <td>289640</td>\n",
       "      <td>463644</td>\n",
       "      <td>507917.77</td>\n",
       "      <td>57283451</td>\n",
       "      <td>1310721</td>\n",
       "      <td>507.91777</td>\n",
       "    </tr>\n",
       "    <tr>\n",
       "      <th>20</th>\n",
       "      <td>2022-11</td>\n",
       "      <td>57754386</td>\n",
       "      <td>314193</td>\n",
       "      <td>449122</td>\n",
       "      <td>496664.94</td>\n",
       "      <td>56494737</td>\n",
       "      <td>1288212</td>\n",
       "      <td>496.66494</td>\n",
       "    </tr>\n",
       "    <tr>\n",
       "      <th>21</th>\n",
       "      <td>2022-12</td>\n",
       "      <td>57867618</td>\n",
       "      <td>343428</td>\n",
       "      <td>449524</td>\n",
       "      <td>510219.50</td>\n",
       "      <td>56601986</td>\n",
       "      <td>1294251</td>\n",
       "      <td>510.21950</td>\n",
       "    </tr>\n",
       "    <tr>\n",
       "      <th>22</th>\n",
       "      <td>2023-01</td>\n",
       "      <td>58541574</td>\n",
       "      <td>28938</td>\n",
       "      <td>461858</td>\n",
       "      <td>517540.55</td>\n",
       "      <td>57235231</td>\n",
       "      <td>1306343</td>\n",
       "      <td>517.54055</td>\n",
       "    </tr>\n",
       "    <tr>\n",
       "      <th>23</th>\n",
       "      <td>2023-02</td>\n",
       "      <td>51677535</td>\n",
       "      <td>51090</td>\n",
       "      <td>377057</td>\n",
       "      <td>456679.76</td>\n",
       "      <td>50523407</td>\n",
       "      <td>1154128</td>\n",
       "      <td>456.67976</td>\n",
       "    </tr>\n",
       "  </tbody>\n",
       "</table>\n",
       "</div>"
      ],
      "text/plain": [
       "    date_ok     annee    mois    jour      price     birth      age  \\\n",
       "0   2021-03  57802621   85803  455301  482440.61  56568240  1291583   \n",
       "1   2021-04  57483303  113772  443903  476109.30  56263669  1276520   \n",
       "2   2021-05  57163985  141425  452166  492943.47  55946722  1273833   \n",
       "3   2021-06  54263850  161100  415841  484088.56  53109429  1208121   \n",
       "4   2021-07  49995498  173166  390168  482835.40  48937912  1107062   \n",
       "5   2021-08  51838650  205200  412824  482284.79  50744390  1145560   \n",
       "6   2021-09  67327594  299826  542549  507240.68  65873169  1521053   \n",
       "7   2021-10  60674462  300220  449286  494733.16  59404874  1329632   \n",
       "8   2021-11  57216531  311421  439126  516167.73  55982751  1290402   \n",
       "9   2021-12  65595597  389484  531920  525917.28  64170857  1489654   \n",
       "10  2022-01  59331546   29343  462553  525338.99  58020101  1340788   \n",
       "11  2022-02  59839068   59188  431427  535571.50  58534200  1334462   \n",
       "12  2022-03  60045312   89088  478154  515456.53  58728078  1346930   \n",
       "13  2022-04  55811244  110408  430517  492998.94  54596000  1242846   \n",
       "14  2022-05  60609450  149875  479852  517132.60  59285033  1354392   \n",
       "15  2022-06  57635088  171024  440726  496016.12  56369873  1293719   \n",
       "16  2022-07  57970740  200690  454065  510783.12  56705014  1294396   \n",
       "17  2022-08  57715968  228352  450959  506467.27  56451254  1293258   \n",
       "18  2022-09  57234732  254754  442232  494114.53  55986324  1276714   \n",
       "19  2022-10  58565208  289640  463644  507917.77  57283451  1310721   \n",
       "20  2022-11  57754386  314193  449122  496664.94  56494737  1288212   \n",
       "21  2022-12  57867618  343428  449524  510219.50  56601986  1294251   \n",
       "22  2023-01  58541574   28938  461858  517540.55  57235231  1306343   \n",
       "23  2023-02  51677535   51090  377057  456679.76  50523407  1154128   \n",
       "\n",
       "    CA_mensuel_K€  \n",
       "0       482.44061  \n",
       "1       476.10930  \n",
       "2       492.94347  \n",
       "3       484.08856  \n",
       "4       482.83540  \n",
       "5       482.28479  \n",
       "6       507.24068  \n",
       "7       494.73316  \n",
       "8       516.16773  \n",
       "9       525.91728  \n",
       "10      525.33899  \n",
       "11      535.57150  \n",
       "12      515.45653  \n",
       "13      492.99894  \n",
       "14      517.13260  \n",
       "15      496.01612  \n",
       "16      510.78312  \n",
       "17      506.46727  \n",
       "18      494.11453  \n",
       "19      507.91777  \n",
       "20      496.66494  \n",
       "21      510.21950  \n",
       "22      517.54055  \n",
       "23      456.67976  "
      ]
     },
     "execution_count": 248,
     "metadata": {},
     "output_type": "execute_result"
    }
   ],
   "source": [
    "CA_mensuel "
   ]
  },
  {
   "cell_type": "markdown",
   "id": "472120bf",
   "metadata": {},
   "source": [
    "#### 3.3.3  Décomposition en moyenne mobile"
   ]
  },
  {
   "cell_type": "code",
   "execution_count": 249,
   "id": "3d4cd17b",
   "metadata": {},
   "outputs": [
    {
     "name": "stdout",
     "output_type": "stream",
     "text": [
      "0            NaN\n",
      "1            NaN\n",
      "2            NaN\n",
      "3            NaN\n",
      "4     483.683468\n",
      "5     483.652304\n",
      "6     489.878580\n",
      "7     490.236518\n",
      "8     496.652352\n",
      "9     505.268728\n",
      "10    513.879568\n",
      "11    519.545732\n",
      "12    523.690406\n",
      "13    519.056648\n",
      "14    517.299712\n",
      "15    511.435138\n",
      "16    506.477462\n",
      "17    504.679610\n",
      "18    504.902728\n",
      "19    503.059762\n",
      "20    503.189526\n",
      "21    503.076802\n",
      "22    505.291458\n",
      "23    497.804504\n",
      "Name: CA_mensuel_K€, dtype: float64\n"
     ]
    }
   ],
   "source": [
    "# Decomposition en moyenne mobile:\n",
    "Moyenne_mobile = CA_mensuel['CA_mensuel_K€'].rolling(5).mean()\n",
    "print(Moyenne_mobile)"
   ]
  },
  {
   "cell_type": "code",
   "execution_count": 250,
   "id": "35deb7f4",
   "metadata": {},
   "outputs": [],
   "source": [
    "# il faut cherche avoir une courbe plus lisse il faut changer les valeur du rollinf tester 5, 7...\n",
    "# Graphique moyenne mobile\n",
    "#Moyenne_mobile.plot()\n",
    "#plt.xlabel(\"Chiffre d'affaires en K€\")\n",
    "#plt.ylabel(\"Période\")\n",
    "#plt.title(\"Moyenne mobile du chiffre d'affaire global\")"
   ]
  },
  {
   "cell_type": "code",
   "execution_count": 251,
   "id": "38f41012",
   "metadata": {},
   "outputs": [
    {
     "data": {
      "image/png": "[encoded data removed]",
      "text/plain": [
       "<Figure size 432x288 with 1 Axes>"
      ]
     },
     "metadata": {
      "needs_background": "light"
     },
     "output_type": "display_data"
    }
   ],
   "source": [
    "# Calculez la moyenne mobile sur une période de 5 jours\n",
    "Moyenne_mobile = CA_mensuel['CA_mensuel_K€'].rolling(6).mean()\n",
    "\n",
    "plt.plot(CA_mensuel.index, Moyenne_mobile, label='Moyenne Mobile')\n",
    "plt.xlabel(\"Période (mois)\")\n",
    "plt.ylabel(\"Chiffre d'affaires en K€\")\n",
    "plt.title(\"Moyenne mobile du chiffre d'affaires global\")\n",
    "\n",
    "plt.legend()  # Ajoute une légende\n",
    "\n",
    "plt.show()"
   ]
  },
  {
   "cell_type": "markdown",
   "id": "91664684",
   "metadata": {},
   "source": [
    "## 3.4 Chiffre d'affaires par catégorie"
   ]
  },
  {
   "cell_type": "code",
   "execution_count": 252,
   "id": "9a3ef6ac",
   "metadata": {},
   "outputs": [
    {
     "data": {
      "text/plain": [
       "categ\n",
       "0    4419730.97\n",
       "1    4827657.11\n",
       "2    2780275.02\n",
       "Name: price, dtype: float64"
      ]
     },
     "execution_count": 252,
     "metadata": {},
     "output_type": "execute_result"
    }
   ],
   "source": [
    "# CA par catégorie\n",
    "CA_annuel = transactions_profil.groupby([\"categ\"])[\"price\"].sum()\n",
    "CA_annuel"
   ]
  },
  {
   "cell_type": "code",
   "execution_count": 253,
   "id": "c77397c2",
   "metadata": {},
   "outputs": [
    {
     "data": {
      "text/plain": [
       "categ\n",
       "0    415459\n",
       "1    235592\n",
       "2     36483\n",
       "Name: session_id, dtype: int64"
      ]
     },
     "execution_count": 253,
     "metadata": {},
     "output_type": "execute_result"
    }
   ],
   "source": [
    "# Nb de ventes par catégorie\n",
    "Ventes_annuelles = transactions_profil.groupby(['categ'])[\"session_id\"].count()\n",
    "Ventes_annuelles"
   ]
  },
  {
   "cell_type": "code",
   "execution_count": 254,
   "id": "ca06f454",
   "metadata": {},
   "outputs": [
    {
     "data": {
      "image/png": "[encoded data removed]",
      "text/plain": [
       "<Figure size 432x288 with 1 Axes>"
      ]
     },
     "metadata": {},
     "output_type": "display_data"
    }
   ],
   "source": [
    "# Graphique: CA par catégorie\n",
    "fig1, ax1 = plt.subplots()\n",
    "ax1.pie(CA_annuel,\n",
    "        labels=[\"0\",\"1\",\"2\"],\n",
    "        autopct=\"%1.1f%%\")\n",
    "ax1.axis(\"equal\")\n",
    "plt.title(\"Répartition du chiffre d'affaires par catégorie\")\n",
    "plt.show()"
   ]
  },
  {
   "cell_type": "markdown",
   "id": "41c2dcf0",
   "metadata": {},
   "source": [
    "## 3.5 Evolution du chiffre d'affaires par catégorie de livres"
   ]
  },
  {
   "cell_type": "code",
   "execution_count": 255,
   "id": "c8856d66",
   "metadata": {},
   "outputs": [
    {
     "data": {
      "image/png": "[encoded data removed]",
      "text/plain": [
       "<Figure size 576x288 with 1 Axes>"
      ]
     },
     "metadata": {
      "needs_background": "light"
     },
     "output_type": "display_data"
    }
   ],
   "source": [
    "transactions_profil_0 = transactions_profil.loc[transactions_profil['categ'] == '0', :]\n",
    "transactions_profil_1 = transactions_profil.loc[transactions_profil['categ'] == '1', :]\n",
    "transactions_profil_2 = transactions_profil.loc[transactions_profil['categ'] == '2', :] \n",
    "transactions_profil_0 = transactions_profil_0.groupby('année_mois').sum()[['price']]\n",
    "transactions_profil_1 = transactions_profil_1.groupby('année_mois').sum()[['price']]\n",
    "transactions_profil_2 = transactions_profil_2.groupby('année_mois').sum()[['price']]\n",
    "plt.figure(figsize=(8,4))\n",
    "plt.plot(transactions_profil_0, label = 'CATEG_0')\n",
    "plt.plot(transactions_profil_1, label = 'CATEG_1') \n",
    "plt.plot(transactions_profil_2, label = 'CATEG_2')\n",
    "plt.legend()\n",
    "plt.title(\"Evolution du chiffres d'affaires par catégorie de livres\", fontsize=12, color='grey', fontweight='bold')\n",
    "plt.xlabel(\"Date\")\n",
    "plt.ylabel(\"chiffre d'affaires en €\")\n",
    "plt.xticks(rotation=45)\n",
    "plt.show()"
   ]
  },
  {
   "cell_type": "code",
   "execution_count": null,
   "id": "2a9344f4",
   "metadata": {},
   "outputs": [],
   "source": []
  },
  {
   "cell_type": "markdown",
   "id": "17b1c4dd",
   "metadata": {},
   "source": [
    "## 3.6 Inégalité entre les clients"
   ]
  },
  {
   "cell_type": "markdown",
   "id": "62988fa9",
   "metadata": {},
   "source": [
    "#### 3.6.1 Chiffre d'affaires par client"
   ]
  },
  {
   "cell_type": "code",
   "execution_count": 256,
   "id": "a99489b3",
   "metadata": {},
   "outputs": [
    {
     "data": {
      "text/html": [
       "<div>\n",
       "<style scoped>\n",
       "    .dataframe tbody tr th:only-of-type {\n",
       "        vertical-align: middle;\n",
       "    }\n",
       "\n",
       "    .dataframe tbody tr th {\n",
       "        vertical-align: top;\n",
       "    }\n",
       "\n",
       "    .dataframe thead th {\n",
       "        text-align: right;\n",
       "    }\n",
       "</style>\n",
       "<table border=\"1\" class=\"dataframe\">\n",
       "  <thead>\n",
       "    <tr style=\"text-align: right;\">\n",
       "      <th></th>\n",
       "      <th>client_id</th>\n",
       "      <th>price</th>\n",
       "    </tr>\n",
       "  </thead>\n",
       "  <tbody>\n",
       "    <tr>\n",
       "      <th>677</th>\n",
       "      <td>c_1609</td>\n",
       "      <td>326039.89</td>\n",
       "    </tr>\n",
       "    <tr>\n",
       "      <th>4388</th>\n",
       "      <td>c_4958</td>\n",
       "      <td>290227.03</td>\n",
       "    </tr>\n",
       "    <tr>\n",
       "      <th>6337</th>\n",
       "      <td>c_6714</td>\n",
       "      <td>153918.60</td>\n",
       "    </tr>\n",
       "    <tr>\n",
       "      <th>2724</th>\n",
       "      <td>c_3454</td>\n",
       "      <td>114110.57</td>\n",
       "    </tr>\n",
       "    <tr>\n",
       "      <th>634</th>\n",
       "      <td>c_1570</td>\n",
       "      <td>5285.82</td>\n",
       "    </tr>\n",
       "    <tr>\n",
       "      <th>...</th>\n",
       "      <td>...</td>\n",
       "      <td>...</td>\n",
       "    </tr>\n",
       "    <tr>\n",
       "      <th>3855</th>\n",
       "      <td>c_4478</td>\n",
       "      <td>13.36</td>\n",
       "    </tr>\n",
       "    <tr>\n",
       "      <th>4044</th>\n",
       "      <td>c_4648</td>\n",
       "      <td>11.20</td>\n",
       "    </tr>\n",
       "    <tr>\n",
       "      <th>7889</th>\n",
       "      <td>c_8114</td>\n",
       "      <td>9.98</td>\n",
       "    </tr>\n",
       "    <tr>\n",
       "      <th>7918</th>\n",
       "      <td>c_8140</td>\n",
       "      <td>8.30</td>\n",
       "    </tr>\n",
       "    <tr>\n",
       "      <th>8151</th>\n",
       "      <td>c_8351</td>\n",
       "      <td>6.31</td>\n",
       "    </tr>\n",
       "  </tbody>\n",
       "</table>\n",
       "<p>8600 rows × 2 columns</p>\n",
       "</div>"
      ],
      "text/plain": [
       "     client_id      price\n",
       "677     c_1609  326039.89\n",
       "4388    c_4958  290227.03\n",
       "6337    c_6714  153918.60\n",
       "2724    c_3454  114110.57\n",
       "634     c_1570    5285.82\n",
       "...        ...        ...\n",
       "3855    c_4478      13.36\n",
       "4044    c_4648      11.20\n",
       "7889    c_8114       9.98\n",
       "7918    c_8140       8.30\n",
       "8151    c_8351       6.31\n",
       "\n",
       "[8600 rows x 2 columns]"
      ]
     },
     "execution_count": 256,
     "metadata": {},
     "output_type": "execute_result"
    }
   ],
   "source": [
    "# CA par client\n",
    "CA_client = transactions_products.groupby([\"client_id\"])[\"price\"].sum().reset_index()\n",
    "CA_client.sort_values(by='price', ascending=False)"
   ]
  },
  {
   "cell_type": "markdown",
   "id": "09f6dd35",
   "metadata": {},
   "source": [
    "Nous distinguons 4 gros clients dont le total des commandes est supérieur à 110 000€.\n",
    "Il s'agit des clients c_1609, C_4958, C_6714 et C_3454. Nous allons étudier plus précisément ces 4 clients et nous poser la question : est ce qu'il faut les isoler de l'étude sur l'évolution du chiffre d'affaires global?"
   ]
  },
  {
   "cell_type": "markdown",
   "id": "b9ecd351",
   "metadata": {},
   "source": [
    "#### 3.6.1.1 ajout du profil client : sexe, âge, tranche d'âge"
   ]
  },
  {
   "cell_type": "code",
   "execution_count": 257,
   "id": "4fb8dd2f",
   "metadata": {},
   "outputs": [
    {
     "data": {
      "text/html": [
       "<div>\n",
       "<style scoped>\n",
       "    .dataframe tbody tr th:only-of-type {\n",
       "        vertical-align: middle;\n",
       "    }\n",
       "\n",
       "    .dataframe tbody tr th {\n",
       "        vertical-align: top;\n",
       "    }\n",
       "\n",
       "    .dataframe thead th {\n",
       "        text-align: right;\n",
       "    }\n",
       "</style>\n",
       "<table border=\"1\" class=\"dataframe\">\n",
       "  <thead>\n",
       "    <tr style=\"text-align: right;\">\n",
       "      <th></th>\n",
       "      <th>client_id</th>\n",
       "      <th>price</th>\n",
       "      <th>sex</th>\n",
       "      <th>birth</th>\n",
       "      <th>age</th>\n",
       "      <th>tranche_age</th>\n",
       "    </tr>\n",
       "  </thead>\n",
       "  <tbody>\n",
       "    <tr>\n",
       "      <th>677</th>\n",
       "      <td>c_1609</td>\n",
       "      <td>326039.89</td>\n",
       "      <td>m</td>\n",
       "      <td>1980</td>\n",
       "      <td>43</td>\n",
       "      <td>40-49</td>\n",
       "    </tr>\n",
       "    <tr>\n",
       "      <th>4388</th>\n",
       "      <td>c_4958</td>\n",
       "      <td>290227.03</td>\n",
       "      <td>m</td>\n",
       "      <td>1999</td>\n",
       "      <td>24</td>\n",
       "      <td>20-29</td>\n",
       "    </tr>\n",
       "    <tr>\n",
       "      <th>6337</th>\n",
       "      <td>c_6714</td>\n",
       "      <td>153918.60</td>\n",
       "      <td>f</td>\n",
       "      <td>1968</td>\n",
       "      <td>55</td>\n",
       "      <td>50-59</td>\n",
       "    </tr>\n",
       "    <tr>\n",
       "      <th>2724</th>\n",
       "      <td>c_3454</td>\n",
       "      <td>114110.57</td>\n",
       "      <td>m</td>\n",
       "      <td>1969</td>\n",
       "      <td>54</td>\n",
       "      <td>50-59</td>\n",
       "    </tr>\n",
       "    <tr>\n",
       "      <th>634</th>\n",
       "      <td>c_1570</td>\n",
       "      <td>5285.82</td>\n",
       "      <td>f</td>\n",
       "      <td>1979</td>\n",
       "      <td>44</td>\n",
       "      <td>40-49</td>\n",
       "    </tr>\n",
       "    <tr>\n",
       "      <th>...</th>\n",
       "      <td>...</td>\n",
       "      <td>...</td>\n",
       "      <td>...</td>\n",
       "      <td>...</td>\n",
       "      <td>...</td>\n",
       "      <td>...</td>\n",
       "    </tr>\n",
       "    <tr>\n",
       "      <th>3855</th>\n",
       "      <td>c_4478</td>\n",
       "      <td>13.36</td>\n",
       "      <td>f</td>\n",
       "      <td>1970</td>\n",
       "      <td>53</td>\n",
       "      <td>50-59</td>\n",
       "    </tr>\n",
       "    <tr>\n",
       "      <th>4044</th>\n",
       "      <td>c_4648</td>\n",
       "      <td>11.20</td>\n",
       "      <td>m</td>\n",
       "      <td>2004</td>\n",
       "      <td>19</td>\n",
       "      <td>18-19</td>\n",
       "    </tr>\n",
       "    <tr>\n",
       "      <th>7889</th>\n",
       "      <td>c_8114</td>\n",
       "      <td>9.98</td>\n",
       "      <td>m</td>\n",
       "      <td>1962</td>\n",
       "      <td>61</td>\n",
       "      <td>60-69</td>\n",
       "    </tr>\n",
       "    <tr>\n",
       "      <th>7918</th>\n",
       "      <td>c_8140</td>\n",
       "      <td>8.30</td>\n",
       "      <td>m</td>\n",
       "      <td>1971</td>\n",
       "      <td>52</td>\n",
       "      <td>50-59</td>\n",
       "    </tr>\n",
       "    <tr>\n",
       "      <th>8151</th>\n",
       "      <td>c_8351</td>\n",
       "      <td>6.31</td>\n",
       "      <td>f</td>\n",
       "      <td>1968</td>\n",
       "      <td>55</td>\n",
       "      <td>50-59</td>\n",
       "    </tr>\n",
       "  </tbody>\n",
       "</table>\n",
       "<p>8600 rows × 6 columns</p>\n",
       "</div>"
      ],
      "text/plain": [
       "     client_id      price sex  birth  age tranche_age\n",
       "677     c_1609  326039.89   m   1980   43       40-49\n",
       "4388    c_4958  290227.03   m   1999   24       20-29\n",
       "6337    c_6714  153918.60   f   1968   55       50-59\n",
       "2724    c_3454  114110.57   m   1969   54       50-59\n",
       "634     c_1570    5285.82   f   1979   44       40-49\n",
       "...        ...        ...  ..    ...  ...         ...\n",
       "3855    c_4478      13.36   f   1970   53       50-59\n",
       "4044    c_4648      11.20   m   2004   19       18-19\n",
       "7889    c_8114       9.98   m   1962   61       60-69\n",
       "7918    c_8140       8.30   m   1971   52       50-59\n",
       "8151    c_8351       6.31   f   1968   55       50-59\n",
       "\n",
       "[8600 rows x 6 columns]"
      ]
     },
     "execution_count": 257,
     "metadata": {},
     "output_type": "execute_result"
    }
   ],
   "source": [
    "CA_client_profil = pd.merge(CA_client, customers, how=\"left\", left_on=\"client_id\", right_on=\"client_id\")\n",
    "CA_client_profil.sort_values(by='price', ascending=False)"
   ]
  },
  {
   "cell_type": "markdown",
   "id": "ac0c5832",
   "metadata": {},
   "source": [
    "#### 3.6.2 Création du dataframe des clients pro"
   ]
  },
  {
   "cell_type": "code",
   "execution_count": 258,
   "id": "3d7f058d",
   "metadata": {},
   "outputs": [
    {
     "data": {
      "text/html": [
       "<div>\n",
       "<style scoped>\n",
       "    .dataframe tbody tr th:only-of-type {\n",
       "        vertical-align: middle;\n",
       "    }\n",
       "\n",
       "    .dataframe tbody tr th {\n",
       "        vertical-align: top;\n",
       "    }\n",
       "\n",
       "    .dataframe thead th {\n",
       "        text-align: right;\n",
       "    }\n",
       "</style>\n",
       "<table border=\"1\" class=\"dataframe\">\n",
       "  <thead>\n",
       "    <tr style=\"text-align: right;\">\n",
       "      <th></th>\n",
       "      <th>id_prod</th>\n",
       "      <th>date</th>\n",
       "      <th>session_id</th>\n",
       "      <th>client_id</th>\n",
       "      <th>clé composite</th>\n",
       "      <th>année_mois</th>\n",
       "      <th>date2</th>\n",
       "      <th>date_ok</th>\n",
       "      <th>annee</th>\n",
       "      <th>mois</th>\n",
       "      <th>jour</th>\n",
       "      <th>price</th>\n",
       "      <th>categ</th>\n",
       "    </tr>\n",
       "  </thead>\n",
       "  <tbody>\n",
       "    <tr>\n",
       "      <th>6</th>\n",
       "      <td>0_1304</td>\n",
       "      <td>2021-03-01 00:07:04.371179</td>\n",
       "      <td>s_7</td>\n",
       "      <td>c_1609</td>\n",
       "      <td>c_16092021-03-01 00:07:04.371179</td>\n",
       "      <td>2021-03</td>\n",
       "      <td>2021-03-01</td>\n",
       "      <td>2021-03-01</td>\n",
       "      <td>2021</td>\n",
       "      <td>3</td>\n",
       "      <td>1</td>\n",
       "      <td>5.86</td>\n",
       "      <td>0</td>\n",
       "    </tr>\n",
       "    <tr>\n",
       "      <th>13</th>\n",
       "      <td>0_1159</td>\n",
       "      <td>2021-03-01 00:11:57.832228</td>\n",
       "      <td>s_7</td>\n",
       "      <td>c_1609</td>\n",
       "      <td>c_16092021-03-01 00:11:57.832228</td>\n",
       "      <td>2021-03</td>\n",
       "      <td>2021-03-01</td>\n",
       "      <td>2021-03-01</td>\n",
       "      <td>2021</td>\n",
       "      <td>3</td>\n",
       "      <td>1</td>\n",
       "      <td>7.99</td>\n",
       "      <td>0</td>\n",
       "    </tr>\n",
       "    <tr>\n",
       "      <th>50</th>\n",
       "      <td>0_1431</td>\n",
       "      <td>2021-03-01 01:08:49.803921</td>\n",
       "      <td>s_33</td>\n",
       "      <td>c_3454</td>\n",
       "      <td>c_34542021-03-01 01:08:49.803921</td>\n",
       "      <td>2021-03</td>\n",
       "      <td>2021-03-01</td>\n",
       "      <td>2021-03-01</td>\n",
       "      <td>2021</td>\n",
       "      <td>3</td>\n",
       "      <td>1</td>\n",
       "      <td>10.99</td>\n",
       "      <td>0</td>\n",
       "    </tr>\n",
       "    <tr>\n",
       "      <th>78</th>\n",
       "      <td>0_1425</td>\n",
       "      <td>2021-03-01 01:56:41.944044</td>\n",
       "      <td>s_46</td>\n",
       "      <td>c_1609</td>\n",
       "      <td>c_16092021-03-01 01:56:41.944044</td>\n",
       "      <td>2021-03</td>\n",
       "      <td>2021-03-01</td>\n",
       "      <td>2021-03-01</td>\n",
       "      <td>2021</td>\n",
       "      <td>3</td>\n",
       "      <td>1</td>\n",
       "      <td>12.99</td>\n",
       "      <td>0</td>\n",
       "    </tr>\n",
       "    <tr>\n",
       "      <th>88</th>\n",
       "      <td>0_1469</td>\n",
       "      <td>2021-03-01 02:12:21.294004</td>\n",
       "      <td>s_53</td>\n",
       "      <td>c_1609</td>\n",
       "      <td>c_16092021-03-01 02:12:21.294004</td>\n",
       "      <td>2021-03</td>\n",
       "      <td>2021-03-01</td>\n",
       "      <td>2021-03-01</td>\n",
       "      <td>2021</td>\n",
       "      <td>3</td>\n",
       "      <td>1</td>\n",
       "      <td>14.99</td>\n",
       "      <td>0</td>\n",
       "    </tr>\n",
       "    <tr>\n",
       "      <th>...</th>\n",
       "      <td>...</td>\n",
       "      <td>...</td>\n",
       "      <td>...</td>\n",
       "      <td>...</td>\n",
       "      <td>...</td>\n",
       "      <td>...</td>\n",
       "      <td>...</td>\n",
       "      <td>...</td>\n",
       "      <td>...</td>\n",
       "      <td>...</td>\n",
       "      <td>...</td>\n",
       "      <td>...</td>\n",
       "      <td>...</td>\n",
       "    </tr>\n",
       "    <tr>\n",
       "      <th>687482</th>\n",
       "      <td>0_1333</td>\n",
       "      <td>2023-02-28 22:40:24.405750</td>\n",
       "      <td>s_348416</td>\n",
       "      <td>c_6714</td>\n",
       "      <td>c_67142023-02-28 22:40:24.405750</td>\n",
       "      <td>2023-02</td>\n",
       "      <td>2023-02-28</td>\n",
       "      <td>2023-02-28</td>\n",
       "      <td>2023</td>\n",
       "      <td>2</td>\n",
       "      <td>28</td>\n",
       "      <td>5.99</td>\n",
       "      <td>0</td>\n",
       "    </tr>\n",
       "    <tr>\n",
       "      <th>687494</th>\n",
       "      <td>1_392</td>\n",
       "      <td>2023-02-28 23:04:51.081903</td>\n",
       "      <td>s_348416</td>\n",
       "      <td>c_6714</td>\n",
       "      <td>c_67142023-02-28 23:04:51.081903</td>\n",
       "      <td>2023-02</td>\n",
       "      <td>2023-02-28</td>\n",
       "      <td>2023-02-28</td>\n",
       "      <td>2023</td>\n",
       "      <td>2</td>\n",
       "      <td>28</td>\n",
       "      <td>18.11</td>\n",
       "      <td>1</td>\n",
       "    </tr>\n",
       "    <tr>\n",
       "      <th>687496</th>\n",
       "      <td>2_13</td>\n",
       "      <td>2023-02-28 23:08:40.035146</td>\n",
       "      <td>s_348403</td>\n",
       "      <td>c_4958</td>\n",
       "      <td>c_49582023-02-28 23:08:40.035146</td>\n",
       "      <td>2023-02</td>\n",
       "      <td>2023-02-28</td>\n",
       "      <td>2023-02-28</td>\n",
       "      <td>2023</td>\n",
       "      <td>2</td>\n",
       "      <td>28</td>\n",
       "      <td>50.99</td>\n",
       "      <td>2</td>\n",
       "    </tr>\n",
       "    <tr>\n",
       "      <th>687498</th>\n",
       "      <td>1_183</td>\n",
       "      <td>2023-02-28 23:10:49.235323</td>\n",
       "      <td>s_348416</td>\n",
       "      <td>c_6714</td>\n",
       "      <td>c_67142023-02-28 23:10:49.235323</td>\n",
       "      <td>2023-02</td>\n",
       "      <td>2023-02-28</td>\n",
       "      <td>2023-02-28</td>\n",
       "      <td>2023</td>\n",
       "      <td>2</td>\n",
       "      <td>28</td>\n",
       "      <td>24.99</td>\n",
       "      <td>1</td>\n",
       "    </tr>\n",
       "    <tr>\n",
       "      <th>687502</th>\n",
       "      <td>1_279</td>\n",
       "      <td>2023-02-28 23:16:12.006088</td>\n",
       "      <td>s_348431</td>\n",
       "      <td>c_3454</td>\n",
       "      <td>c_34542023-02-28 23:16:12.006088</td>\n",
       "      <td>2023-02</td>\n",
       "      <td>2023-02-28</td>\n",
       "      <td>2023-02-28</td>\n",
       "      <td>2023</td>\n",
       "      <td>2</td>\n",
       "      <td>28</td>\n",
       "      <td>27.99</td>\n",
       "      <td>1</td>\n",
       "    </tr>\n",
       "  </tbody>\n",
       "</table>\n",
       "<p>46800 rows × 13 columns</p>\n",
       "</div>"
      ],
      "text/plain": [
       "       id_prod                        date session_id client_id  \\\n",
       "6       0_1304  2021-03-01 00:07:04.371179        s_7    c_1609   \n",
       "13      0_1159  2021-03-01 00:11:57.832228        s_7    c_1609   \n",
       "50      0_1431  2021-03-01 01:08:49.803921       s_33    c_3454   \n",
       "78      0_1425  2021-03-01 01:56:41.944044       s_46    c_1609   \n",
       "88      0_1469  2021-03-01 02:12:21.294004       s_53    c_1609   \n",
       "...        ...                         ...        ...       ...   \n",
       "687482  0_1333  2023-02-28 22:40:24.405750   s_348416    c_6714   \n",
       "687494   1_392  2023-02-28 23:04:51.081903   s_348416    c_6714   \n",
       "687496    2_13  2023-02-28 23:08:40.035146   s_348403    c_4958   \n",
       "687498   1_183  2023-02-28 23:10:49.235323   s_348416    c_6714   \n",
       "687502   1_279  2023-02-28 23:16:12.006088   s_348431    c_3454   \n",
       "\n",
       "                           clé composite année_mois       date2    date_ok  \\\n",
       "6       c_16092021-03-01 00:07:04.371179    2021-03  2021-03-01 2021-03-01   \n",
       "13      c_16092021-03-01 00:11:57.832228    2021-03  2021-03-01 2021-03-01   \n",
       "50      c_34542021-03-01 01:08:49.803921    2021-03  2021-03-01 2021-03-01   \n",
       "78      c_16092021-03-01 01:56:41.944044    2021-03  2021-03-01 2021-03-01   \n",
       "88      c_16092021-03-01 02:12:21.294004    2021-03  2021-03-01 2021-03-01   \n",
       "...                                  ...        ...         ...        ...   \n",
       "687482  c_67142023-02-28 22:40:24.405750    2023-02  2023-02-28 2023-02-28   \n",
       "687494  c_67142023-02-28 23:04:51.081903    2023-02  2023-02-28 2023-02-28   \n",
       "687496  c_49582023-02-28 23:08:40.035146    2023-02  2023-02-28 2023-02-28   \n",
       "687498  c_67142023-02-28 23:10:49.235323    2023-02  2023-02-28 2023-02-28   \n",
       "687502  c_34542023-02-28 23:16:12.006088    2023-02  2023-02-28 2023-02-28   \n",
       "\n",
       "        annee  mois  jour  price categ  \n",
       "6        2021     3     1   5.86     0  \n",
       "13       2021     3     1   7.99     0  \n",
       "50       2021     3     1  10.99     0  \n",
       "78       2021     3     1  12.99     0  \n",
       "88       2021     3     1  14.99     0  \n",
       "...       ...   ...   ...    ...   ...  \n",
       "687482   2023     2    28   5.99     0  \n",
       "687494   2023     2    28  18.11     1  \n",
       "687496   2023     2    28  50.99     2  \n",
       "687498   2023     2    28  24.99     1  \n",
       "687502   2023     2    28  27.99     1  \n",
       "\n",
       "[46800 rows x 13 columns]"
      ]
     },
     "execution_count": 258,
     "metadata": {},
     "output_type": "execute_result"
    }
   ],
   "source": [
    "# création du dataframe des clients professionnels\n",
    "list_pro = (\"c_1609\", \"c_6714\" , \"c_3454\",  \"c_4958\")\n",
    "professionnels = transactions_products.loc[transactions_products[\"client_id\"].isin(list_pro)]\n",
    "professionnels"
   ]
  },
  {
   "cell_type": "markdown",
   "id": "505a1259",
   "metadata": {},
   "source": [
    "#### 3.6.3 3 clients professionnels représentent 7,35% du chiffres d'affaires global\n",
    "\n"
   ]
  },
  {
   "cell_type": "code",
   "execution_count": 259,
   "id": "acb4a9e4",
   "metadata": {},
   "outputs": [
    {
     "name": "stdout",
     "output_type": "stream",
     "text": [
      "Clients professionnels : 7.35 % du chiffre d'affaires annuel\n"
     ]
    }
   ],
   "source": [
    "# calcul part des clients pro\n",
    "print('Clients professionnels :',\n",
    "    round(professionnels['price'].sum() / transactions_products['price'].sum() * 100, 2), '% du chiffre d\\'affaires annuel')"
   ]
  },
  {
   "cell_type": "code",
   "execution_count": 260,
   "id": "06ec913d",
   "metadata": {},
   "outputs": [
    {
     "data": {
      "text/plain": [
       "884296.0900000001"
      ]
     },
     "execution_count": 260,
     "metadata": {},
     "output_type": "execute_result"
    }
   ],
   "source": [
    "CA_professionnels = professionnels['price'].sum() \n",
    "CA_professionnels"
   ]
  },
  {
   "cell_type": "markdown",
   "id": "53102c2b",
   "metadata": {},
   "source": [
    "#### 3.6.4 Fréquence d'achat des clients professionnels"
   ]
  },
  {
   "cell_type": "code",
   "execution_count": 261,
   "id": "5f02dedb",
   "metadata": {},
   "outputs": [
    {
     "data": {
      "text/plain": [
       "client_id\n",
       "c_1609    25586\n",
       "c_3454     6793\n",
       "c_4958     5222\n",
       "c_6714     9199\n",
       "Name: session_id, dtype: int64"
      ]
     },
     "execution_count": 261,
     "metadata": {},
     "output_type": "execute_result"
    }
   ],
   "source": [
    "# nombre d'achats par client pro\n",
    "nb_achats_pro = professionnels.groupby('client_id')[\"session_id\"].count()\n",
    "nb_achats_pro"
   ]
  },
  {
   "cell_type": "code",
   "execution_count": 262,
   "id": "7e6e2dab",
   "metadata": {},
   "outputs": [
    {
     "data": {
      "text/plain": [
       "client_id\n",
       "c_1609    1066.083333\n",
       "c_3454     283.041667\n",
       "c_4958     217.583333\n",
       "c_6714     383.291667\n",
       "Name: session_id, dtype: float64"
      ]
     },
     "execution_count": 262,
     "metadata": {},
     "output_type": "execute_result"
    }
   ],
   "source": [
    "# fréquence mensuelle d'achats des clients pro\n",
    "fréquence_mensuelle_pro = nb_achats_pro/24\n",
    "fréquence_mensuelle_pro"
   ]
  },
  {
   "cell_type": "code",
   "execution_count": 263,
   "id": "28317cd4",
   "metadata": {},
   "outputs": [
    {
     "data": {
      "text/plain": [
       "client_id\n",
       "c_1609    25586\n",
       "c_3454     6793\n",
       "c_4958     5222\n",
       "c_6714     9199\n",
       "Name: id_prod, dtype: int64"
      ]
     },
     "execution_count": 263,
     "metadata": {},
     "output_type": "execute_result"
    }
   ],
   "source": [
    "# fréquence d'achats des clients pro par référence\n",
    "nb_achats_pro_par_produit = professionnels.groupby('client_id')[\"id_prod\"].count()\n",
    "nb_achats_pro_par_produit"
   ]
  },
  {
   "cell_type": "code",
   "execution_count": 264,
   "id": "a72233b1",
   "metadata": {},
   "outputs": [
    {
     "data": {
      "image/png": "[encoded data removed]",
      "text/plain": [
       "<Figure size 360x216 with 1 Axes>"
      ]
     },
     "metadata": {
      "needs_background": "light"
     },
     "output_type": "display_data"
    }
   ],
   "source": [
    "# répartition des achats par catégorie pour les clients pros\n",
    "plt.figure(figsize=(5,3))\n",
    "sns.countplot(data=professionnels, x=\"client_id\", hue=\"categ\")\n",
    "plt.title(\"Répartition des achats (en montant cumulé) par catégorie pour les clients pro\")\n",
    "plt.xlabel(\"Id_client\")\n",
    "plt.ylabel(\"Nb_achats\")\n",
    "plt.show()\n"
   ]
  },
  {
   "cell_type": "markdown",
   "id": "c5a8db67",
   "metadata": {},
   "source": [
    "#### 3.6.6 Création du dataframe des clients particuliers"
   ]
  },
  {
   "cell_type": "code",
   "execution_count": 265,
   "id": "e02083a7",
   "metadata": {},
   "outputs": [
    {
     "data": {
      "text/html": [
       "<div>\n",
       "<style scoped>\n",
       "    .dataframe tbody tr th:only-of-type {\n",
       "        vertical-align: middle;\n",
       "    }\n",
       "\n",
       "    .dataframe tbody tr th {\n",
       "        vertical-align: top;\n",
       "    }\n",
       "\n",
       "    .dataframe thead th {\n",
       "        text-align: right;\n",
       "    }\n",
       "</style>\n",
       "<table border=\"1\" class=\"dataframe\">\n",
       "  <thead>\n",
       "    <tr style=\"text-align: right;\">\n",
       "      <th></th>\n",
       "      <th>id_prod</th>\n",
       "      <th>date</th>\n",
       "      <th>session_id</th>\n",
       "      <th>client_id</th>\n",
       "      <th>clé composite</th>\n",
       "      <th>année_mois</th>\n",
       "      <th>date2</th>\n",
       "      <th>date_ok</th>\n",
       "      <th>annee</th>\n",
       "      <th>mois</th>\n",
       "      <th>jour</th>\n",
       "      <th>price</th>\n",
       "      <th>categ</th>\n",
       "    </tr>\n",
       "  </thead>\n",
       "  <tbody>\n",
       "    <tr>\n",
       "      <th>0</th>\n",
       "      <td>0_1259</td>\n",
       "      <td>2021-03-01 00:01:07.843138</td>\n",
       "      <td>s_1</td>\n",
       "      <td>c_329</td>\n",
       "      <td>c_3292021-03-01 00:01:07.843138</td>\n",
       "      <td>2021-03</td>\n",
       "      <td>2021-03-01</td>\n",
       "      <td>2021-03-01</td>\n",
       "      <td>2021</td>\n",
       "      <td>3</td>\n",
       "      <td>1</td>\n",
       "      <td>11.99</td>\n",
       "      <td>0</td>\n",
       "    </tr>\n",
       "    <tr>\n",
       "      <th>1</th>\n",
       "      <td>0_1390</td>\n",
       "      <td>2021-03-01 00:02:26.047414</td>\n",
       "      <td>s_2</td>\n",
       "      <td>c_664</td>\n",
       "      <td>c_6642021-03-01 00:02:26.047414</td>\n",
       "      <td>2021-03</td>\n",
       "      <td>2021-03-01</td>\n",
       "      <td>2021-03-01</td>\n",
       "      <td>2021</td>\n",
       "      <td>3</td>\n",
       "      <td>1</td>\n",
       "      <td>19.37</td>\n",
       "      <td>0</td>\n",
       "    </tr>\n",
       "    <tr>\n",
       "      <th>2</th>\n",
       "      <td>0_1352</td>\n",
       "      <td>2021-03-01 00:02:38.311413</td>\n",
       "      <td>s_3</td>\n",
       "      <td>c_580</td>\n",
       "      <td>c_5802021-03-01 00:02:38.311413</td>\n",
       "      <td>2021-03</td>\n",
       "      <td>2021-03-01</td>\n",
       "      <td>2021-03-01</td>\n",
       "      <td>2021</td>\n",
       "      <td>3</td>\n",
       "      <td>1</td>\n",
       "      <td>4.50</td>\n",
       "      <td>0</td>\n",
       "    </tr>\n",
       "    <tr>\n",
       "      <th>3</th>\n",
       "      <td>0_1458</td>\n",
       "      <td>2021-03-01 00:04:54.559692</td>\n",
       "      <td>s_4</td>\n",
       "      <td>c_7912</td>\n",
       "      <td>c_79122021-03-01 00:04:54.559692</td>\n",
       "      <td>2021-03</td>\n",
       "      <td>2021-03-01</td>\n",
       "      <td>2021-03-01</td>\n",
       "      <td>2021</td>\n",
       "      <td>3</td>\n",
       "      <td>1</td>\n",
       "      <td>6.55</td>\n",
       "      <td>0</td>\n",
       "    </tr>\n",
       "    <tr>\n",
       "      <th>4</th>\n",
       "      <td>0_1358</td>\n",
       "      <td>2021-03-01 00:05:18.801198</td>\n",
       "      <td>s_5</td>\n",
       "      <td>c_2033</td>\n",
       "      <td>c_20332021-03-01 00:05:18.801198</td>\n",
       "      <td>2021-03</td>\n",
       "      <td>2021-03-01</td>\n",
       "      <td>2021-03-01</td>\n",
       "      <td>2021</td>\n",
       "      <td>3</td>\n",
       "      <td>1</td>\n",
       "      <td>16.49</td>\n",
       "      <td>0</td>\n",
       "    </tr>\n",
       "    <tr>\n",
       "      <th>...</th>\n",
       "      <td>...</td>\n",
       "      <td>...</td>\n",
       "      <td>...</td>\n",
       "      <td>...</td>\n",
       "      <td>...</td>\n",
       "      <td>...</td>\n",
       "      <td>...</td>\n",
       "      <td>...</td>\n",
       "      <td>...</td>\n",
       "      <td>...</td>\n",
       "      <td>...</td>\n",
       "      <td>...</td>\n",
       "      <td>...</td>\n",
       "    </tr>\n",
       "    <tr>\n",
       "      <th>687529</th>\n",
       "      <td>1_508</td>\n",
       "      <td>2023-02-28 23:49:03.148402</td>\n",
       "      <td>s_348444</td>\n",
       "      <td>c_3573</td>\n",
       "      <td>c_35732023-02-28 23:49:03.148402</td>\n",
       "      <td>2023-02</td>\n",
       "      <td>2023-02-28</td>\n",
       "      <td>2023-02-28</td>\n",
       "      <td>2023</td>\n",
       "      <td>2</td>\n",
       "      <td>28</td>\n",
       "      <td>21.92</td>\n",
       "      <td>1</td>\n",
       "    </tr>\n",
       "    <tr>\n",
       "      <th>687530</th>\n",
       "      <td>2_37</td>\n",
       "      <td>2023-02-28 23:51:29.318531</td>\n",
       "      <td>s_348445</td>\n",
       "      <td>c_50</td>\n",
       "      <td>c_502023-02-28 23:51:29.318531</td>\n",
       "      <td>2023-02</td>\n",
       "      <td>2023-02-28</td>\n",
       "      <td>2023-02-28</td>\n",
       "      <td>2023</td>\n",
       "      <td>2</td>\n",
       "      <td>28</td>\n",
       "      <td>48.99</td>\n",
       "      <td>2</td>\n",
       "    </tr>\n",
       "    <tr>\n",
       "      <th>687531</th>\n",
       "      <td>1_695</td>\n",
       "      <td>2023-02-28 23:53:18.929676</td>\n",
       "      <td>s_348446</td>\n",
       "      <td>c_488</td>\n",
       "      <td>c_4882023-02-28 23:53:18.929676</td>\n",
       "      <td>2023-02</td>\n",
       "      <td>2023-02-28</td>\n",
       "      <td>2023-02-28</td>\n",
       "      <td>2023</td>\n",
       "      <td>2</td>\n",
       "      <td>28</td>\n",
       "      <td>26.99</td>\n",
       "      <td>1</td>\n",
       "    </tr>\n",
       "    <tr>\n",
       "      <th>687532</th>\n",
       "      <td>0_1547</td>\n",
       "      <td>2023-02-28 23:58:00.107815</td>\n",
       "      <td>s_348447</td>\n",
       "      <td>c_4848</td>\n",
       "      <td>c_48482023-02-28 23:58:00.107815</td>\n",
       "      <td>2023-02</td>\n",
       "      <td>2023-02-28</td>\n",
       "      <td>2023-02-28</td>\n",
       "      <td>2023</td>\n",
       "      <td>2</td>\n",
       "      <td>28</td>\n",
       "      <td>8.99</td>\n",
       "      <td>0</td>\n",
       "    </tr>\n",
       "    <tr>\n",
       "      <th>687533</th>\n",
       "      <td>0_1398</td>\n",
       "      <td>2023-02-28 23:58:30.792755</td>\n",
       "      <td>s_348435</td>\n",
       "      <td>c_3575</td>\n",
       "      <td>c_35752023-02-28 23:58:30.792755</td>\n",
       "      <td>2023-02</td>\n",
       "      <td>2023-02-28</td>\n",
       "      <td>2023-02-28</td>\n",
       "      <td>2023</td>\n",
       "      <td>2</td>\n",
       "      <td>28</td>\n",
       "      <td>4.52</td>\n",
       "      <td>0</td>\n",
       "    </tr>\n",
       "  </tbody>\n",
       "</table>\n",
       "<p>640734 rows × 13 columns</p>\n",
       "</div>"
      ],
      "text/plain": [
       "       id_prod                        date session_id client_id  \\\n",
       "0       0_1259  2021-03-01 00:01:07.843138        s_1     c_329   \n",
       "1       0_1390  2021-03-01 00:02:26.047414        s_2     c_664   \n",
       "2       0_1352  2021-03-01 00:02:38.311413        s_3     c_580   \n",
       "3       0_1458  2021-03-01 00:04:54.559692        s_4    c_7912   \n",
       "4       0_1358  2021-03-01 00:05:18.801198        s_5    c_2033   \n",
       "...        ...                         ...        ...       ...   \n",
       "687529   1_508  2023-02-28 23:49:03.148402   s_348444    c_3573   \n",
       "687530    2_37  2023-02-28 23:51:29.318531   s_348445      c_50   \n",
       "687531   1_695  2023-02-28 23:53:18.929676   s_348446     c_488   \n",
       "687532  0_1547  2023-02-28 23:58:00.107815   s_348447    c_4848   \n",
       "687533  0_1398  2023-02-28 23:58:30.792755   s_348435    c_3575   \n",
       "\n",
       "                           clé composite année_mois       date2    date_ok  \\\n",
       "0        c_3292021-03-01 00:01:07.843138    2021-03  2021-03-01 2021-03-01   \n",
       "1        c_6642021-03-01 00:02:26.047414    2021-03  2021-03-01 2021-03-01   \n",
       "2        c_5802021-03-01 00:02:38.311413    2021-03  2021-03-01 2021-03-01   \n",
       "3       c_79122021-03-01 00:04:54.559692    2021-03  2021-03-01 2021-03-01   \n",
       "4       c_20332021-03-01 00:05:18.801198    2021-03  2021-03-01 2021-03-01   \n",
       "...                                  ...        ...         ...        ...   \n",
       "687529  c_35732023-02-28 23:49:03.148402    2023-02  2023-02-28 2023-02-28   \n",
       "687530    c_502023-02-28 23:51:29.318531    2023-02  2023-02-28 2023-02-28   \n",
       "687531   c_4882023-02-28 23:53:18.929676    2023-02  2023-02-28 2023-02-28   \n",
       "687532  c_48482023-02-28 23:58:00.107815    2023-02  2023-02-28 2023-02-28   \n",
       "687533  c_35752023-02-28 23:58:30.792755    2023-02  2023-02-28 2023-02-28   \n",
       "\n",
       "        annee  mois  jour  price categ  \n",
       "0        2021     3     1  11.99     0  \n",
       "1        2021     3     1  19.37     0  \n",
       "2        2021     3     1   4.50     0  \n",
       "3        2021     3     1   6.55     0  \n",
       "4        2021     3     1  16.49     0  \n",
       "...       ...   ...   ...    ...   ...  \n",
       "687529   2023     2    28  21.92     1  \n",
       "687530   2023     2    28  48.99     2  \n",
       "687531   2023     2    28  26.99     1  \n",
       "687532   2023     2    28   8.99     0  \n",
       "687533   2023     2    28   4.52     0  \n",
       "\n",
       "[640734 rows x 13 columns]"
      ]
     },
     "execution_count": 265,
     "metadata": {},
     "output_type": "execute_result"
    }
   ],
   "source": [
    "# création du dataframe des clients particuliers\n",
    "particuliers = transactions_products[~transactions_products['client_id'].isin(list_pro)]\n",
    "particuliers"
   ]
  },
  {
   "cell_type": "code",
   "execution_count": 266,
   "id": "f868ab42",
   "metadata": {},
   "outputs": [
    {
     "data": {
      "text/plain": [
       "client_id\n",
       "c_1        629.02\n",
       "c_10      1353.60\n",
       "c_100      254.85\n",
       "c_1000    2291.88\n",
       "c_1001    1823.85\n",
       "Name: price, dtype: float64"
      ]
     },
     "execution_count": 266,
     "metadata": {},
     "output_type": "execute_result"
    }
   ],
   "source": [
    "# CA par client particuliers\n",
    "CA_client_particuliers = particuliers.groupby([\"client_id\"])[\"price\"].sum()\n",
    "CA_client_particuliers.head()"
   ]
  },
  {
   "cell_type": "code",
   "execution_count": 267,
   "id": "bb802e09",
   "metadata": {},
   "outputs": [
    {
     "data": {
      "text/plain": [
       "(8596, 6)"
      ]
     },
     "execution_count": 267,
     "metadata": {},
     "output_type": "execute_result"
    }
   ],
   "source": [
    "#LET JOIN CA_client_particuliers et customers\n",
    "clients_acheteurs = pd.merge(CA_client_particuliers, customers, on=\"client_id\", how=\"left\")\n",
    "clients_acheteurs.shape"
   ]
  },
  {
   "cell_type": "code",
   "execution_count": 268,
   "id": "9328a3ca",
   "metadata": {},
   "outputs": [
    {
     "name": "stdout",
     "output_type": "stream",
     "text": [
      "sex\n",
      "f    4478\n",
      "m    4118\n",
      "Name: client_id, dtype: int64\n"
     ]
    }
   ],
   "source": [
    "# Repartition des clients particuliers par genre\n",
    "repartition_genre = clients_acheteurs.groupby([\"sex\"])[\"client_id\"].count()\n",
    "print(repartition_genre)"
   ]
  },
  {
   "cell_type": "code",
   "execution_count": 269,
   "id": "b2e59c3b",
   "metadata": {},
   "outputs": [
    {
     "data": {
      "image/png": "[encoded data removed]",
      "text/plain": [
       "<Figure size 432x288 with 1 Axes>"
      ]
     },
     "metadata": {},
     "output_type": "display_data"
    }
   ],
   "source": [
    "# Graphique:\n",
    "fig2, ax2 = plt.subplots()\n",
    "ax2.pie(repartition_genre,\n",
    "        labels=[\"F\",\"H\"],\n",
    "        autopct=\"%1.1f%%\",\n",
    "        colors=[\"#d2a0f2\",\"#0abdc0\"],\n",
    "        shadow=True)\n",
    "ax2.axis(\"equal\")\n",
    "plt.title(\"Répartition du nombre de clients particuliers par genre\")\n",
    "plt.legend()\n",
    "plt.show()"
   ]
  },
  {
   "cell_type": "code",
   "execution_count": 270,
   "id": "1ce3b8a7",
   "metadata": {},
   "outputs": [
    {
     "data": {
      "text/plain": [
       "sex\n",
       "f    5796925.08\n",
       "m    5346441.93\n",
       "Name: price, dtype: float64"
      ]
     },
     "execution_count": 270,
     "metadata": {},
     "output_type": "execute_result"
    }
   ],
   "source": [
    "# Depenses des clients particuliers par genre:\n",
    "repartition_achats_genre = clients_acheteurs.groupby([\"sex\"])[\"price\"].sum()\n",
    "repartition_achats_genre"
   ]
  },
  {
   "cell_type": "code",
   "execution_count": 271,
   "id": "2e6eabb4",
   "metadata": {},
   "outputs": [
    {
     "name": "stdout",
     "output_type": "stream",
     "text": [
      "nombre total d'achats par genre:\n",
      " sex\n",
      "f    4478\n",
      "m    4118\n",
      "Name: price, dtype: int64\n",
      "montant moyen des achats par genre:\n",
      " sex\n",
      "f    1294.534408\n",
      "m    1298.310328\n",
      "Name: price, dtype: float64\n"
     ]
    }
   ],
   "source": [
    "nbr_achats_genre = clients_acheteurs.groupby([\"sex\"])[\"price\"].count()\n",
    "print(\"nombre total d'achats par genre:\\n\", nbr_achats_genre)\n",
    "\n",
    "moy_achats_genre = clients_acheteurs.groupby([\"sex\"])[\"price\"].mean()\n",
    "print(\"montant moyen des achats par genre:\\n\", moy_achats_genre)"
   ]
  },
  {
   "cell_type": "code",
   "execution_count": 272,
   "id": "2a72d9a9",
   "metadata": {},
   "outputs": [
    {
     "data": {
      "image/png": "[encoded data removed]",
      "text/plain": [
       "<Figure size 432x288 with 1 Axes>"
      ]
     },
     "metadata": {},
     "output_type": "display_data"
    }
   ],
   "source": [
    "# Graphique:\n",
    "fig3, ax3 = plt.subplots()\n",
    "ax3.pie(repartition_achats_genre,\n",
    "        labels=[\"F\",\"H\"],\n",
    "        autopct=\"%1.1f%%\",\n",
    "        colors=[\"#d2a0f2\",\"#0abdc0\"],\n",
    "        shadow=True)\n",
    "ax3.axis(\"equal\")\n",
    "plt.title(\"Répartition du chiffre d'affaires par genre\")\n",
    "plt.legend()\n",
    "plt.show()"
   ]
  },
  {
   "cell_type": "markdown",
   "id": "1d768cd4",
   "metadata": {},
   "source": [
    "#### 3.6.7 Répartition du CA des clients particuliers : Courbe de Lorentz et indice de Gini"
   ]
  },
  {
   "cell_type": "markdown",
   "id": "87833a48",
   "metadata": {},
   "source": [
    "L'indice de Gini mesure ici l'inégalité des chiffres d'affaires de tous les clients.\n",
    "\n",
    "Indice de Gini : chiffre de 0 à 1 mesurant l'aire entre la bissectrice et la courbe de Lorenz\n",
    "\n",
    "=> un coefficient de 0 indiquerait une égalité parfaite (tous les points s'aligneraient alors sur la bissectrice, réduisant l'aire à 0)\n",
    "=> si l'indice était de 1, un seul client détiendrait la totalité du chiffre d'affaires (l'aire serait égale à celle du triangle prenant la bissectrice comme côté et 1:1 comme angle opposé)\n",
    "\n",
    "La courbe de Lorenz montre encore une fois le chiffre d'affaires que les 4 clients (représentés par des croix) représentent à eux-seuls."
   ]
  },
  {
   "cell_type": "code",
   "execution_count": 273,
   "id": "12ae02ba",
   "metadata": {},
   "outputs": [
    {
     "name": "stdout",
     "output_type": "stream",
     "text": [
      "indice de Gini: 0.398\n"
     ]
    },
    {
     "data": {
      "image/png": "[encoded data removed]",
      "text/plain": [
       "<Figure size 432x288 with 1 Axes>"
      ]
     },
     "metadata": {
      "needs_background": "light"
     },
     "output_type": "display_data"
    }
   ],
   "source": [
    "# Répartition du CA des clients particuliers : Courbe de Lorentz et indice de Gini\n",
    "lorenz_CA_client = np.cumsum(np.sort(CA_client_particuliers)) / CA_client_particuliers.sum()\n",
    "lorenz_CA_client = np.append([0], lorenz_CA_client)\n",
    "plt.plot(np.linspace(0,1,len(lorenz_CA_client)), lorenz_CA_client, drawstyle=\"steps-post\")\n",
    "plt.plot(np.linspace(0,1,len(lorenz_CA_client)), np.linspace(0,1,len(lorenz_CA_client)), color =\"grey\", dashes=[2,4])\n",
    "plt.ylabel(\"Parts cumulées du chiffre d'affaires\")\n",
    "plt.xlabel(\"Parts cumulées des achats\")\n",
    "plt.title(\"Répartition du chiffre d'affaires des clients particuliers\")\n",
    "aire_ss_courbe_CA_client = lorenz_CA_client[:-1].sum() / len(lorenz_CA_client)\n",
    "S_ca_client = 0.5 - aire_ss_courbe_CA_client\n",
    "gini_CA_client = 2*S_ca_client\n",
    "print(\"indice de Gini:\",round(gini_CA_client,3))"
   ]
  },
  {
   "cell_type": "markdown",
   "id": "19071415",
   "metadata": {},
   "source": [
    "#### 3.6.8 Clients particuliers : nombre d'achats, montant moyen, fréquence d'achat"
   ]
  },
  {
   "cell_type": "code",
   "execution_count": 274,
   "id": "b44284cb",
   "metadata": {},
   "outputs": [
    {
     "name": "stdout",
     "output_type": "stream",
     "text": [
      "Les clients particuliers achètent en moyenne 3 articles par mois\n",
      "et le montant moyen du panier est de 54 euros\n"
     ]
    }
   ],
   "source": [
    "# Nombre d'achats et montant moyen dépensé par les clients particuliers :\n",
    "nbr_achats_moy = particuliers.groupby([\"client_id\"])[\"session_id\"].count().mean()\n",
    "montant_achats_moy = particuliers.groupby([\"client_id\"])[\"price\"].sum().mean()\n",
    "\n",
    "print(\"Les clients particuliers achètent en moyenne\", round(nbr_achats_moy/24), \"articles par mois\")\n",
    "print(\"et le montant moyen du panier est de\", round(montant_achats_moy/24), \"euros\")"
   ]
  },
  {
   "cell_type": "code",
   "execution_count": 275,
   "id": "ab0fd9ae",
   "metadata": {},
   "outputs": [
    {
     "name": "stdout",
     "output_type": "stream",
     "text": [
      "Clients ayant le plus dépensé :\n",
      "client_id\n",
      "c_1570    5285.82\n",
      "c_3263    5276.87\n",
      "c_2140    5260.18\n",
      "c_2899    5214.05\n",
      "c_7319    5155.77\n",
      "           ...   \n",
      "c_5449    4194.00\n",
      "c_5835    4187.22\n",
      "c_3949    4176.83\n",
      "c_1938    4175.72\n",
      "c_1744    4174.97\n",
      "Name: price, Length: 100, dtype: float64\n"
     ]
    }
   ],
   "source": [
    "# Meilleurs clients particuliers:\n",
    "meilleurs_clients = particuliers.groupby([\"client_id\"])[\"price\"].sum()\n",
    "print(\"Clients ayant le plus dépensé :\")\n",
    "print(meilleurs_clients.nlargest(100))"
   ]
  },
  {
   "cell_type": "code",
   "execution_count": 276,
   "id": "42ebe6fc",
   "metadata": {},
   "outputs": [
    {
     "name": "stdout",
     "output_type": "stream",
     "text": [
      "Il y a eu, pour les particuliers, 322466 sessions\n",
      "Une session aboutie en moyenne à 1.99 achats\n"
     ]
    }
   ],
   "source": [
    "# Nombre moyen d'achats par sessions:\n",
    "print(\"Il y a eu, pour les particuliers,\",\n",
    "      particuliers[\"session_id\"].nunique(),\n",
    "      \"sessions\")\n",
    "print(\"Une session aboutie en moyenne à\",\n",
    "      round(particuliers.groupby([\"session_id\",\"client_id\"])[\"id_prod\"].count().mean(),2),\n",
    "      \"achats\")"
   ]
  },
  {
   "cell_type": "code",
   "execution_count": 277,
   "id": "90253952",
   "metadata": {},
   "outputs": [
    {
     "data": {
      "text/plain": [
       "count    8596.000000\n",
       "mean       74.538623\n",
       "std        68.074309\n",
       "min         1.000000\n",
       "25%        28.000000\n",
       "50%        52.000000\n",
       "75%        97.000000\n",
       "max       405.000000\n",
       "Name: client_id, dtype: float64"
      ]
     },
     "execution_count": 277,
     "metadata": {},
     "output_type": "execute_result"
    }
   ],
   "source": [
    "#Fréquence achats par utilisateur particulier\n",
    "freq=particuliers[[\"client_id\",\"session_id\"]]\n",
    "freq['client_id'].value_counts().describe()"
   ]
  },
  {
   "cell_type": "markdown",
   "id": "0283962b",
   "metadata": {},
   "source": [
    "#### 3.6.9 Zoom sur le genre des clients particuliers"
   ]
  },
  {
   "cell_type": "code",
   "execution_count": 278,
   "id": "5595cb98",
   "metadata": {},
   "outputs": [
    {
     "name": "stdout",
     "output_type": "stream",
     "text": [
      "sex\n",
      "f    4490\n",
      "m    4131\n",
      "Name: client_id, dtype: int64\n"
     ]
    }
   ],
   "source": [
    "# Repartition des genres parmis nos clients:\n",
    "repartition_genre = customers.groupby([\"sex\"])[\"client_id\"].count()\n",
    "print(repartition_genre)\n"
   ]
  },
  {
   "cell_type": "markdown",
   "id": "6d962a39",
   "metadata": {},
   "source": [
    "### 3.7 Zoom sur les produits"
   ]
  },
  {
   "cell_type": "code",
   "execution_count": 279,
   "id": "a6a0a844",
   "metadata": {},
   "outputs": [
    {
     "name": "stdout",
     "output_type": "stream",
     "text": [
      "TOP 10 des premiers produits par CA\n",
      "id_prod\n",
      "2_159    94893.50\n",
      "2_135    69334.95\n",
      "2_112    65407.76\n",
      "2_102    60736.78\n",
      "2_209    56971.86\n",
      "1_395    56617.47\n",
      "1_369    56136.60\n",
      "2_110    53846.25\n",
      "1_383    53834.43\n",
      "1_414    53522.18\n",
      "Name: price, dtype: float64\n",
      "TOP 10 des derniers produits par CA\n",
      "id_prod\n",
      "0_1539    0.99\n",
      "0_1284    1.38\n",
      "0_1653    1.98\n",
      "0_1601    1.99\n",
      "0_541     1.99\n",
      "0_807     1.99\n",
      "0_1728    2.27\n",
      "0_1498    2.48\n",
      "0_898     2.54\n",
      "0_1840    2.56\n",
      "Name: price, dtype: float64\n"
     ]
    }
   ],
   "source": [
    "# Tops et Flops en CA\n",
    "# CA par produit (pour tous les clients)\n",
    "CA_produit = transactions_profil.groupby([\"id_prod\"])[\"price\"].sum()\n",
    "\n",
    "print(\"TOP 10 des premiers produits par CA\")\n",
    "print(CA_produit.nlargest(10))\n",
    "print(\"TOP 10 des derniers produits par CA\")\n",
    "print(CA_produit.nsmallest(10))\n"
   ]
  },
  {
   "cell_type": "code",
   "execution_count": 280,
   "id": "d79e129d",
   "metadata": {},
   "outputs": [
    {
     "name": "stdout",
     "output_type": "stream",
     "text": [
      "TOP 10 des références les plus vendues\n",
      "id_prod\n",
      "1_369    2340\n",
      "1_417    2269\n",
      "1_414    2246\n",
      "1_498    2202\n",
      "1_425    2163\n",
      "1_403    2040\n",
      "1_413    2036\n",
      "1_412    2014\n",
      "1_406    2003\n",
      "1_407    2001\n",
      "Name: session_id, dtype: int64\n",
      "TOP 10 des références les moins vendues\n",
      "id_prod\n",
      "0_1151    1\n",
      "0_1284    1\n",
      "0_1379    1\n",
      "0_1498    1\n",
      "0_1539    1\n",
      "0_1601    1\n",
      "0_1633    1\n",
      "0_1683    1\n",
      "0_1728    1\n",
      "0_2201    1\n",
      "Name: session_id, dtype: int64\n"
     ]
    }
   ],
   "source": [
    "# Tops et Flops en ventes:\n",
    "nbr_ventes_ref = transactions_profil.groupby([\"id_prod\"])[\"session_id\"].count()\n",
    "\n",
    "print(\"TOP 10 des références les plus vendues\")\n",
    "print(nbr_ventes_ref.nlargest(10))\n",
    "print(\"TOP 10 des références les moins vendues\")\n",
    "print(nbr_ventes_ref.nsmallest(10))\n"
   ]
  },
  {
   "cell_type": "code",
   "execution_count": 281,
   "id": "2f6337da",
   "metadata": {},
   "outputs": [
    {
     "name": "stdout",
     "output_type": "stream",
     "text": [
      "indice de Gini: 0.744\n"
     ]
    },
    {
     "data": {
      "image/png": "[encoded data removed]",
      "text/plain": [
       "<Figure size 432x288 with 1 Axes>"
      ]
     },
     "metadata": {
      "needs_background": "light"
     },
     "output_type": "display_data"
    }
   ],
   "source": [
    "# Courbe de Lorentz et indice de Gini : répartition du CA par produit (tous clients confondus)\n",
    "lorenz_CA_client = np.cumsum(np.sort(CA_produit)) / CA_produit.sum()\n",
    "lorenz_CA_client = np.append([0], lorenz_CA_client)\n",
    "plt.plot(np.linspace(0,1,len(lorenz_CA_client)), lorenz_CA_client, drawstyle=\"steps-post\")\n",
    "plt.plot(np.linspace(0,1,len(lorenz_CA_client)), np.linspace(0,1,len(lorenz_CA_client)), color =\"grey\", dashes=[2,4])\n",
    "plt.ylabel(\"Parts cumulées du chiffre d'affaires\")\n",
    "plt.xlabel(\"Parts cumulées des produits\")\n",
    "plt.title(\"Répartition du chiffre d'affaires par produit (tous clients)\")\n",
    "aire_ss_courbe_CA_client = lorenz_CA_client[:-1].sum() / len(lorenz_CA_client)\n",
    "S_ca_client = 0.5 - aire_ss_courbe_CA_client\n",
    "gini_CA_client = 2*S_ca_client\n",
    "print(\"indice de Gini:\",round(gini_CA_client,3))"
   ]
  },
  {
   "cell_type": "code",
   "execution_count": 282,
   "id": "7e7d34e2",
   "metadata": {},
   "outputs": [
    {
     "data": {
      "text/plain": [
       "id_prod\n",
       "0_0       4301.25\n",
       "0_1       5132.33\n",
       "0_10       359.00\n",
       "0_100       61.80\n",
       "0_1000    2722.32\n",
       "Name: price, dtype: float64"
      ]
     },
     "execution_count": 282,
     "metadata": {},
     "output_type": "execute_result"
    }
   ],
   "source": [
    "# CA par produit (uniquement pour les clients particuliers)\n",
    "CA_produit_particuliers = particuliers.groupby([\"id_prod\"])[\"price\"].sum()\n",
    "CA_produit_particuliers.head()"
   ]
  },
  {
   "cell_type": "code",
   "execution_count": 283,
   "id": "faa13dca",
   "metadata": {},
   "outputs": [
    {
     "name": "stdout",
     "output_type": "stream",
     "text": [
      "indice de Gini: 0.743\n"
     ]
    },
    {
     "data": {
      "image/png": "[encoded data removed]",
      "text/plain": [
       "<Figure size 432x288 with 1 Axes>"
      ]
     },
     "metadata": {
      "needs_background": "light"
     },
     "output_type": "display_data"
    }
   ],
   "source": [
    "# Courbe de Lorentz et indice de Gini : répartition du CA par produit (clients particuliers)\n",
    "lorenz_CA_client = np.cumsum(np.sort(CA_produit_particuliers)) / CA_produit_particuliers.sum()\n",
    "lorenz_CA_client = np.append([0], lorenz_CA_client)\n",
    "plt.plot(np.linspace(0,1,len(lorenz_CA_client)), lorenz_CA_client, drawstyle=\"steps-post\")\n",
    "plt.plot(np.linspace(0,1,len(lorenz_CA_client)), np.linspace(0,1,len(lorenz_CA_client)), color =\"grey\", dashes=[2,4])\n",
    "plt.ylabel(\"Parts cumulées du chiffre d'affaires\")\n",
    "plt.xlabel(\"Parts cumulées des achats\")\n",
    "plt.title(\"Répartition du chiffre d'affaires par produit (clients particuliers)\")\n",
    "aire_ss_courbe_CA_client = lorenz_CA_client[:-1].sum() / len(lorenz_CA_client)\n",
    "S_ca_client = 0.5 - aire_ss_courbe_CA_client\n",
    "gini_CA_client = 2*S_ca_client\n",
    "print(\"indice de Gini:\",round(gini_CA_client,3))"
   ]
  },
  {
   "cell_type": "code",
   "execution_count": 284,
   "id": "b635e255",
   "metadata": {},
   "outputs": [
    {
     "data": {
      "text/plain": [
       "id_prod\n",
       "0_0       356.25\n",
       "0_1       219.80\n",
       "0_10       35.90\n",
       "0_1000    232.56\n",
       "0_1001    104.79\n",
       "Name: price, dtype: float64"
      ]
     },
     "execution_count": 284,
     "metadata": {},
     "output_type": "execute_result"
    }
   ],
   "source": [
    "# CA par produit (uniquement pour les clients pros)\n",
    "CA_produit_pros = professionnels.groupby([\"id_prod\"])[\"price\"].sum()\n",
    "CA_produit_pros.head()"
   ]
  },
  {
   "cell_type": "code",
   "execution_count": 285,
   "id": "55fb22f5",
   "metadata": {},
   "outputs": [
    {
     "name": "stdout",
     "output_type": "stream",
     "text": [
      "indice de Gini: 0.699\n"
     ]
    },
    {
     "data": {
      "image/png": "[encoded data removed]",
      "text/plain": [
       "<Figure size 432x288 with 1 Axes>"
      ]
     },
     "metadata": {
      "needs_background": "light"
     },
     "output_type": "display_data"
    }
   ],
   "source": [
    "# Courbe de Lorentz et indice de Gini : répartition du CA par produit (clients professionnels)\n",
    "lorenz_CA_client = np.cumsum(np.sort(CA_produit_pros)) / CA_produit_pros.sum()\n",
    "lorenz_CA_client = np.append([0], lorenz_CA_client)\n",
    "plt.plot(np.linspace(0,1,len(lorenz_CA_client)), lorenz_CA_client, drawstyle=\"steps-post\")\n",
    "plt.plot(np.linspace(0,1,len(lorenz_CA_client)), np.linspace(0,1,len(lorenz_CA_client)), color =\"grey\", dashes=[2,4])\n",
    "plt.ylabel(\"Parts cumulées du chiffre d'affaires\")\n",
    "plt.xlabel(\"Parts cumulées des achats\")\n",
    "plt.title(\"Répartition du chiffre d'affaires par produit (clients professionnels)\")\n",
    "aire_ss_courbe_CA_client = lorenz_CA_client[:-1].sum() / len(lorenz_CA_client)\n",
    "S_ca_client = 0.5 - aire_ss_courbe_CA_client\n",
    "gini_CA_client = 2*S_ca_client\n",
    "print(\"indice de Gini:\",round(gini_CA_client,3))"
   ]
  },
  {
   "cell_type": "markdown",
   "id": "9b6eb2d0",
   "metadata": {},
   "source": [
    "# 4. Analyse des corrélations"
   ]
  },
  {
   "cell_type": "markdown",
   "id": "de161db8",
   "metadata": {},
   "source": [
    "## 4.1 Corrélations entre catégorie achetée et genre  ? => entre 2 variables qualitatives : CHI-2"
   ]
  },
  {
   "cell_type": "code",
   "execution_count": 286,
   "id": "48cc2725",
   "metadata": {},
   "outputs": [
    {
     "data": {
      "text/html": [
       "<div>\n",
       "<style scoped>\n",
       "    .dataframe tbody tr th:only-of-type {\n",
       "        vertical-align: middle;\n",
       "    }\n",
       "\n",
       "    .dataframe tbody tr th {\n",
       "        vertical-align: top;\n",
       "    }\n",
       "\n",
       "    .dataframe thead th {\n",
       "        text-align: right;\n",
       "    }\n",
       "</style>\n",
       "<table border=\"1\" class=\"dataframe\">\n",
       "  <thead>\n",
       "    <tr style=\"text-align: right;\">\n",
       "      <th></th>\n",
       "      <th>id_prod</th>\n",
       "      <th>date</th>\n",
       "      <th>session_id</th>\n",
       "      <th>client_id</th>\n",
       "      <th>clé composite</th>\n",
       "      <th>année_mois</th>\n",
       "      <th>date2</th>\n",
       "      <th>date_ok</th>\n",
       "      <th>annee</th>\n",
       "      <th>mois</th>\n",
       "      <th>jour</th>\n",
       "      <th>price</th>\n",
       "      <th>categ</th>\n",
       "      <th>sex</th>\n",
       "      <th>birth</th>\n",
       "      <th>age</th>\n",
       "      <th>tranche_age</th>\n",
       "    </tr>\n",
       "  </thead>\n",
       "  <tbody>\n",
       "    <tr>\n",
       "      <th>0</th>\n",
       "      <td>0_1259</td>\n",
       "      <td>2021-03-01 00:01:07.843138</td>\n",
       "      <td>s_1</td>\n",
       "      <td>c_329</td>\n",
       "      <td>c_3292021-03-01 00:01:07.843138</td>\n",
       "      <td>2021-03</td>\n",
       "      <td>2021-03-01</td>\n",
       "      <td>2021-03-01</td>\n",
       "      <td>2021</td>\n",
       "      <td>3</td>\n",
       "      <td>1</td>\n",
       "      <td>11.99</td>\n",
       "      <td>0</td>\n",
       "      <td>f</td>\n",
       "      <td>1967</td>\n",
       "      <td>56</td>\n",
       "      <td>50-59</td>\n",
       "    </tr>\n",
       "    <tr>\n",
       "      <th>1</th>\n",
       "      <td>0_1390</td>\n",
       "      <td>2021-03-01 00:02:26.047414</td>\n",
       "      <td>s_2</td>\n",
       "      <td>c_664</td>\n",
       "      <td>c_6642021-03-01 00:02:26.047414</td>\n",
       "      <td>2021-03</td>\n",
       "      <td>2021-03-01</td>\n",
       "      <td>2021-03-01</td>\n",
       "      <td>2021</td>\n",
       "      <td>3</td>\n",
       "      <td>1</td>\n",
       "      <td>19.37</td>\n",
       "      <td>0</td>\n",
       "      <td>m</td>\n",
       "      <td>1960</td>\n",
       "      <td>63</td>\n",
       "      <td>60-69</td>\n",
       "    </tr>\n",
       "    <tr>\n",
       "      <th>2</th>\n",
       "      <td>0_1352</td>\n",
       "      <td>2021-03-01 00:02:38.311413</td>\n",
       "      <td>s_3</td>\n",
       "      <td>c_580</td>\n",
       "      <td>c_5802021-03-01 00:02:38.311413</td>\n",
       "      <td>2021-03</td>\n",
       "      <td>2021-03-01</td>\n",
       "      <td>2021-03-01</td>\n",
       "      <td>2021</td>\n",
       "      <td>3</td>\n",
       "      <td>1</td>\n",
       "      <td>4.50</td>\n",
       "      <td>0</td>\n",
       "      <td>m</td>\n",
       "      <td>1988</td>\n",
       "      <td>35</td>\n",
       "      <td>30-39</td>\n",
       "    </tr>\n",
       "    <tr>\n",
       "      <th>3</th>\n",
       "      <td>0_1458</td>\n",
       "      <td>2021-03-01 00:04:54.559692</td>\n",
       "      <td>s_4</td>\n",
       "      <td>c_7912</td>\n",
       "      <td>c_79122021-03-01 00:04:54.559692</td>\n",
       "      <td>2021-03</td>\n",
       "      <td>2021-03-01</td>\n",
       "      <td>2021-03-01</td>\n",
       "      <td>2021</td>\n",
       "      <td>3</td>\n",
       "      <td>1</td>\n",
       "      <td>6.55</td>\n",
       "      <td>0</td>\n",
       "      <td>f</td>\n",
       "      <td>1989</td>\n",
       "      <td>34</td>\n",
       "      <td>30-39</td>\n",
       "    </tr>\n",
       "    <tr>\n",
       "      <th>4</th>\n",
       "      <td>0_1358</td>\n",
       "      <td>2021-03-01 00:05:18.801198</td>\n",
       "      <td>s_5</td>\n",
       "      <td>c_2033</td>\n",
       "      <td>c_20332021-03-01 00:05:18.801198</td>\n",
       "      <td>2021-03</td>\n",
       "      <td>2021-03-01</td>\n",
       "      <td>2021-03-01</td>\n",
       "      <td>2021</td>\n",
       "      <td>3</td>\n",
       "      <td>1</td>\n",
       "      <td>16.49</td>\n",
       "      <td>0</td>\n",
       "      <td>f</td>\n",
       "      <td>1956</td>\n",
       "      <td>67</td>\n",
       "      <td>60-69</td>\n",
       "    </tr>\n",
       "    <tr>\n",
       "      <th>...</th>\n",
       "      <td>...</td>\n",
       "      <td>...</td>\n",
       "      <td>...</td>\n",
       "      <td>...</td>\n",
       "      <td>...</td>\n",
       "      <td>...</td>\n",
       "      <td>...</td>\n",
       "      <td>...</td>\n",
       "      <td>...</td>\n",
       "      <td>...</td>\n",
       "      <td>...</td>\n",
       "      <td>...</td>\n",
       "      <td>...</td>\n",
       "      <td>...</td>\n",
       "      <td>...</td>\n",
       "      <td>...</td>\n",
       "      <td>...</td>\n",
       "    </tr>\n",
       "    <tr>\n",
       "      <th>687529</th>\n",
       "      <td>1_508</td>\n",
       "      <td>2023-02-28 23:49:03.148402</td>\n",
       "      <td>s_348444</td>\n",
       "      <td>c_3573</td>\n",
       "      <td>c_35732023-02-28 23:49:03.148402</td>\n",
       "      <td>2023-02</td>\n",
       "      <td>2023-02-28</td>\n",
       "      <td>2023-02-28</td>\n",
       "      <td>2023</td>\n",
       "      <td>2</td>\n",
       "      <td>28</td>\n",
       "      <td>21.92</td>\n",
       "      <td>1</td>\n",
       "      <td>f</td>\n",
       "      <td>1996</td>\n",
       "      <td>27</td>\n",
       "      <td>20-29</td>\n",
       "    </tr>\n",
       "    <tr>\n",
       "      <th>687530</th>\n",
       "      <td>2_37</td>\n",
       "      <td>2023-02-28 23:51:29.318531</td>\n",
       "      <td>s_348445</td>\n",
       "      <td>c_50</td>\n",
       "      <td>c_502023-02-28 23:51:29.318531</td>\n",
       "      <td>2023-02</td>\n",
       "      <td>2023-02-28</td>\n",
       "      <td>2023-02-28</td>\n",
       "      <td>2023</td>\n",
       "      <td>2</td>\n",
       "      <td>28</td>\n",
       "      <td>48.99</td>\n",
       "      <td>2</td>\n",
       "      <td>f</td>\n",
       "      <td>1994</td>\n",
       "      <td>29</td>\n",
       "      <td>20-29</td>\n",
       "    </tr>\n",
       "    <tr>\n",
       "      <th>687531</th>\n",
       "      <td>1_695</td>\n",
       "      <td>2023-02-28 23:53:18.929676</td>\n",
       "      <td>s_348446</td>\n",
       "      <td>c_488</td>\n",
       "      <td>c_4882023-02-28 23:53:18.929676</td>\n",
       "      <td>2023-02</td>\n",
       "      <td>2023-02-28</td>\n",
       "      <td>2023-02-28</td>\n",
       "      <td>2023</td>\n",
       "      <td>2</td>\n",
       "      <td>28</td>\n",
       "      <td>26.99</td>\n",
       "      <td>1</td>\n",
       "      <td>f</td>\n",
       "      <td>1985</td>\n",
       "      <td>38</td>\n",
       "      <td>30-39</td>\n",
       "    </tr>\n",
       "    <tr>\n",
       "      <th>687532</th>\n",
       "      <td>0_1547</td>\n",
       "      <td>2023-02-28 23:58:00.107815</td>\n",
       "      <td>s_348447</td>\n",
       "      <td>c_4848</td>\n",
       "      <td>c_48482023-02-28 23:58:00.107815</td>\n",
       "      <td>2023-02</td>\n",
       "      <td>2023-02-28</td>\n",
       "      <td>2023-02-28</td>\n",
       "      <td>2023</td>\n",
       "      <td>2</td>\n",
       "      <td>28</td>\n",
       "      <td>8.99</td>\n",
       "      <td>0</td>\n",
       "      <td>m</td>\n",
       "      <td>1953</td>\n",
       "      <td>70</td>\n",
       "      <td>70-79</td>\n",
       "    </tr>\n",
       "    <tr>\n",
       "      <th>687533</th>\n",
       "      <td>0_1398</td>\n",
       "      <td>2023-02-28 23:58:30.792755</td>\n",
       "      <td>s_348435</td>\n",
       "      <td>c_3575</td>\n",
       "      <td>c_35752023-02-28 23:58:30.792755</td>\n",
       "      <td>2023-02</td>\n",
       "      <td>2023-02-28</td>\n",
       "      <td>2023-02-28</td>\n",
       "      <td>2023</td>\n",
       "      <td>2</td>\n",
       "      <td>28</td>\n",
       "      <td>4.52</td>\n",
       "      <td>0</td>\n",
       "      <td>f</td>\n",
       "      <td>1981</td>\n",
       "      <td>42</td>\n",
       "      <td>40-49</td>\n",
       "    </tr>\n",
       "  </tbody>\n",
       "</table>\n",
       "<p>687534 rows × 17 columns</p>\n",
       "</div>"
      ],
      "text/plain": [
       "       id_prod                        date session_id client_id  \\\n",
       "0       0_1259  2021-03-01 00:01:07.843138        s_1     c_329   \n",
       "1       0_1390  2021-03-01 00:02:26.047414        s_2     c_664   \n",
       "2       0_1352  2021-03-01 00:02:38.311413        s_3     c_580   \n",
       "3       0_1458  2021-03-01 00:04:54.559692        s_4    c_7912   \n",
       "4       0_1358  2021-03-01 00:05:18.801198        s_5    c_2033   \n",
       "...        ...                         ...        ...       ...   \n",
       "687529   1_508  2023-02-28 23:49:03.148402   s_348444    c_3573   \n",
       "687530    2_37  2023-02-28 23:51:29.318531   s_348445      c_50   \n",
       "687531   1_695  2023-02-28 23:53:18.929676   s_348446     c_488   \n",
       "687532  0_1547  2023-02-28 23:58:00.107815   s_348447    c_4848   \n",
       "687533  0_1398  2023-02-28 23:58:30.792755   s_348435    c_3575   \n",
       "\n",
       "                           clé composite année_mois       date2    date_ok  \\\n",
       "0        c_3292021-03-01 00:01:07.843138    2021-03  2021-03-01 2021-03-01   \n",
       "1        c_6642021-03-01 00:02:26.047414    2021-03  2021-03-01 2021-03-01   \n",
       "2        c_5802021-03-01 00:02:38.311413    2021-03  2021-03-01 2021-03-01   \n",
       "3       c_79122021-03-01 00:04:54.559692    2021-03  2021-03-01 2021-03-01   \n",
       "4       c_20332021-03-01 00:05:18.801198    2021-03  2021-03-01 2021-03-01   \n",
       "...                                  ...        ...         ...        ...   \n",
       "687529  c_35732023-02-28 23:49:03.148402    2023-02  2023-02-28 2023-02-28   \n",
       "687530    c_502023-02-28 23:51:29.318531    2023-02  2023-02-28 2023-02-28   \n",
       "687531   c_4882023-02-28 23:53:18.929676    2023-02  2023-02-28 2023-02-28   \n",
       "687532  c_48482023-02-28 23:58:00.107815    2023-02  2023-02-28 2023-02-28   \n",
       "687533  c_35752023-02-28 23:58:30.792755    2023-02  2023-02-28 2023-02-28   \n",
       "\n",
       "        annee  mois  jour  price categ sex  birth  age tranche_age  \n",
       "0        2021     3     1  11.99     0   f   1967   56       50-59  \n",
       "1        2021     3     1  19.37     0   m   1960   63       60-69  \n",
       "2        2021     3     1   4.50     0   m   1988   35       30-39  \n",
       "3        2021     3     1   6.55     0   f   1989   34       30-39  \n",
       "4        2021     3     1  16.49     0   f   1956   67       60-69  \n",
       "...       ...   ...   ...    ...   ...  ..    ...  ...         ...  \n",
       "687529   2023     2    28  21.92     1   f   1996   27       20-29  \n",
       "687530   2023     2    28  48.99     2   f   1994   29       20-29  \n",
       "687531   2023     2    28  26.99     1   f   1985   38       30-39  \n",
       "687532   2023     2    28   8.99     0   m   1953   70       70-79  \n",
       "687533   2023     2    28   4.52     0   f   1981   42       40-49  \n",
       "\n",
       "[687534 rows x 17 columns]"
      ]
     },
     "execution_count": 286,
     "metadata": {},
     "output_type": "execute_result"
    }
   ],
   "source": [
    "transactions_profil"
   ]
  },
  {
   "cell_type": "code",
   "execution_count": 287,
   "id": "4d4b4d1a",
   "metadata": {},
   "outputs": [
    {
     "data": {
      "text/html": [
       "<div>\n",
       "<style scoped>\n",
       "    .dataframe tbody tr th:only-of-type {\n",
       "        vertical-align: middle;\n",
       "    }\n",
       "\n",
       "    .dataframe tbody tr th {\n",
       "        vertical-align: top;\n",
       "    }\n",
       "\n",
       "    .dataframe thead th {\n",
       "        text-align: right;\n",
       "    }\n",
       "</style>\n",
       "<table border=\"1\" class=\"dataframe\">\n",
       "  <thead>\n",
       "    <tr style=\"text-align: right;\">\n",
       "      <th>categ</th>\n",
       "      <th>0</th>\n",
       "      <th>1</th>\n",
       "      <th>2</th>\n",
       "      <th>Total</th>\n",
       "    </tr>\n",
       "    <tr>\n",
       "      <th>sex</th>\n",
       "      <th></th>\n",
       "      <th></th>\n",
       "      <th></th>\n",
       "      <th></th>\n",
       "    </tr>\n",
       "  </thead>\n",
       "  <tbody>\n",
       "    <tr>\n",
       "      <th>f</th>\n",
       "      <td>206103</td>\n",
       "      <td>119307</td>\n",
       "      <td>17283</td>\n",
       "      <td>342693</td>\n",
       "    </tr>\n",
       "    <tr>\n",
       "      <th>m</th>\n",
       "      <td>209356</td>\n",
       "      <td>116285</td>\n",
       "      <td>19200</td>\n",
       "      <td>344841</td>\n",
       "    </tr>\n",
       "    <tr>\n",
       "      <th>Total</th>\n",
       "      <td>415459</td>\n",
       "      <td>235592</td>\n",
       "      <td>36483</td>\n",
       "      <td>687534</td>\n",
       "    </tr>\n",
       "  </tbody>\n",
       "</table>\n",
       "</div>"
      ],
      "text/plain": [
       "categ       0       1      2   Total\n",
       "sex                                 \n",
       "f      206103  119307  17283  342693\n",
       "m      209356  116285  19200  344841\n",
       "Total  415459  235592  36483  687534"
      ]
     },
     "execution_count": 287,
     "metadata": {},
     "output_type": "execute_result"
    }
   ],
   "source": [
    "# Nb d'achats par catégorie et par sexe => matrice des valeurs observées\n",
    "X = 'sex'\n",
    "Y = 'categ'\n",
    "cont = transactions_profil[[X,Y]].pivot_table(index=X,columns=Y,aggfunc=len,margins=True,margins_name=\"Total\")\n",
    "\n",
    "cont"
   ]
  },
  {
   "cell_type": "code",
   "execution_count": 288,
   "id": "d44b30a9",
   "metadata": {},
   "outputs": [
    {
     "data": {
      "text/plain": [
       "(687534, 17)"
      ]
     },
     "execution_count": 288,
     "metadata": {},
     "output_type": "execute_result"
    }
   ],
   "source": [
    "transactions_profil.shape"
   ]
  },
  {
   "cell_type": "code",
   "execution_count": 289,
   "id": "5b5008bb",
   "metadata": {},
   "outputs": [
    {
     "data": {
      "text/plain": [
       "Text(0.5, 1.0, 'Répartition des achats des clients particuliers par catégorie et genre')"
      ]
     },
     "execution_count": 289,
     "metadata": {},
     "output_type": "execute_result"
    },
    {
     "data": {
      "image/png": "[encoded data removed]",
      "text/plain": [
       "<Figure size 432x288 with 2 Axes>"
      ]
     },
     "metadata": {
      "needs_background": "light"
     },
     "output_type": "display_data"
    }
   ],
   "source": [
    "# création d'une heatmap par genre et catégorie de produits\n",
    "tx = cont.loc[:,[\"Total\"]]\n",
    "ty = cont.loc[[\"Total\"],:]\n",
    "n = len(particuliers)\n",
    "indep = tx.dot(ty) / n\n",
    "c = cont.fillna(0) # On remplace les valeurs nulles par 0\n",
    "\n",
    "measure = (c-indep)**2/indep # On compare le tableau c à indep\n",
    "xi_n = measure.sum().sum() # la somme des mesures de toutes les cases\n",
    "table = measure/xi_n # On divise chaque case par la somme des mesures de toutes les cases (échelle de couleur entre 0 et 1)\n",
    "sns.heatmap(table.iloc[:-1,:-1],annot=c.iloc[:-1,:-1],fmt=\"d\",cmap=sns.diverging_palette(220, 20, n=200),\n",
    ")\n",
    "plt.title(\"Répartition des achats des clients particuliers par catégorie et genre\")"
   ]
  },
  {
   "cell_type": "markdown",
   "id": "e4cc94af",
   "metadata": {},
   "source": [
    "La map nous confirme qu'il y a peu de variations entre genres au sein des catégories.L'achat d'une catégorie en particulier ne dépendrait pas du genre de l'acheteur.\n",
    "Afin de vérifier ce constat, nous allons calculer :"
   ]
  },
  {
   "cell_type": "code",
   "execution_count": 290,
   "id": "841015ae",
   "metadata": {},
   "outputs": [
    {
     "name": "stdout",
     "output_type": "stream",
     "text": [
      "Le CHI-2 est de 158.25 et la p-value est de 0.0000\n"
     ]
    }
   ],
   "source": [
    "# calcul du Chi-2 et de la P-value\n",
    "chi2, p, dof, expected = stats.chi2_contingency(cont)\n",
    "print(f'Le CHI-2 est de {chi2:.2f} et la p-value est de {p:.4f}')"
   ]
  },
  {
   "cell_type": "markdown",
   "id": "cf0a6fac",
   "metadata": {},
   "source": [
    "Chi2 :\n",
    "Ce test permet de vérifier l'absence de lien statistique entre deux variables X et Y. Les deux sont dites indépendantes lorsqu'il n'existe aucun lien\n",
    "\n",
    "H0 = L’hypothèse nulle, les variables sont indépendantes\n",
    "H1 = L’hypothèse alternative, les variables ne sont pas indépendantes\n"
   ]
  },
  {
   "cell_type": "code",
   "execution_count": 291,
   "id": "26ff074d",
   "metadata": {},
   "outputs": [
    {
     "name": "stdout",
     "output_type": "stream",
     "text": [
      "la P-value est égale à 0.00000000000000000\n",
      "P-value < 0.01 je ne peux pas rejette HO on peut donc conclure que le lien entre le sexe et la categorie de livre achete est statistiquement significatif\n"
     ]
    }
   ],
   "source": [
    "print('la P-value est égale à',(format(p,'.17f')))\n",
    "print(\"P-value < 0.01 je ne peux pas rejette HO on peut donc conclure que le lien entre le sexe et la categorie de livre achete est statistiquement significatif\")"
   ]
  },
  {
   "cell_type": "markdown",
   "id": "56775db3",
   "metadata": {},
   "source": [
    "## 4.2 Corrélations entre âge et nb de clients => 2 variables quantitatives : test non paramétrique d'Anderson"
   ]
  },
  {
   "cell_type": "code",
   "execution_count": 292,
   "id": "b495c789",
   "metadata": {},
   "outputs": [
    {
     "data": {
      "image/png": "[encoded data removed]",
      "text/plain": [
       "<Figure size 432x288 with 1 Axes>"
      ]
     },
     "metadata": {
      "needs_background": "light"
     },
     "output_type": "display_data"
    }
   ],
   "source": [
    "# Répartition de la clientèle par âge\n",
    "sns.histplot(data=CA_client_profil[\"age\"],\n",
    "             bins=40,\n",
    "             kde=True)\n",
    "plt.title(\"Répartition de la clientèle par âge\")\n",
    "plt.ylabel(\"Nombre de clients\")\n",
    "plt.xlabel(\"Age\")\n",
    "plt.show()"
   ]
  },
  {
   "cell_type": "code",
   "execution_count": 293,
   "id": "0a653aa9",
   "metadata": {},
   "outputs": [
    {
     "name": "stdout",
     "output_type": "stream",
     "text": [
      "AndersonResult(statistic=53.7356722377026, critical_values=array([0.576, 0.656, 0.787, 0.918, 1.091]), significance_level=array([15. , 10. ,  5. ,  2.5,  1. ]))\n"
     ]
    }
   ],
   "source": [
    "# Test de Normalite de la repartition des ages:\n",
    "print(stats.anderson(CA_client_profil[\"age\"], dist=\"norm\"))"
   ]
  },
  {
   "cell_type": "markdown",
   "id": "71539178",
   "metadata": {},
   "source": [
    "On utilise le test d'Anderson Darling car il est non paramétrique et utilisé pour les grands échantillons. \n",
    "H0 = les données suivent une distribution normale\n",
    "alpha 1% \n",
    "statistique du test d'Anderson (54) > valeure critique (1) \n",
    "On rejette H0. On considère que l'âge ne suit pas une distribution normale avec un risque d'erreur de 1%"
   ]
  },
  {
   "cell_type": "markdown",
   "id": "d9b05a32",
   "metadata": {},
   "source": [
    "## 4.3 Corrélations entre catégorie achetée et tranches d'âge =>2 variables qualitatives : Tableau de contingence\n"
   ]
  },
  {
   "cell_type": "code",
   "execution_count": 294,
   "id": "43f25a8b",
   "metadata": {},
   "outputs": [],
   "source": [
    "# création d'une heatmap par tranche d'âge et catégorie de produits"
   ]
  },
  {
   "cell_type": "code",
   "execution_count": 295,
   "id": "10051cae",
   "metadata": {},
   "outputs": [
    {
     "data": {
      "text/html": [
       "<div>\n",
       "<style scoped>\n",
       "    .dataframe tbody tr th:only-of-type {\n",
       "        vertical-align: middle;\n",
       "    }\n",
       "\n",
       "    .dataframe tbody tr th {\n",
       "        vertical-align: top;\n",
       "    }\n",
       "\n",
       "    .dataframe thead th {\n",
       "        text-align: right;\n",
       "    }\n",
       "</style>\n",
       "<table border=\"1\" class=\"dataframe\">\n",
       "  <thead>\n",
       "    <tr style=\"text-align: right;\">\n",
       "      <th>categ</th>\n",
       "      <th>0</th>\n",
       "      <th>1</th>\n",
       "      <th>2</th>\n",
       "      <th>Total</th>\n",
       "    </tr>\n",
       "    <tr>\n",
       "      <th>tranche_age</th>\n",
       "      <th></th>\n",
       "      <th></th>\n",
       "      <th></th>\n",
       "      <th></th>\n",
       "    </tr>\n",
       "  </thead>\n",
       "  <tbody>\n",
       "    <tr>\n",
       "      <th>18-19</th>\n",
       "      <td>3418</td>\n",
       "      <td>6067</td>\n",
       "      <td>6012</td>\n",
       "      <td>15497</td>\n",
       "    </tr>\n",
       "    <tr>\n",
       "      <th>20-29</th>\n",
       "      <td>10994</td>\n",
       "      <td>21589</td>\n",
       "      <td>23051</td>\n",
       "      <td>55634</td>\n",
       "    </tr>\n",
       "    <tr>\n",
       "      <th>30-39</th>\n",
       "      <td>119972</td>\n",
       "      <td>41628</td>\n",
       "      <td>4696</td>\n",
       "      <td>166296</td>\n",
       "    </tr>\n",
       "    <tr>\n",
       "      <th>40-49</th>\n",
       "      <td>177018</td>\n",
       "      <td>56309</td>\n",
       "      <td>769</td>\n",
       "      <td>234096</td>\n",
       "    </tr>\n",
       "    <tr>\n",
       "      <th>50-59</th>\n",
       "      <td>62257</td>\n",
       "      <td>54896</td>\n",
       "      <td>1056</td>\n",
       "      <td>118209</td>\n",
       "    </tr>\n",
       "    <tr>\n",
       "      <th>60-69</th>\n",
       "      <td>24801</td>\n",
       "      <td>32685</td>\n",
       "      <td>550</td>\n",
       "      <td>58036</td>\n",
       "    </tr>\n",
       "    <tr>\n",
       "      <th>70-79</th>\n",
       "      <td>11541</td>\n",
       "      <td>15065</td>\n",
       "      <td>219</td>\n",
       "      <td>26825</td>\n",
       "    </tr>\n",
       "    <tr>\n",
       "      <th>80-89</th>\n",
       "      <td>4954</td>\n",
       "      <td>6607</td>\n",
       "      <td>122</td>\n",
       "      <td>11683</td>\n",
       "    </tr>\n",
       "    <tr>\n",
       "      <th>90-100</th>\n",
       "      <td>504</td>\n",
       "      <td>746</td>\n",
       "      <td>8</td>\n",
       "      <td>1258</td>\n",
       "    </tr>\n",
       "    <tr>\n",
       "      <th>Total</th>\n",
       "      <td>415459</td>\n",
       "      <td>235592</td>\n",
       "      <td>36483</td>\n",
       "      <td>687534</td>\n",
       "    </tr>\n",
       "  </tbody>\n",
       "</table>\n",
       "</div>"
      ],
      "text/plain": [
       "categ             0       1      2   Total\n",
       "tranche_age                               \n",
       "18-19          3418    6067   6012   15497\n",
       "20-29         10994   21589  23051   55634\n",
       "30-39        119972   41628   4696  166296\n",
       "40-49        177018   56309    769  234096\n",
       "50-59         62257   54896   1056  118209\n",
       "60-69         24801   32685    550   58036\n",
       "70-79         11541   15065    219   26825\n",
       "80-89          4954    6607    122   11683\n",
       "90-100          504     746      8    1258\n",
       "Total        415459  235592  36483  687534"
      ]
     },
     "execution_count": 295,
     "metadata": {},
     "output_type": "execute_result"
    }
   ],
   "source": [
    "X = 'tranche_age'\n",
    "Y = 'categ'\n",
    "cont2 = transactions_profil[[X,Y]].pivot_table(index=X,columns=Y,aggfunc=len,margins=True,margins_name=\"Total\")\n",
    "cont2"
   ]
  },
  {
   "cell_type": "code",
   "execution_count": 296,
   "id": "c87429f7",
   "metadata": {},
   "outputs": [
    {
     "data": {
      "text/plain": [
       "Text(0.5, 1.0, \"Répartition du nb d'achats par catégorie et tranche d'âge\")"
      ]
     },
     "execution_count": 296,
     "metadata": {},
     "output_type": "execute_result"
    },
    {
     "data": {
      "image/png": "[encoded data removed]",
      "text/plain": [
       "<Figure size 432x288 with 2 Axes>"
      ]
     },
     "metadata": {
      "needs_background": "light"
     },
     "output_type": "display_data"
    }
   ],
   "source": [
    "tx = cont2.loc[:,[\"Total\"]]\n",
    "ty = cont2.loc[[\"Total\"],:]\n",
    "n = len(particuliers)\n",
    "indep = tx.dot(ty) / n\n",
    "c = cont2.fillna(0) # On remplace les valeurs nulles par 0\n",
    "\n",
    "measure = (c-indep)**2/indep # On compare le tableau c à indep\n",
    "xi_n = measure.sum().sum() # la somme des mesures de toutes les cases\n",
    "table = measure/xi_n # On divise chaque case par la somme des mesures de toutes les cases (échelle de couleur entre 0 et 1)\n",
    "sns.heatmap(table.iloc[:-1,:-1],annot=c.iloc[:-1,:-1],fmt=\"d\", cmap=sns.diverging_palette(220, 20, n=200))\n",
    "plt.title(\"Répartition du nb d'achats par catégorie et tranche d'âge\")"
   ]
  },
  {
   "cell_type": "code",
   "execution_count": 297,
   "id": "a324f926",
   "metadata": {},
   "outputs": [
    {
     "name": "stdout",
     "output_type": "stream",
     "text": [
      "Le CHI-2 est de 259031.73 et la p-value est de 0.0000\n"
     ]
    }
   ],
   "source": [
    "# calcul du Chi-2 et de la P-value\n",
    "chi2, p, dof, expected = stats.chi2_contingency(cont2)\n",
    "print(f'Le CHI-2 est de {chi2:.2f} et la p-value est de {p:.4f}')\n"
   ]
  },
  {
   "cell_type": "markdown",
   "id": "acf7ed4a",
   "metadata": {},
   "source": [
    "Chi2 : Ce test permet de vérifier l'absence de lien statistique entre deux variables X et Y. Les deux sont dites indépendantes lorsqu'il n'existe aucun lien\n",
    "\n",
    "H0 = L’hypothèse nulle, les variables sont indépendantes H1 = L’hypothèse alternative, les variables ne sont pas indépendantes"
   ]
  },
  {
   "cell_type": "code",
   "execution_count": 298,
   "id": "040f2fbc",
   "metadata": {},
   "outputs": [
    {
     "name": "stdout",
     "output_type": "stream",
     "text": [
      "la P-value est égale à 0.00000000000000000\n",
      "P-value < 0.01 je ne peux pas rejette HO on peut donc conclure que le lien entre le sexe et la categorie de livre achete est statistiquement significatif\n"
     ]
    }
   ],
   "source": [
    "print('la P-value est égale à',(format(p,'.17f')))\n",
    "print(\"P-value < 0.01 je ne peux pas rejette HO on peut donc conclure que le lien entre le sexe et la categorie de livre achete est statistiquement significatif\")"
   ]
  },
  {
   "cell_type": "markdown",
   "id": "ac19a472",
   "metadata": {},
   "source": [
    "## 4.4 Corrélations entre âge et chiffre d'affaires =>2 variables quantitatives : coefficient de Pearson"
   ]
  },
  {
   "cell_type": "markdown",
   "id": "b95fa524",
   "metadata": {},
   "source": [
    "Le coefficient de corrélation de Pearson permet d'analyser les relations linéaires \n",
    "Il permet de mesurer à la fois la force et le sens d'une association. Variant de -1 à +1, il vaut 0 lorsqu'il n'existe pas d'association. Plus ce coefficient est proche de -1 ou +1, plus l'association entre les deux variables est forte, jusqu'à être parfaite"
   ]
  },
  {
   "cell_type": "code",
   "execution_count": 299,
   "id": "26a67f8b",
   "metadata": {},
   "outputs": [
    {
     "name": "stdout",
     "output_type": "stream",
     "text": [
      "        age    price\n",
      "513235   94  0.02299\n",
      "113729   94  0.01665\n",
      "128787   94  0.01303\n",
      "314181   94  0.01405\n",
      "577552   94  0.01665\n"
     ]
    },
    {
     "name": "stderr",
     "output_type": "stream",
     "text": [
      "C:\\Users\\orlya\\AppData\\Local\\Temp/ipykernel_13648/3724169059.py:5: SettingWithCopyWarning:\n",
      "\n",
      "\n",
      "A value is trying to be set on a copy of a slice from a DataFrame.\n",
      "Try using .loc[row_indexer,col_indexer] = value instead\n",
      "\n",
      "See the caveats in the documentation: https://pandas.pydata.org/pandas-docs/stable/user_guide/indexing.html#returning-a-view-versus-a-copy\n",
      "\n"
     ]
    }
   ],
   "source": [
    "# Calcul de la somme des prix 'price' pour chaque âge\n",
    "age_CA = transactions_profil[['age', 'price']]\n",
    "\n",
    "# Conversion des valeurs en K€\n",
    "age_CA['price'] = age_CA['price'] / 1000\n",
    "\n",
    "# Tri des données par âge en ordre décroissant\n",
    "age_CA = age_CA.sort_values(by='age', ascending=False)\n",
    "\n",
    "# Affichage des cinq premières lignes\n",
    "print(age_CA.head())"
   ]
  },
  {
   "cell_type": "code",
   "execution_count": 300,
   "id": "69319cd2",
   "metadata": {},
   "outputs": [
    {
     "name": "stdout",
     "output_type": "stream",
     "text": [
      "        age    price\n",
      "513235   94  0.02299\n",
      "113729   94  0.01665\n",
      "128787   94  0.01303\n",
      "314181   94  0.01405\n",
      "577552   94  0.01665\n"
     ]
    }
   ],
   "source": [
    "# Somme des ventes 'price' pour toutes les transactions sans regroupement par âge\n",
    "age_CA = transactions_profil[['age', 'price']].sort_values(by='age', ascending=False)\n",
    "\n",
    "# Conversion des valeurs en K€\n",
    "age_CA['price'] = age_CA['price'] / 1000\n",
    "\n",
    "# Affichage des cinq premières lignes\n",
    "print(age_CA.head())\n"
   ]
  },
  {
   "cell_type": "markdown",
   "id": "72442d7a",
   "metadata": {},
   "source": [
    "#### 4.4.1.1 Visualisation avec un scatterplot (âge clients vs montant total des achats)"
   ]
  },
  {
   "cell_type": "code",
   "execution_count": 326,
   "id": "60795a97",
   "metadata": {},
   "outputs": [
    {
     "data": {
      "image/png": "[encoded data removed]",
      "text/plain": [
       "<Figure size 1800x720 with 1 Axes>"
      ]
     },
     "metadata": {
      "needs_background": "light"
     },
     "output_type": "display_data"
    }
   ],
   "source": [
    "plt.figure(figsize=(25,10))\n",
    "plt.plot(age_CA.age, age_CA.price, 'o', color='black')\n",
    "plt.xlabel('age')\n",
    "plt.ylabel('Montant achat (K€)')\n",
    "plt.title(\"Montant total des achats par âge\")\n",
    "plt.show()\n"
   ]
  },
  {
   "cell_type": "markdown",
   "id": "84b2a734",
   "metadata": {},
   "source": [
    "### 4.4.1 Coefficient de corrélation linéaire de Pearson"
   ]
  },
  {
   "cell_type": "code",
   "execution_count": 335,
   "id": "b19e1d0b",
   "metadata": {},
   "outputs": [
    {
     "name": "stdout",
     "output_type": "stream",
     "text": [
      "Interprétation du p-value avec un seuil alpha de 0,05: La corrélation est statistiquement significative (p-value < 0,05).\n",
      "Coefficient de corrélation de Pearson: (-0.20749608778803133, 0.0)\n",
      "p-value: 0.0\n"
     ]
    }
   ],
   "source": [
    "coef_age_price = stats.pearsonr(age_CA.age, age_CA.price)\n",
    "coef_age_price\n",
    "\n",
    "# Interprétation du p-value avec un seuil alpha de 0,05\n",
    "alpha = 0.05  # Niveau de signification\n",
    "if p_value < alpha:\n",
    "    significance = \"La corrélation est statistiquement significative (p-value < 0,05).\"\n",
    "else:\n",
    "    significance = \"La corrélation n'est pas statistiquement significative (p-value >= 0,05).\"\n",
    "\n",
    "# Affichage des résultats\n",
    "print(\"Interprétation du p-value avec un seuil alpha de 0,05:\", significance)\n",
    "print(\"Coefficient de corrélation de Pearson:\", coef_age_price)\n",
    "print(\"p-value:\", p_value)"
   ]
  },
  {
   "cell_type": "markdown",
   "id": "e509e4e9",
   "metadata": {},
   "source": [
    "Le coefficient est négatif par conséquent, on peut émettre l'hypothèse que plus les consommateurs sont agés plus le montant total de leur achat est faible. De plus le coefficient tend vers (-1). Par conséquent, on peut affirmer que plus les consommateurs sont agés plus le montant total de leur achat est faible."
   ]
  },
  {
   "cell_type": "markdown",
   "id": "d809edd1",
   "metadata": {},
   "source": [
    "### 4.4.1.1 Coefficient de corrélation linéaire de spearman"
   ]
  },
  {
   "cell_type": "code",
   "execution_count": 333,
   "id": "96c09cc9",
   "metadata": {},
   "outputs": [
    {
     "name": "stdout",
     "output_type": "stream",
     "text": [
      "Interprétation du p-value avec un seuil alpha de 0,05: La corrélation est statistiquement significative (p-value < 0,05).\n",
      "Coefficient de corrélation de Spearman: -0.05546489462131949\n",
      "p-value: 0.0\n"
     ]
    }
   ],
   "source": [
    "correlation, p_value = stats.spearmanr(age_CA.age, age_CA.price)\n",
    "#print( correlation)\n",
    "#print(p_value)\n",
    "\n",
    "# Interprétation du p-value avec un seuil alpha de 0,05\n",
    "alpha = 0.05  # Niveau de signification\n",
    "if p_value < alpha:\n",
    "    significance = \"La corrélation est statistiquement significative (p-value < 0,05).\"\n",
    "else:\n",
    "    significance = \"La corrélation n'est pas statistiquement significative (p-value >= 0,05).\"\n",
    "\n",
    "# Affichage des résultats\n",
    "\n",
    "print(\"Interprétation du p-value avec un seuil alpha de 0,05:\", significance)\n",
    "print(\"Coefficient de corrélation de Spearman:\", correlation)\n",
    "print(\"p-value:\", p_value)\n"
   ]
  },
  {
   "cell_type": "markdown",
   "id": "f4536500",
   "metadata": {},
   "source": []
  },
  {
   "cell_type": "code",
   "execution_count": 304,
   "id": "a5ea2f4e",
   "metadata": {},
   "outputs": [
    {
     "data": {
      "text/html": [
       "<div>\n",
       "<style scoped>\n",
       "    .dataframe tbody tr th:only-of-type {\n",
       "        vertical-align: middle;\n",
       "    }\n",
       "\n",
       "    .dataframe tbody tr th {\n",
       "        vertical-align: top;\n",
       "    }\n",
       "\n",
       "    .dataframe thead th {\n",
       "        text-align: right;\n",
       "    }\n",
       "</style>\n",
       "<table border=\"1\" class=\"dataframe\">\n",
       "  <thead>\n",
       "    <tr style=\"text-align: right;\">\n",
       "      <th></th>\n",
       "      <th>id_prod</th>\n",
       "      <th>date</th>\n",
       "      <th>session_id</th>\n",
       "      <th>client_id</th>\n",
       "      <th>clé composite</th>\n",
       "      <th>année_mois</th>\n",
       "      <th>date2</th>\n",
       "      <th>date_ok</th>\n",
       "      <th>annee</th>\n",
       "      <th>mois</th>\n",
       "      <th>jour</th>\n",
       "      <th>price</th>\n",
       "      <th>categ</th>\n",
       "      <th>sex</th>\n",
       "      <th>birth</th>\n",
       "      <th>age</th>\n",
       "      <th>tranche_age</th>\n",
       "    </tr>\n",
       "  </thead>\n",
       "  <tbody>\n",
       "    <tr>\n",
       "      <th>0</th>\n",
       "      <td>0_1259</td>\n",
       "      <td>2021-03-01 00:01:07.843138</td>\n",
       "      <td>s_1</td>\n",
       "      <td>c_329</td>\n",
       "      <td>c_3292021-03-01 00:01:07.843138</td>\n",
       "      <td>2021-03</td>\n",
       "      <td>2021-03-01</td>\n",
       "      <td>2021-03-01</td>\n",
       "      <td>2021</td>\n",
       "      <td>3</td>\n",
       "      <td>1</td>\n",
       "      <td>11.99</td>\n",
       "      <td>0</td>\n",
       "      <td>f</td>\n",
       "      <td>1967</td>\n",
       "      <td>56</td>\n",
       "      <td>50-59</td>\n",
       "    </tr>\n",
       "    <tr>\n",
       "      <th>1</th>\n",
       "      <td>0_1390</td>\n",
       "      <td>2021-03-01 00:02:26.047414</td>\n",
       "      <td>s_2</td>\n",
       "      <td>c_664</td>\n",
       "      <td>c_6642021-03-01 00:02:26.047414</td>\n",
       "      <td>2021-03</td>\n",
       "      <td>2021-03-01</td>\n",
       "      <td>2021-03-01</td>\n",
       "      <td>2021</td>\n",
       "      <td>3</td>\n",
       "      <td>1</td>\n",
       "      <td>19.37</td>\n",
       "      <td>0</td>\n",
       "      <td>m</td>\n",
       "      <td>1960</td>\n",
       "      <td>63</td>\n",
       "      <td>60-69</td>\n",
       "    </tr>\n",
       "    <tr>\n",
       "      <th>2</th>\n",
       "      <td>0_1352</td>\n",
       "      <td>2021-03-01 00:02:38.311413</td>\n",
       "      <td>s_3</td>\n",
       "      <td>c_580</td>\n",
       "      <td>c_5802021-03-01 00:02:38.311413</td>\n",
       "      <td>2021-03</td>\n",
       "      <td>2021-03-01</td>\n",
       "      <td>2021-03-01</td>\n",
       "      <td>2021</td>\n",
       "      <td>3</td>\n",
       "      <td>1</td>\n",
       "      <td>4.50</td>\n",
       "      <td>0</td>\n",
       "      <td>m</td>\n",
       "      <td>1988</td>\n",
       "      <td>35</td>\n",
       "      <td>30-39</td>\n",
       "    </tr>\n",
       "    <tr>\n",
       "      <th>3</th>\n",
       "      <td>0_1458</td>\n",
       "      <td>2021-03-01 00:04:54.559692</td>\n",
       "      <td>s_4</td>\n",
       "      <td>c_7912</td>\n",
       "      <td>c_79122021-03-01 00:04:54.559692</td>\n",
       "      <td>2021-03</td>\n",
       "      <td>2021-03-01</td>\n",
       "      <td>2021-03-01</td>\n",
       "      <td>2021</td>\n",
       "      <td>3</td>\n",
       "      <td>1</td>\n",
       "      <td>6.55</td>\n",
       "      <td>0</td>\n",
       "      <td>f</td>\n",
       "      <td>1989</td>\n",
       "      <td>34</td>\n",
       "      <td>30-39</td>\n",
       "    </tr>\n",
       "    <tr>\n",
       "      <th>4</th>\n",
       "      <td>0_1358</td>\n",
       "      <td>2021-03-01 00:05:18.801198</td>\n",
       "      <td>s_5</td>\n",
       "      <td>c_2033</td>\n",
       "      <td>c_20332021-03-01 00:05:18.801198</td>\n",
       "      <td>2021-03</td>\n",
       "      <td>2021-03-01</td>\n",
       "      <td>2021-03-01</td>\n",
       "      <td>2021</td>\n",
       "      <td>3</td>\n",
       "      <td>1</td>\n",
       "      <td>16.49</td>\n",
       "      <td>0</td>\n",
       "      <td>f</td>\n",
       "      <td>1956</td>\n",
       "      <td>67</td>\n",
       "      <td>60-69</td>\n",
       "    </tr>\n",
       "  </tbody>\n",
       "</table>\n",
       "</div>"
      ],
      "text/plain": [
       "  id_prod                        date session_id client_id  \\\n",
       "0  0_1259  2021-03-01 00:01:07.843138        s_1     c_329   \n",
       "1  0_1390  2021-03-01 00:02:26.047414        s_2     c_664   \n",
       "2  0_1352  2021-03-01 00:02:38.311413        s_3     c_580   \n",
       "3  0_1458  2021-03-01 00:04:54.559692        s_4    c_7912   \n",
       "4  0_1358  2021-03-01 00:05:18.801198        s_5    c_2033   \n",
       "\n",
       "                      clé composite année_mois       date2    date_ok  annee  \\\n",
       "0   c_3292021-03-01 00:01:07.843138    2021-03  2021-03-01 2021-03-01   2021   \n",
       "1   c_6642021-03-01 00:02:26.047414    2021-03  2021-03-01 2021-03-01   2021   \n",
       "2   c_5802021-03-01 00:02:38.311413    2021-03  2021-03-01 2021-03-01   2021   \n",
       "3  c_79122021-03-01 00:04:54.559692    2021-03  2021-03-01 2021-03-01   2021   \n",
       "4  c_20332021-03-01 00:05:18.801198    2021-03  2021-03-01 2021-03-01   2021   \n",
       "\n",
       "   mois  jour  price categ sex  birth  age tranche_age  \n",
       "0     3     1  11.99     0   f   1967   56       50-59  \n",
       "1     3     1  19.37     0   m   1960   63       60-69  \n",
       "2     3     1   4.50     0   m   1988   35       30-39  \n",
       "3     3     1   6.55     0   f   1989   34       30-39  \n",
       "4     3     1  16.49     0   f   1956   67       60-69  "
      ]
     },
     "execution_count": 304,
     "metadata": {},
     "output_type": "execute_result"
    }
   ],
   "source": [
    "transactions_profil.head()"
   ]
  },
  {
   "cell_type": "markdown",
   "id": "21fa35a2",
   "metadata": {},
   "source": [
    "### 4.4.2 calcul de la session_id representant la frequence"
   ]
  },
  {
   "cell_type": "code",
   "execution_count": 305,
   "id": "6271e020",
   "metadata": {},
   "outputs": [
    {
     "data": {
      "text/html": [
       "<div>\n",
       "<style scoped>\n",
       "    .dataframe tbody tr th:only-of-type {\n",
       "        vertical-align: middle;\n",
       "    }\n",
       "\n",
       "    .dataframe tbody tr th {\n",
       "        vertical-align: top;\n",
       "    }\n",
       "\n",
       "    .dataframe thead th {\n",
       "        text-align: right;\n",
       "    }\n",
       "</style>\n",
       "<table border=\"1\" class=\"dataframe\">\n",
       "  <thead>\n",
       "    <tr style=\"text-align: right;\">\n",
       "      <th></th>\n",
       "      <th>client_id</th>\n",
       "      <th>session_id</th>\n",
       "      <th>age</th>\n",
       "    </tr>\n",
       "  </thead>\n",
       "  <tbody>\n",
       "    <tr>\n",
       "      <th>0</th>\n",
       "      <td>c_1</td>\n",
       "      <td>43</td>\n",
       "      <td>68</td>\n",
       "    </tr>\n",
       "    <tr>\n",
       "      <th>1</th>\n",
       "      <td>c_10</td>\n",
       "      <td>58</td>\n",
       "      <td>67</td>\n",
       "    </tr>\n",
       "    <tr>\n",
       "      <th>2</th>\n",
       "      <td>c_100</td>\n",
       "      <td>8</td>\n",
       "      <td>31</td>\n",
       "    </tr>\n",
       "    <tr>\n",
       "      <th>3</th>\n",
       "      <td>c_1000</td>\n",
       "      <td>126</td>\n",
       "      <td>57</td>\n",
       "    </tr>\n",
       "    <tr>\n",
       "      <th>4</th>\n",
       "      <td>c_1001</td>\n",
       "      <td>103</td>\n",
       "      <td>41</td>\n",
       "    </tr>\n",
       "    <tr>\n",
       "      <th>...</th>\n",
       "      <td>...</td>\n",
       "      <td>...</td>\n",
       "      <td>...</td>\n",
       "    </tr>\n",
       "    <tr>\n",
       "      <th>8595</th>\n",
       "      <td>c_995</td>\n",
       "      <td>14</td>\n",
       "      <td>68</td>\n",
       "    </tr>\n",
       "    <tr>\n",
       "      <th>8596</th>\n",
       "      <td>c_996</td>\n",
       "      <td>96</td>\n",
       "      <td>53</td>\n",
       "    </tr>\n",
       "    <tr>\n",
       "      <th>8597</th>\n",
       "      <td>c_997</td>\n",
       "      <td>59</td>\n",
       "      <td>29</td>\n",
       "    </tr>\n",
       "    <tr>\n",
       "      <th>8598</th>\n",
       "      <td>c_998</td>\n",
       "      <td>55</td>\n",
       "      <td>22</td>\n",
       "    </tr>\n",
       "    <tr>\n",
       "      <th>8599</th>\n",
       "      <td>c_999</td>\n",
       "      <td>46</td>\n",
       "      <td>59</td>\n",
       "    </tr>\n",
       "  </tbody>\n",
       "</table>\n",
       "<p>8600 rows × 3 columns</p>\n",
       "</div>"
      ],
      "text/plain": [
       "     client_id  session_id  age\n",
       "0          c_1          43   68\n",
       "1         c_10          58   67\n",
       "2        c_100           8   31\n",
       "3       c_1000         126   57\n",
       "4       c_1001         103   41\n",
       "...        ...         ...  ...\n",
       "8595     c_995          14   68\n",
       "8596     c_996          96   53\n",
       "8597     c_997          59   29\n",
       "8598     c_998          55   22\n",
       "8599     c_999          46   59\n",
       "\n",
       "[8600 rows x 3 columns]"
      ]
     },
     "execution_count": 305,
     "metadata": {},
     "output_type": "execute_result"
    }
   ],
   "source": [
    "customers_freq = transactions_profil[['session_id', 'client_id']].groupby('client_id').count().reset_index()\n",
    "customers_freq\n",
    "df_tmp = transactions_profil[['age', 'client_id']].drop_duplicates()\n",
    "df_tmp\n",
    "customers_freq = customers_freq.merge(df_tmp)\n",
    "customers_freq"
   ]
  },
  {
   "cell_type": "markdown",
   "id": "f64cb2ed",
   "metadata": {},
   "source": [
    "#### 4.4.2.1 Visualisation avec un scatterplot (âge client vs fréquence d'achat mensuelle) sans les quatre client pro pour une meillleur visibilité\n"
   ]
  },
  {
   "cell_type": "code",
   "execution_count": 306,
   "id": "07ab9bdd",
   "metadata": {},
   "outputs": [
    {
     "data": {
      "image/png": "[encoded data removed]",
      "text/plain": [
       "<Figure size 1440x720 with 1 Axes>"
      ]
     },
     "metadata": {
      "needs_background": "light"
     },
     "output_type": "display_data"
    }
   ],
   "source": [
    "identifiants_a_exclure = [\"c_1609\", \"c_3454\", \"c_4958\", \"c_6714\"]\n",
    "customers_freq = customers_freq[~customers_freq['client_id'].isin(identifiants_a_exclure)]\n",
    "\n",
    "# Créer le scatterplot\n",
    "plt.figure(figsize=(20, 10))\n",
    "sns.scatterplot(x=\"age\", y=\"session_id\", data=customers_freq)\n",
    "plt.xlabel('age')\n",
    "plt.ylabel(\"Fréquence mensuelle moyenne\")\n",
    "plt.title(\"Fréquence des achats selon l'âge du client\")\n",
    "# Pas besoin de \"legend()\" pour un scatterplot, car il n'y a pas de légende dans ce contexte\n",
    "plt.show()"
   ]
  },
  {
   "cell_type": "code",
   "execution_count": 308,
   "id": "5489edf7",
   "metadata": {},
   "outputs": [
    {
     "name": "stdout",
     "output_type": "stream",
     "text": [
      "0.030327901870329816\n",
      "0.004922261715844098\n"
     ]
    }
   ],
   "source": [
    "coef_customers_freq = stats.pearsonr(customers_freq.age, customers_freq.session_id)\n",
    "print(coef_customers_freq[0])\n",
    "print(coef_customers_freq[1])"
   ]
  },
  {
   "cell_type": "markdown",
   "id": "1fa9d2e8",
   "metadata": {},
   "source": [
    "Corrélation confirmée par le coefficient de Pearson, il existe bien un lien entre l'âge des clients et leur fréquence d'achat. Il semblerait que des groupes de clients se formalisent sur cette corrélation, par exemple entre 18 et 30 ans"
   ]
  },
  {
   "cell_type": "markdown",
   "id": "0db5461a",
   "metadata": {},
   "source": [
    "### 4.4.2.1 coefficient de corrélation linéaire de spearman"
   ]
  },
  {
   "cell_type": "code",
   "execution_count": 309,
   "id": "f39a4e58",
   "metadata": {},
   "outputs": [
    {
     "name": "stdout",
     "output_type": "stream",
     "text": [
      "Corrélation de Spearman : 0.12766191018445167\n",
      "Valeur p : 1.4497470156818763e-32\n",
      "Il y a une corrélation significative entre x et y.\n"
     ]
    }
   ],
   "source": [
    "x = customers_freq['age']\n",
    "y = customers_freq['session_id']\n",
    "\n",
    "# Appliquez le test de Spearman\n",
    "correlation, p_value = stats.spearmanr(x, y)\n",
    "\n",
    "# Affichez les résultats\n",
    "print(f\"Corrélation de Spearman : {correlation}\")\n",
    "print(f\"Valeur p : {p_value}\")\n",
    "\n",
    "# Interprétation des résultats\n",
    "alpha = 0.05  # Niveau de signification\n",
    "if p_value < alpha:\n",
    "    print(\"Il y a une corrélation significative entre x et y.\")\n",
    "else:\n",
    "    print(\"Il n'y a pas de corrélation significative entre x et y.\")\n"
   ]
  },
  {
   "cell_type": "markdown",
   "id": "6c3193f5",
   "metadata": {},
   "source": [
    "## 4.5 Corrélations entre groupe d'âge et panier moyen => 1 variable qualitative et 1 variable quantitative : ANOVA"
   ]
  },
  {
   "cell_type": "markdown",
   "id": "bce3e2f3",
   "metadata": {},
   "source": [
    "Données QUALI (tranches d'âge)/QUANTI (montant dépensé) => ANOVA Analyse de la variance : formule statistique utilisée pour comparer les variances entre la ou les moyennes de différents groupes. Elle est utilisée dans de nombreux scénarios pour déterminer s'il existe une différence entre les moyennes de différents groupes.\n",
    "L'ANOVA est une modélisation qui essaie d'expliquer les variations de la variable quantitative en fonction des modalités de la variable qualitative.\n",
    "Elle permet de calculer le rapport de corrélation, noté  η2 utile pour évaluer numériquement la corrélation"
   ]
  },
  {
   "cell_type": "code",
   "execution_count": 310,
   "id": "fabb01fc",
   "metadata": {},
   "outputs": [
    {
     "data": {
      "text/html": [
       "<div>\n",
       "<style scoped>\n",
       "    .dataframe tbody tr th:only-of-type {\n",
       "        vertical-align: middle;\n",
       "    }\n",
       "\n",
       "    .dataframe tbody tr th {\n",
       "        vertical-align: top;\n",
       "    }\n",
       "\n",
       "    .dataframe thead th {\n",
       "        text-align: right;\n",
       "    }\n",
       "</style>\n",
       "<table border=\"1\" class=\"dataframe\">\n",
       "  <thead>\n",
       "    <tr style=\"text-align: right;\">\n",
       "      <th></th>\n",
       "      <th>client_id</th>\n",
       "      <th>panier_moyen</th>\n",
       "    </tr>\n",
       "  </thead>\n",
       "  <tbody>\n",
       "    <tr>\n",
       "      <th>0</th>\n",
       "      <td>c_1</td>\n",
       "      <td>14.628372</td>\n",
       "    </tr>\n",
       "    <tr>\n",
       "      <th>1</th>\n",
       "      <td>c_10</td>\n",
       "      <td>23.337931</td>\n",
       "    </tr>\n",
       "    <tr>\n",
       "      <th>2</th>\n",
       "      <td>c_100</td>\n",
       "      <td>31.856250</td>\n",
       "    </tr>\n",
       "    <tr>\n",
       "      <th>3</th>\n",
       "      <td>c_1000</td>\n",
       "      <td>18.189524</td>\n",
       "    </tr>\n",
       "    <tr>\n",
       "      <th>4</th>\n",
       "      <td>c_1001</td>\n",
       "      <td>17.707282</td>\n",
       "    </tr>\n",
       "    <tr>\n",
       "      <th>...</th>\n",
       "      <td>...</td>\n",
       "      <td>...</td>\n",
       "    </tr>\n",
       "    <tr>\n",
       "      <th>8595</th>\n",
       "      <td>c_995</td>\n",
       "      <td>13.529286</td>\n",
       "    </tr>\n",
       "    <tr>\n",
       "      <th>8596</th>\n",
       "      <td>c_996</td>\n",
       "      <td>17.055625</td>\n",
       "    </tr>\n",
       "    <tr>\n",
       "      <th>8597</th>\n",
       "      <td>c_997</td>\n",
       "      <td>25.254407</td>\n",
       "    </tr>\n",
       "    <tr>\n",
       "      <th>8598</th>\n",
       "      <td>c_998</td>\n",
       "      <td>51.313091</td>\n",
       "    </tr>\n",
       "    <tr>\n",
       "      <th>8599</th>\n",
       "      <td>c_999</td>\n",
       "      <td>15.247826</td>\n",
       "    </tr>\n",
       "  </tbody>\n",
       "</table>\n",
       "<p>8600 rows × 2 columns</p>\n",
       "</div>"
      ],
      "text/plain": [
       "     client_id  panier_moyen\n",
       "0          c_1     14.628372\n",
       "1         c_10     23.337931\n",
       "2        c_100     31.856250\n",
       "3       c_1000     18.189524\n",
       "4       c_1001     17.707282\n",
       "...        ...           ...\n",
       "8595     c_995     13.529286\n",
       "8596     c_996     17.055625\n",
       "8597     c_997     25.254407\n",
       "8598     c_998     51.313091\n",
       "8599     c_999     15.247826\n",
       "\n",
       "[8600 rows x 2 columns]"
      ]
     },
     "execution_count": 310,
     "metadata": {},
     "output_type": "execute_result"
    }
   ],
   "source": [
    "panier_moyen_age = transactions_profil.pivot_table(index=[\"client_id\"], values=[\"price\"], aggfunc=['mean'])\n",
    "panier_moyen_age_reset = panier_moyen_age.reset_index(drop=False)\n",
    "panier_moyen_age_reset.columns = panier_moyen_age_reset.columns.droplevel(1)\n",
    "panier_moyen_age_reset = panier_moyen_age_reset.rename(columns = {'mean' : 'panier_moyen'})\n",
    "panier_moyen_age_reset"
   ]
  },
  {
   "cell_type": "markdown",
   "id": "df0aa92c",
   "metadata": {},
   "source": [
    "## 4.5.1 Jointure pour ajouter l'age sur la dataframe panier_moyen_age_reset"
   ]
  },
  {
   "cell_type": "code",
   "execution_count": 311,
   "id": "56352d59",
   "metadata": {},
   "outputs": [
    {
     "data": {
      "text/html": [
       "<div>\n",
       "<style scoped>\n",
       "    .dataframe tbody tr th:only-of-type {\n",
       "        vertical-align: middle;\n",
       "    }\n",
       "\n",
       "    .dataframe tbody tr th {\n",
       "        vertical-align: top;\n",
       "    }\n",
       "\n",
       "    .dataframe thead th {\n",
       "        text-align: right;\n",
       "    }\n",
       "</style>\n",
       "<table border=\"1\" class=\"dataframe\">\n",
       "  <thead>\n",
       "    <tr style=\"text-align: right;\">\n",
       "      <th></th>\n",
       "      <th>client_id</th>\n",
       "      <th>panier_moyen</th>\n",
       "      <th>session_id</th>\n",
       "      <th>age</th>\n",
       "    </tr>\n",
       "  </thead>\n",
       "  <tbody>\n",
       "    <tr>\n",
       "      <th>0</th>\n",
       "      <td>c_1</td>\n",
       "      <td>14.628372</td>\n",
       "      <td>43</td>\n",
       "      <td>68</td>\n",
       "    </tr>\n",
       "    <tr>\n",
       "      <th>1</th>\n",
       "      <td>c_10</td>\n",
       "      <td>23.337931</td>\n",
       "      <td>58</td>\n",
       "      <td>67</td>\n",
       "    </tr>\n",
       "    <tr>\n",
       "      <th>2</th>\n",
       "      <td>c_100</td>\n",
       "      <td>31.856250</td>\n",
       "      <td>8</td>\n",
       "      <td>31</td>\n",
       "    </tr>\n",
       "    <tr>\n",
       "      <th>3</th>\n",
       "      <td>c_1000</td>\n",
       "      <td>18.189524</td>\n",
       "      <td>126</td>\n",
       "      <td>57</td>\n",
       "    </tr>\n",
       "    <tr>\n",
       "      <th>4</th>\n",
       "      <td>c_1001</td>\n",
       "      <td>17.707282</td>\n",
       "      <td>103</td>\n",
       "      <td>41</td>\n",
       "    </tr>\n",
       "    <tr>\n",
       "      <th>...</th>\n",
       "      <td>...</td>\n",
       "      <td>...</td>\n",
       "      <td>...</td>\n",
       "      <td>...</td>\n",
       "    </tr>\n",
       "    <tr>\n",
       "      <th>8591</th>\n",
       "      <td>c_995</td>\n",
       "      <td>13.529286</td>\n",
       "      <td>14</td>\n",
       "      <td>68</td>\n",
       "    </tr>\n",
       "    <tr>\n",
       "      <th>8592</th>\n",
       "      <td>c_996</td>\n",
       "      <td>17.055625</td>\n",
       "      <td>96</td>\n",
       "      <td>53</td>\n",
       "    </tr>\n",
       "    <tr>\n",
       "      <th>8593</th>\n",
       "      <td>c_997</td>\n",
       "      <td>25.254407</td>\n",
       "      <td>59</td>\n",
       "      <td>29</td>\n",
       "    </tr>\n",
       "    <tr>\n",
       "      <th>8594</th>\n",
       "      <td>c_998</td>\n",
       "      <td>51.313091</td>\n",
       "      <td>55</td>\n",
       "      <td>22</td>\n",
       "    </tr>\n",
       "    <tr>\n",
       "      <th>8595</th>\n",
       "      <td>c_999</td>\n",
       "      <td>15.247826</td>\n",
       "      <td>46</td>\n",
       "      <td>59</td>\n",
       "    </tr>\n",
       "  </tbody>\n",
       "</table>\n",
       "<p>8596 rows × 4 columns</p>\n",
       "</div>"
      ],
      "text/plain": [
       "     client_id  panier_moyen  session_id  age\n",
       "0          c_1     14.628372          43   68\n",
       "1         c_10     23.337931          58   67\n",
       "2        c_100     31.856250           8   31\n",
       "3       c_1000     18.189524         126   57\n",
       "4       c_1001     17.707282         103   41\n",
       "...        ...           ...         ...  ...\n",
       "8591     c_995     13.529286          14   68\n",
       "8592     c_996     17.055625          96   53\n",
       "8593     c_997     25.254407          59   29\n",
       "8594     c_998     51.313091          55   22\n",
       "8595     c_999     15.247826          46   59\n",
       "\n",
       "[8596 rows x 4 columns]"
      ]
     },
     "execution_count": 311,
     "metadata": {},
     "output_type": "execute_result"
    }
   ],
   "source": [
    "panier_moyen_age_reset_final = pd.merge(panier_moyen_age_reset, customers_freq, on=\"client_id\", how=\"inner\")\n",
    "panier_moyen_age_reset_final"
   ]
  },
  {
   "cell_type": "markdown",
   "id": "9a8c9acc",
   "metadata": {},
   "source": [
    "## 4.5.3 test de levene"
   ]
  },
  {
   "cell_type": "code",
   "execution_count": 312,
   "id": "158c88db",
   "metadata": {},
   "outputs": [
    {
     "data": {
      "text/html": [
       "<div>\n",
       "<style scoped>\n",
       "    .dataframe tbody tr th:only-of-type {\n",
       "        vertical-align: middle;\n",
       "    }\n",
       "\n",
       "    .dataframe tbody tr th {\n",
       "        vertical-align: top;\n",
       "    }\n",
       "\n",
       "    .dataframe thead th {\n",
       "        text-align: right;\n",
       "    }\n",
       "</style>\n",
       "<table border=\"1\" class=\"dataframe\">\n",
       "  <thead>\n",
       "    <tr style=\"text-align: right;\">\n",
       "      <th></th>\n",
       "      <th>client_id</th>\n",
       "      <th>panier_moyen</th>\n",
       "      <th>session_id</th>\n",
       "      <th>age</th>\n",
       "      <th>groupe_age</th>\n",
       "    </tr>\n",
       "  </thead>\n",
       "  <tbody>\n",
       "    <tr>\n",
       "      <th>0</th>\n",
       "      <td>c_1</td>\n",
       "      <td>14.628372</td>\n",
       "      <td>43</td>\n",
       "      <td>68</td>\n",
       "      <td>groupe_3</td>\n",
       "    </tr>\n",
       "    <tr>\n",
       "      <th>1</th>\n",
       "      <td>c_10</td>\n",
       "      <td>23.337931</td>\n",
       "      <td>58</td>\n",
       "      <td>67</td>\n",
       "      <td>groupe_3</td>\n",
       "    </tr>\n",
       "    <tr>\n",
       "      <th>2</th>\n",
       "      <td>c_100</td>\n",
       "      <td>31.856250</td>\n",
       "      <td>8</td>\n",
       "      <td>31</td>\n",
       "      <td>groupe_2</td>\n",
       "    </tr>\n",
       "    <tr>\n",
       "      <th>3</th>\n",
       "      <td>c_1000</td>\n",
       "      <td>18.189524</td>\n",
       "      <td>126</td>\n",
       "      <td>57</td>\n",
       "      <td>groupe_3</td>\n",
       "    </tr>\n",
       "    <tr>\n",
       "      <th>4</th>\n",
       "      <td>c_1001</td>\n",
       "      <td>17.707282</td>\n",
       "      <td>103</td>\n",
       "      <td>41</td>\n",
       "      <td>groupe_2</td>\n",
       "    </tr>\n",
       "    <tr>\n",
       "      <th>...</th>\n",
       "      <td>...</td>\n",
       "      <td>...</td>\n",
       "      <td>...</td>\n",
       "      <td>...</td>\n",
       "      <td>...</td>\n",
       "    </tr>\n",
       "    <tr>\n",
       "      <th>8591</th>\n",
       "      <td>c_995</td>\n",
       "      <td>13.529286</td>\n",
       "      <td>14</td>\n",
       "      <td>68</td>\n",
       "      <td>groupe_3</td>\n",
       "    </tr>\n",
       "    <tr>\n",
       "      <th>8592</th>\n",
       "      <td>c_996</td>\n",
       "      <td>17.055625</td>\n",
       "      <td>96</td>\n",
       "      <td>53</td>\n",
       "      <td>groupe_3</td>\n",
       "    </tr>\n",
       "    <tr>\n",
       "      <th>8593</th>\n",
       "      <td>c_997</td>\n",
       "      <td>25.254407</td>\n",
       "      <td>59</td>\n",
       "      <td>29</td>\n",
       "      <td>groupe_1</td>\n",
       "    </tr>\n",
       "    <tr>\n",
       "      <th>8594</th>\n",
       "      <td>c_998</td>\n",
       "      <td>51.313091</td>\n",
       "      <td>55</td>\n",
       "      <td>22</td>\n",
       "      <td>groupe_1</td>\n",
       "    </tr>\n",
       "    <tr>\n",
       "      <th>8595</th>\n",
       "      <td>c_999</td>\n",
       "      <td>15.247826</td>\n",
       "      <td>46</td>\n",
       "      <td>59</td>\n",
       "      <td>groupe_3</td>\n",
       "    </tr>\n",
       "  </tbody>\n",
       "</table>\n",
       "<p>8596 rows × 5 columns</p>\n",
       "</div>"
      ],
      "text/plain": [
       "     client_id  panier_moyen  session_id  age groupe_age\n",
       "0          c_1     14.628372          43   68   groupe_3\n",
       "1         c_10     23.337931          58   67   groupe_3\n",
       "2        c_100     31.856250           8   31   groupe_2\n",
       "3       c_1000     18.189524         126   57   groupe_3\n",
       "4       c_1001     17.707282         103   41   groupe_2\n",
       "...        ...           ...         ...  ...        ...\n",
       "8591     c_995     13.529286          14   68   groupe_3\n",
       "8592     c_996     17.055625          96   53   groupe_3\n",
       "8593     c_997     25.254407          59   29   groupe_1\n",
       "8594     c_998     51.313091          55   22   groupe_1\n",
       "8595     c_999     15.247826          46   59   groupe_3\n",
       "\n",
       "[8596 rows x 5 columns]"
      ]
     },
     "execution_count": 312,
     "metadata": {},
     "output_type": "execute_result"
    }
   ],
   "source": [
    "panier_moyen_age_reset_final.loc[(panier_moyen_age_reset_final['age'] <= 30), 'groupe_age'] = 'groupe_1'\n",
    "panier_moyen_age_reset_final.loc[(panier_moyen_age_reset_final['age'] >= 31) & (panier_moyen_age_reset_final['age']<= 50), 'groupe_age'] = 'groupe_2'\n",
    "panier_moyen_age_reset_final.loc[(panier_moyen_age_reset_final['age'] >= 51) & (panier_moyen_age_reset_final['age']<= 70), 'groupe_age'] = 'groupe_3'\n",
    "panier_moyen_age_reset_final.loc[(panier_moyen_age_reset_final['age'] >= 71), 'groupe_age'] = 'groupe_4' \n",
    "panier_moyen_age_reset_final\n"
   ]
  },
  {
   "cell_type": "code",
   "execution_count": 313,
   "id": "b9e8155d",
   "metadata": {},
   "outputs": [
    {
     "name": "stdout",
     "output_type": "stream",
     "text": [
      "La p-value est 0.0000, donc on rejette l'hypothèse nulle.\n",
      "Il y a des preuves statistiques que les variances des groupes ne sont pas égales.\n"
     ]
    }
   ],
   "source": [
    "stats.levene(panier_moyen_age_reset_final[panier_moyen_age_reset_final.groupe_age == 'groupe_1']['panier_moyen'],\n",
    "            panier_moyen_age_reset_final[panier_moyen_age_reset_final.groupe_age == 'groupe_2']['panier_moyen'],\n",
    "            panier_moyen_age_reset_final[panier_moyen_age_reset_final.groupe_age == 'groupe_3']['panier_moyen'],\n",
    "            panier_moyen_age_reset_final[panier_moyen_age_reset_final.groupe_age == 'groupe_4']['panier_moyen'], \n",
    "             center = 'median')\n",
    "# Niveau de signification (alpha)\n",
    "alpha = 0.05\n",
    "\n",
    "# Interprétation des résultats\n",
    "if p_value < alpha:\n",
    "    print(f\"La p-value est {p_value:.4f}, donc on rejette l'hypothèse nulle.\")\n",
    "    print(\"Il y a des preuves statistiques que les variances des groupes ne sont pas égales.\")\n",
    "else:\n",
    "    print(f\"La p-value est {p_value:.4f}, donc on n'a pas suffisamment de preuves pour rejeter l'hypothèse nulle.\")\n",
    "    print(\"Les variances des groupes sont approximativement égales.\")"
   ]
  },
  {
   "cell_type": "markdown",
   "id": "3edc158c",
   "metadata": {},
   "source": [
    "## 4.5.4 test de kruskal wallis"
   ]
  },
  {
   "cell_type": "code",
   "execution_count": 314,
   "id": "c7b95ac0",
   "metadata": {},
   "outputs": [
    {
     "name": "stdout",
     "output_type": "stream",
     "text": [
      "KruskalResult(statistic=5150.357538987644, pvalue=0.0)\n",
      "Statistique de test de Kruskal-Wallis : 5150.357538987644\n",
      "Les groupes sont significativement différents (rejeter l'hypothèse nulle).\n"
     ]
    }
   ],
   "source": [
    "groupe_1 = panier_moyen_age_reset_final['panier_moyen'].loc[panier_moyen_age_reset_final['groupe_age'] == 'groupe_1'].to_list()\n",
    "groupe_2 = panier_moyen_age_reset_final['panier_moyen'].loc[panier_moyen_age_reset_final['groupe_age'] == 'groupe_2'].to_list()\n",
    "groupe_3 = panier_moyen_age_reset_final['panier_moyen'].loc[panier_moyen_age_reset_final['groupe_age'] == 'groupe_3'].to_list()\n",
    "groupe_4 = panier_moyen_age_reset_final['panier_moyen'].loc[panier_moyen_age_reset_final['groupe_age'] == 'groupe_4'].to_list()\n",
    "kruskal_result = stats.kruskal(groupe_1, groupe_2, groupe_3, groupe_4)\n",
    "print(kruskal_result)\n",
    "print(\"Statistique de test de Kruskal-Wallis :\", kruskal_result.statistic)\n",
    "\n",
    "# Interprétation de la valeur de p :\n",
    "if kruskal_result.pvalue < 0.05:\n",
    "    print(\"Les groupes sont significativement différents (rejeter l'hypothèse nulle).\")\n",
    "else:\n",
    "    print(\"Il n'y a pas de preuve significative que les groupes diffèrent les uns des autres \")\n",
    "\n",
    "# Si la valeur de p est inférieure au seuil de signification (généralement 0.05), vous pouvez conclure que les moyennes des groupes sont statistiquement différentes. Si la valeur de p est supérieure à 0.05, vous ne disposez pas de preuve suffisante pour affirmer que les groupes diffèrent de manière significative.\n"
   ]
  },
  {
   "cell_type": "markdown",
   "id": "2c29317e",
   "metadata": {},
   "source": [
    "### 4.5.4.1 boxplot par groupe_age et panier_moyen "
   ]
  },
  {
   "cell_type": "code",
   "execution_count": 324,
   "id": "ec796db3",
   "metadata": {},
   "outputs": [
    {
     "name": "stderr",
     "output_type": "stream",
     "text": [
      "No handles with labels found to put in legend.\n"
     ]
    },
    {
     "data": {
      "image/png": "[encoded data removed]",
      "text/plain": [
       "<Figure size 1440x720 with 1 Axes>"
      ]
     },
     "metadata": {
      "needs_background": "light"
     },
     "output_type": "display_data"
    }
   ],
   "source": [
    "plt.figure(figsize=(20,10))\n",
    "sns.boxplot(x = \"groupe_age\", y = \"panier_moyen\", data =panier_moyen_age_reset_final )\n",
    "plt.xlabel('groupe_age') \n",
    "plt.ylabel(\"panier_moyen\")\n",
    "plt.title(\"\")\n",
    "plt.legend()\n",
    "plt.show() "
   ]
  },
  {
   "cell_type": "code",
   "execution_count": null,
   "id": "94f5692c",
   "metadata": {},
   "outputs": [],
   "source": []
  }
 ],
 "metadata": {
  "kernelspec": {
   "display_name": "Python 3 (ipykernel)",
   "language": "python",
   "name": "python3"
  },
  "language_info": {
   "codemirror_mode": {
    "name": "ipython",
    "version": 3
   },
   "file_extension": ".py",
   "mimetype": "text/x-python",
   "name": "python",
   "nbconvert_exporter": "python",
   "pygments_lexer": "ipython3",
   "version": "3.9.7"
  }
 },
 "nbformat": 4,
 "nbformat_minor": 5
}
